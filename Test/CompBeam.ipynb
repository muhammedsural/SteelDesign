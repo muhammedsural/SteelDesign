{
 "cells": [
  {
   "cell_type": "code",
   "execution_count": 1,
   "metadata": {},
   "outputs": [
    {
     "name": "stderr",
     "output_type": "stream",
     "text": [
      "'[image.png]' is not recognized as an internal or external command,\n",
      "operable program or batch file.\n"
     ]
    }
   ],
   "source": [
    "![image.png](attachment:image.png)"
   ]
  },
  {
   "cell_type": "code",
   "execution_count": 2,
   "metadata": {},
   "outputs": [
    {
     "name": "stderr",
     "output_type": "stream",
     "text": [
      "'[image.png]' is not recognized as an internal or external command,\n",
      "operable program or batch file.\n"
     ]
    }
   ],
   "source": [
    "![image.png](attachment:image.png) ![image-2.png](attachment:image-2.png)"
   ]
  },
  {
   "cell_type": "code",
   "execution_count": 3,
   "metadata": {},
   "outputs": [],
   "source": [
    "# definitions\n",
    "\n",
    "beam = {\n",
    "    \"Area\"     : 9880  , #mm2\n",
    "    \"d\"        : 450   , #mm\n",
    "    \"h\"        : 378.8 , #mm\n",
    "    \"b_t\"      : 190   , #mm\n",
    "    \"t_flange\" : 14.6  , #mm\n",
    "    \"t_web\"    : 9.4   , #mm\n",
    "    \"I_x\"      : 33740 , #cm4\n",
    "}\n",
    "\n",
    "sac  = {\n",
    "    \"h_r\"   : 50, #mm görseldeki h, hadve yüksekliği\n",
    "    \"w_r\"   : 165, #mm\n",
    "    \"t_sac\" : 1.2 #mm\n",
    "}\n",
    "\n",
    "anchorage = {\n",
    "    \"r_f\" : 19, #mm\n",
    "    \"h_a\" : 100, #mm\n",
    "    \"Fu\"  : 450 #N/mm2\n",
    "}\n",
    "\n",
    "f_ck = 30 #N/mm2\n",
    "Fy = 355 #N/mm2\n",
    "Fu = 510 #N/mm2\n",
    "Pg = 28 #kN\n",
    "Pq = 10.5 #kN\n",
    "L = 9 #m\n",
    "wg = 1. #kN/m\n",
    "h_c_üs = 80 #mm net beton örtüsü\n",
    "h_c = h_c_üs + sac[\"h_r\"]"
   ]
  },
  {
   "cell_type": "code",
   "execution_count": null,
   "metadata": {},
   "outputs": [],
   "source": []
  }
 ],
 "metadata": {
  "kernelspec": {
   "display_name": "Python 3",
   "language": "python",
   "name": "python3"
  },
  "language_info": {
   "codemirror_mode": {
    "name": "ipython",
    "version": 3
   },
   "file_extension": ".py",
   "mimetype": "text/x-python",
   "name": "python",
   "nbconvert_exporter": "python",
   "pygments_lexer": "ipython3",
   "version": "3.11.3"
  }
 },
 "nbformat": 4,
 "nbformat_minor": 2
}
