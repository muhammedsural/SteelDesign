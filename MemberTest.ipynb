{
 "cells": [
  {
   "cell_type": "code",
   "execution_count": 1,
   "metadata": {},
   "outputs": [],
   "source": [
    "from SteelMemberDesign import Flexure,Shear"
   ]
  },
  {
   "cell_type": "code",
   "execution_count": 2,
   "metadata": {},
   "outputs": [],
   "source": [
    "d              = 440 #mm\n",
    "h              = 344 #mm\n",
    "tw             = 11.5 #mm\n",
    "bf_compression = 300 #mm\n",
    "bf_tension     = 300 #mm\n",
    "tf_comp        = 21 #mm\n",
    "tf_tension     = 21 #mm\n",
    "Vu             = 1370*10**3 #N\n",
    "a_stiffner     = 1500 #mm\n",
    "h0             = 281#mm\n",
    "iy             = 72.9#mm\n",
    "Jc             = 243.8*10**4#mm^4\n",
    "Sx             = 2896*10*3    #mm^3\n",
    "Zx             = 3216*10**3   #mm^3\n",
    "Iy             = 8563 *10**4  #mm^4\n",
    "Lb_ltb         = 8000     #mm\n",
    "Fy             = 355 #N/mm^2\n",
    "E              = 2*10**5 #\n",
    "Vu             = 1220 * 10**3 #N Kesite gelen kesme\n",
    "Mu             = 960 * 10**6  #Nmm Kesite gelen moment\n",
    "Mmax           = 1 #Nmm\n",
    "Ma             = 0.438 #Nmm \n",
    "Mb             = 0.751 #Nmm \n",
    "Mc             = 0.938 #Nmm  "
   ]
  },
  {
   "cell_type": "code",
   "execution_count": 3,
   "metadata": {},
   "outputs": [
    {
     "name": "stdout",
     "output_type": "stream",
     "text": [
      "gövdede, düşey ara rijitlik levhaları kullanıldığından ve a/h > 3.0 olduğundan Yönetmelik 10.2.1 uyarınca, \n",
      "gövde levhası burkulma katsayısı, kv = 5.34\n",
      "h/tw = 29.91 <= 60.33 = 1.10 * (kv*E/Fy)^0.5 ==> Cv1 = 1.0\n",
      "h/tw=29.91 < 75.14360336555977 = 1.37*(kv*E/Fy)^0.5 ==> Cv2 kullanılamıyor.\n",
      "Bu nedenle Cv2 = 0 alındı.\n",
      "Rijitlik levhaları mevcut ....\n",
      "a>0 ama a/h > 3.0 ==> Vnominal = 0.6 * Fy * Aw * Cv1 = 0.6 * 355 * 5060.0 * 1.0 = 1077780.0\n",
      "Vu = 1220.0kN >0.9*1077.78 = 970.002kN  gövde kesme kapasitesi yetersiz rijitlik levhaları kullanılmalı, \n",
      "rijitleştirme levhaları kullanıldı ise çekme alanı etkisi dikkate alınabilir\n",
      "bunlara rağmen kurtarmıyorsa rijitlik levhalarının aralıkları azaltılmalı veya kiriş gövde kalınlığı arttırılmalıdır\n"
     ]
    }
   ],
   "source": [
    "Vn = Shear(Vu,a_stiffner,h,tw,d,bf_compression,tf_comp,bf_tension,tf_tension,E,Fy,Tension_field_action=False)"
   ]
  },
  {
   "cell_type": "code",
   "execution_count": 6,
   "metadata": {},
   "outputs": [
    {
     "name": "stdout",
     "output_type": "stream",
     "text": [
      "Cb = 12.5 * Mmax / (2.5 * Mmax + 3*Ma + 4*Mb + 3*Mc) = 12.5 * 1 / (2.5 * 1 + 3*0.438 + 4*0.751 + 3*0.938) = 1.3\n",
      "\n",
      "Mp = Fy*Zx = 355*3216000 = 1141.68kNm\n",
      "Mp = Fy*Sx = 355*86880 = 30.8424kNm\n",
      "\n",
      "Lp=3045.38 < L_ltb = 8000 <= 261038.77=Lr inelastik LTB oluşur ==> \n",
      "Mn = Cb * (Mp - (Mp - 0.7*Me) * ((Lb - Lp) / (Lr - Lp))) ==> Mn = 1.3 * (1141680000 - (1141680000 - 0.7*30842400) * ((8000 - 3045.38) / (261038.77 - 3045.38))) = 1456220072.4293678\n",
      "\n",
      "Mn = 1456220072.4293678 > 1141680000 = Mp ==> Mn = Mp alındı\n",
      "\n",
      "Lokal burkulma durumu kompakt yüksek sünek kesit seçildiği kabulü ile kontrol edilmemiştir bu nedenle plastik kapasitede herhangi bir azaltma yapılmamıştır. ==> Mn=Mp=Fy*Zx\n",
      "\n",
      "Mn*fi_d = 1027512000.0 >=  Mu = 960000000 ==> Eğilme kapasitesi yeterlidir...\n",
      "\n"
     ]
    }
   ],
   "source": [
    "M_ltb = Flexure(Mu   = Mu,\n",
    "                Lb   = Lb_ltb,\n",
    "                Iy   = Iy,\n",
    "                h0   = h0,\n",
    "                Sx   = Sx,\n",
    "                Zx   = Zx,\n",
    "                iy   = iy,\n",
    "                Fy   = Fy,\n",
    "                E    = E,\n",
    "                Jc   = Jc,\n",
    "                Mmax = Mmax,\n",
    "                Ma   = Ma,\n",
    "                Mb   = Mb,\n",
    "                Mc   = Mc,\n",
    "                fi_d = 0.9\n",
    "            )"
   ]
  },
  {
   "cell_type": "code",
   "execution_count": null,
   "metadata": {},
   "outputs": [],
   "source": []
  }
 ],
 "metadata": {
  "kernelspec": {
   "display_name": "Python 3",
   "language": "python",
   "name": "python3"
  },
  "language_info": {
   "codemirror_mode": {
    "name": "ipython",
    "version": 3
   },
   "file_extension": ".py",
   "mimetype": "text/x-python",
   "name": "python",
   "nbconvert_exporter": "python",
   "pygments_lexer": "ipython3",
   "version": "3.11.4"
  }
 },
 "nbformat": 4,
 "nbformat_minor": 2
}
