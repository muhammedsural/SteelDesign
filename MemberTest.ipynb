{
 "cells": [
  {
   "cell_type": "code",
   "execution_count": 1,
   "metadata": {},
   "outputs": [],
   "source": [
    "from SteelMemberDesign import Flexure,Shear"
   ]
  },
  {
   "cell_type": "code",
   "execution_count": 2,
   "metadata": {},
   "outputs": [],
   "source": [
    "# Geometri\n",
    "d              = 440            #mm     -- Kesit yüksekliği\n",
    "h              = 344            #mm     -- Gövde levhası yüksekliği\n",
    "tw             = 11.5           #mm     -- Gövde levhası et kalınlığı\n",
    "bf_compression = 300            #mm     -- Basınç etkisindeki başlık genişliği\n",
    "bf_tension     = 300            #mm     -- Çekme etkisindeki başlık genişliği\n",
    "tf_comp        = 21             #mm     -- Basınç etkisindeki başlık et kalınlığı\n",
    "tf_tension     = 21             #mm     -- Çekme etkisindeki başlık et kalınlığı\n",
    "a_stiffner     = 1500           #mm     -- Rijitleştirme levhalarının ağırlık merkezleri arasındaki mesafe\n",
    "h0             = 281            #mm     -- Enkesit basliklarinin agirlik merkezleri arasindaki uzaklik\n",
    "Lb_ltb         = 8000           #mm     -- LTB olusmayan serbest boy siniri\n",
    "\n",
    "#Mukavemet özellikleri\n",
    "iy             = 72.9           #mm     -- Kesitin y eksenine göre atalet yaricapi\n",
    "Jc             = 243.8*10**4    #mm^4   -- Burulma sabiti\n",
    "Sx             = 2896*10**3     #mm^3   -- X ekseni etrafında elastik kesit mukavemet momenti\n",
    "Zx             = 3216*10**3     #mm^3   -- X ekseni etrafında plastik kesit mukavemet momenti\n",
    "Iy             = 8563 *10**4    #mm^4   -- Y eksenindeki atalet momenti\n",
    "\n",
    "# Malzeme özellikleri\n",
    "Fy             = 355            #N/mm^2 -- Kesit malzemesinin akma dayanimi \n",
    "E              = 2*10**5        #N/mm   -- Kesit malzemesinin elastisite modulu. Defaults to 2*10**5.\n",
    "\n",
    "# Kuvvetler\n",
    "Vu             = 1220 * 10**3   #N      -- Kesite gelen kesme\n",
    "Mu             = 960 * 10**6    #Nmm    -- Kesite gelen moment\n",
    "Mmax           = 1              #Nmm    -- absolute value of the maximum moment in the unbraced segment\n",
    "Ma             = 0.438          #Nmm    -- absolute value of moment at the quarter-point of the unbraced segment\n",
    "Mb             = 0.751          #Nmm    -- absolute value of moment at the centerline of the unbraced segment\n",
    "Mc             = 0.938          #Nmm    -- absolute value of moment at three-quarter point of the unbraced segment"
   ]
  },
  {
   "cell_type": "code",
   "execution_count": 3,
   "metadata": {},
   "outputs": [
    {
     "name": "stdout",
     "output_type": "stream",
     "text": [
      "gövdede, düşey ara rijitlik levhaları kullanıldığından ve a/h > 3.0 olduğundan Yönetmelik 10.2.1 uyarınca, \n",
      "gövde levhası burkulma katsayısı, kv = 5.34\n",
      "\n",
      "h/tw = 29.91 <= 60.33 = 1.10 * (kv*E/Fy)^0.5 ==> Cv1 = 1.0\n",
      "\n",
      "h/tw=29.91 < 75.14360336555977 = 1.37*(kv*E/Fy)^0.5 ==> Cv2 kullanılamıyor.\n",
      "Bu nedenle Cv2 = 0 alındı.\n",
      "\n",
      "Rijitlik levhaları mevcut ....\n",
      "a>0 ama a/h > 3.0 ==> Vnominal = 0.6 * Fy * Aw * Cv1 = 0.6 * 355 * 5060.0 * 1.0 = 1077780.0\n",
      "\n",
      "Vu = 1220.0kN >0.9*1077.78 = 970.002kN  gövde kesme kapasitesi yetersiz rijitlik levhaları kullanılmalı, \n",
      "rijitleştirme levhaları kullanıldı ise çekme alanı etkisi dikkate alınabilir\n",
      "bunlara rağmen kurtarmıyorsa rijitlik levhalarının aralıkları azaltılmalı veya kiriş gövde kalınlığı arttırılmalıdır\n",
      "\n"
     ]
    }
   ],
   "source": [
    "Vn = Shear(Vu,a_stiffner,h,tw,d,bf_compression,tf_comp,bf_tension,tf_tension,E,Fy,Tension_field_action=False)"
   ]
  },
  {
   "cell_type": "code",
   "execution_count": 4,
   "metadata": {},
   "outputs": [
    {
     "name": "stdout",
     "output_type": "stream",
     "text": [
      "Cb = 12.5 * Mmax / (2.5 * Mmax + 3*Ma + 4*Mb + 3*Mc) = 12.5 * 1 / (2.5 * 1 + 3*0.438 + 4*0.751 + 3*0.938) = 1.3\n",
      "\n",
      "Mp = Fy*Zx = 355*3216000 = 1141.68kNm\n",
      "Mp = Fy*Sx = 355*2896000 = 1028.08kNm\n",
      "\n",
      "Lp=3045.38 < L_ltb = 8000 <= 8702.78=Lr inelastik LTB oluşur ==> \n",
      "Mn = Cb * (Mp - (Mp - 0.7*Me) * ((Lb - Lp) / (Lr - Lp))) ==> Mn = 1.3 * (1141680000 - (1141680000 - 0.7*1028080000) * ((8000 - 3045.38) / (8702.78 - 3045.38))) = 1003705491.1188886\n",
      "\n",
      "Lokal burkulma durumu kompakt yüksek sünek kesit seçildiği kabulü ile kontrol edilmemiştir bu nedenle plastik kapasitede herhangi bir azaltma yapılmamıştır. ==> Mn=Mp=Fy*Zx\n",
      "\n",
      "Mn*fi_d = 903334942.0069997 < Mu = 960000000 ==> Eğilme kapasitesi yetersizdir...\n",
      "\n"
     ]
    }
   ],
   "source": [
    "M_ltb = Flexure(Mu   = Mu,\n",
    "                Lb   = Lb_ltb,\n",
    "                Iy   = Iy,\n",
    "                h0   = h0,\n",
    "                Sx   = Sx,\n",
    "                Zx   = Zx,\n",
    "                iy   = iy,\n",
    "                Fy   = Fy,\n",
    "                E    = E,\n",
    "                Jc   = Jc,\n",
    "                Mmax = Mmax,\n",
    "                Ma   = Ma,\n",
    "                Mb   = Mb,\n",
    "                Mc   = Mc,\n",
    "                fi_d = 0.9\n",
    "            )"
   ]
  },
  {
   "cell_type": "code",
   "execution_count": null,
   "metadata": {},
   "outputs": [],
   "source": []
  }
 ],
 "metadata": {
  "kernelspec": {
   "display_name": "Python 3",
   "language": "python",
   "name": "python3"
  },
  "language_info": {
   "codemirror_mode": {
    "name": "ipython",
    "version": 3
   },
   "file_extension": ".py",
   "mimetype": "text/x-python",
   "name": "python",
   "nbconvert_exporter": "python",
   "pygments_lexer": "ipython3",
   "version": "3.11.3"
  }
 },
 "nbformat": 4,
 "nbformat_minor": 2
}
