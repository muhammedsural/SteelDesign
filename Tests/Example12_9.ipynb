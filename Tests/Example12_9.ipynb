{
 "cells": [
  {
   "cell_type": "markdown",
   "metadata": {},
   "source": [
    "![Example12_9.png](Example12_9.png)\n",
    "![Example12_9-1.png](Example12_9-1.png)"
   ]
  },
  {
   "cell_type": "code",
   "execution_count": 1,
   "metadata": {},
   "outputs": [],
   "source": [
    "import CompositeBeam as comp"
   ]
  },
  {
   "cell_type": "markdown",
   "metadata": {},
   "source": [
    "### Variables"
   ]
  },
  {
   "cell_type": "code",
   "execution_count": 2,
   "metadata": {},
   "outputs": [],
   "source": [
    "# Yapım aşaması yükleri\n",
    "DeadLoad   = 2.5 #kN/m^2\n",
    "LiveLoad_c = 1 #kN/m^2\n",
    "\n",
    "# Kompozit çalışma aşaması yükleri\n",
    "SuperDeadLoad = 2.0 #kN/m^2\n",
    "LiveLoad      = 4.0 #kN/m^2\n",
    "\n",
    "# Beton bilgisi\n",
    "f_ck     = 30     #N/mm2\n",
    "\n",
    "# Çelik malzeme bilgisi\n",
    "Fy       = 355    #N/mm2\n",
    "Fu_beam  = 450    #N/mm2\n",
    "\n",
    "# Çelik enkesit özellikleri\n",
    "Abeam    = 9_880  #mm^2\n",
    "Hbeam    = 450    #mm\n",
    "Hweb     = 378.8  #mm\n",
    "b_flange = 190    #mm\n",
    "t_flange = 14.6   #mm\n",
    "t_web    = 9.4    #mm\n",
    "Ix       = 33_740*10**4 #mm^4\n",
    "Ycon     = 130    #mm Çelik kesit üst başlığından en üst beton lifine olan mesafe\n",
    "\n",
    "# Kiriş uzunluk ve aralık bilgisi\n",
    "Laralık  = 3000   #mm\n",
    "Lbeam    = 7500  #mm\n",
    "\n",
    "# Stud çivisi bilgisi\n",
    "D_stud   = 19\n",
    "H_stud   = 100\n",
    "Fu_stud  = 450 #N/mm2 çelik ankrajın minimum(karakteristik) çekme dayanımı\n",
    "\n",
    "# Metal sac bilgisi\n",
    "hr       = 50     #mm\n",
    "wr       = 165    #mm\n",
    "t_sac    = 1.2    #mm\n"
   ]
  },
  {
   "cell_type": "markdown",
   "metadata": {},
   "source": [
    "### Design Code Requirements"
   ]
  },
  {
   "cell_type": "code",
   "execution_count": 3,
   "metadata": {},
   "outputs": [
    {
     "name": "stdout",
     "output_type": "stream",
     "text": [
      "20 N/mm^2 ≤ 30 N/mm^2 < 70 N/mm^2 √ - TurkishSteelStructureCode 12.2.3(a)\n",
      "355 N/mm^2 ≤ 460 N/mm^2 √ - TurkishSteelStructureCode 12.2.3(c)\n",
      "hr = 50mm ≤ 75mm √ - TurkishSteelStructureCode 12.4.2.3\n",
      "wr = 165mm ≥ 50mm √ - TurkishSteelStructureCode 12.4.2.3\n",
      "h_stud-hr-t_sac = 48.8mm ≥ 38mm √ - TurkishSteelStructureCode 12.4.2.3\n",
      "Ycon - h_stud-t_sac = 28.8mm ≥ 13mm √ - TurkishSteelStructureCode 12.4.2.3\n",
      "Ycon - hr = 80mm ≥ 50mm √ - TurkishSteelStructureCode 12.4.2.3\n",
      "Ds = 19mm ≤ 2.5*tf = 36.5mm √ - TurkishSteelStructureCode \n",
      "Ds = 19mm ≤ 19mm √ - TurkishSteelStructureCode 12.8.1\n",
      "Hs = 100mm ≥ 4*Ds = 76mm √ - TurkishSteelStructureCode 12.8.2\n"
     ]
    },
    {
     "data": {
      "text/plain": [
       "True"
      ]
     },
     "execution_count": 3,
     "metadata": {},
     "output_type": "execute_result"
    }
   ],
   "source": [
    "comp.ConcAvailableStressCheck(f_ck=f_ck)\n",
    "comp.SteelAvailableStressCheck(Fy=Fy)\n",
    "comp.MetalDeckCheck(hr=hr,wr=wr)\n",
    "comp.ConcreteCoverAboveTopOfHeadedStudAnchorsChecks(hr=hr,t_sac=t_sac, h_stud=H_stud, Ycon=Ycon)\n",
    "comp.StudCheck(Ds=D_stud, tf=t_flange, Hs=H_stud, IsWebAlignmentWelded=False)"
   ]
  },
  {
   "cell_type": "markdown",
   "metadata": {},
   "source": [
    "### Yapım aşaması deplasman kontrolü"
   ]
  },
  {
   "cell_type": "code",
   "execution_count": 4,
   "metadata": {},
   "outputs": [
    {
     "data": {
      "text/plain": [
       "(8.5, 3.0)"
      ]
     },
     "execution_count": 4,
     "metadata": {},
     "output_type": "execute_result"
    }
   ],
   "source": [
    "# Yapım aşaması\n",
    "w_girder = 1.0 #kN/m kiriş ağırlığı\n",
    "W_G = comp.calc_w_cdl(DeadLoad=DeadLoad, GirdersSpaceLength=Laralık/10**3) + w_girder\n",
    "W_Q = comp.calc_w_ll(LiveLoad=LiveLoad_c, GirdersSpaceLength=Laralık/10**3)\n",
    "W_G,W_Q"
   ]
  },
  {
   "cell_type": "code",
   "execution_count": 5,
   "metadata": {},
   "outputs": [
    {
     "data": {
      "text/plain": [
       "5.19"
      ]
     },
     "execution_count": 5,
     "metadata": {},
     "output_type": "execute_result"
    }
   ],
   "source": [
    "# Yapım aşaması sabit yüklerinden(döşeme ve çelik kiriş) kaynaklı deplasman\n",
    "delta_cdl = comp.SimpleCompositeBeamDeflection(w=W_G, Lbeam=Lbeam, I=Ix)\n",
    "delta_cdl"
   ]
  },
  {
   "cell_type": "code",
   "execution_count": 6,
   "metadata": {},
   "outputs": [
    {
     "name": "stdout",
     "output_type": "stream",
     "text": [
      "5.19 < 20.833333333333332\n"
     ]
    }
   ],
   "source": [
    "print(f\"{delta_cdl} < {(Lbeam/360)}\")"
   ]
  },
  {
   "cell_type": "code",
   "execution_count": 7,
   "metadata": {},
   "outputs": [
    {
     "name": "stdout",
     "output_type": "stream",
     "text": [
      "delta_cdl = 5.19mm < 19mm or Lbeam = 7500 < 7600mm olduğu için ters sehime gerek yoktur.\n"
     ]
    }
   ],
   "source": [
    "# Ters sehim miktarı\n",
    "delta_c = comp.Camber(delta_cdl=delta_cdl, Lbeam=Lbeam)"
   ]
  },
  {
   "cell_type": "code",
   "execution_count": 8,
   "metadata": {},
   "outputs": [
    {
     "data": {
      "text/plain": [
       "1.83"
      ]
     },
     "execution_count": 8,
     "metadata": {},
     "output_type": "execute_result"
    }
   ],
   "source": [
    "# Yapım aşaması hareketli yüklerinden kaynaklı deplasman\n",
    "delta_yll = comp.SimpleCompositeBeamDeflection(w=W_Q, Lbeam=Lbeam, I=Ix)\n",
    "delta_yll"
   ]
  },
  {
   "cell_type": "code",
   "execution_count": 9,
   "metadata": {},
   "outputs": [
    {
     "data": {
      "text/plain": [
       "7.02"
      ]
     },
     "execution_count": 9,
     "metadata": {},
     "output_type": "execute_result"
    }
   ],
   "source": [
    "# Yapım aşaması toplam düşey yerdeğiştirme, super dead düşey yerdeğiştirmesi yapım öncesi olmadığı için 0.0\n",
    "delta_ytl = comp.calc_Delta_TL(delta_cdl=delta_cdl, delta_sdl=0., delta_ll=delta_yll,delta_c=delta_c)\n",
    "delta_ytl"
   ]
  },
  {
   "cell_type": "markdown",
   "metadata": {},
   "source": [
    "### Kompozit kirişin karakteristik eğilme momenti dayanımının belirlenmesi"
   ]
  },
  {
   "cell_type": "code",
   "execution_count": 10,
   "metadata": {},
   "outputs": [
    {
     "name": "stdout",
     "output_type": "stream",
     "text": [
      "alfa = 47.87 ≤ 3.76*(E/Fy)^0.5 = 89.25 √\n"
     ]
    }
   ],
   "source": [
    "# Kirişenkesit kontrolü\n",
    "alfa = Hbeam/t_web\n",
    "print(f\"alfa = {round(alfa,2)} ≤ 3.76*(E/Fy)^0.5 = {round(3.76*(2*10**5/Fy)**0.5,2)} √\")"
   ]
  },
  {
   "cell_type": "code",
   "execution_count": 11,
   "metadata": {},
   "outputs": [
    {
     "data": {
      "text/plain": [
       "1875.0"
      ]
     },
     "execution_count": 11,
     "metadata": {},
     "output_type": "execute_result"
    }
   ],
   "source": [
    "# Effektif döşeme genişliği\n",
    "b_eff = comp.EffectiveSlabWidth(L=Lbeam, Lu=Laralık)\n",
    "b_eff"
   ]
  },
  {
   "cell_type": "code",
   "execution_count": 12,
   "metadata": {},
   "outputs": [
    {
     "data": {
      "text/plain": [
       "80"
      ]
     },
     "execution_count": 12,
     "metadata": {},
     "output_type": "execute_result"
    }
   ],
   "source": [
    "# Stud çivisiz beton yüksekliği\n",
    "tc = comp.Calc_tc(hr=hr,Ycon=Ycon,IsParallel=False)\n",
    "tc"
   ]
  },
  {
   "cell_type": "code",
   "execution_count": 13,
   "metadata": {},
   "outputs": [
    {
     "data": {
      "text/plain": [
       "150000.0"
      ]
     },
     "execution_count": 13,
     "metadata": {},
     "output_type": "execute_result"
    }
   ],
   "source": [
    "# Stud çivisiz beton alanı\n",
    "Ac = b_eff * tc\n",
    "Ac"
   ]
  },
  {
   "cell_type": "code",
   "execution_count": 14,
   "metadata": {},
   "outputs": [
    {
     "data": {
      "text/plain": [
       "3507400"
      ]
     },
     "execution_count": 14,
     "metadata": {},
     "output_type": "execute_result"
    }
   ],
   "source": [
    "Cs = comp.YieldBeamCapacity(fy=Fy,As=Abeam)\n",
    "Cs"
   ]
  },
  {
   "cell_type": "code",
   "execution_count": 15,
   "metadata": {},
   "outputs": [
    {
     "data": {
      "text/plain": [
       "3825000.0"
      ]
     },
     "execution_count": 15,
     "metadata": {},
     "output_type": "execute_result"
    }
   ],
   "source": [
    "Cc = comp.CrushConcCapacity(fck=f_ck,Ac=Ac)\n",
    "Cc"
   ]
  },
  {
   "cell_type": "code",
   "execution_count": 16,
   "metadata": {},
   "outputs": [
    {
     "name": "stdout",
     "output_type": "stream",
     "text": [
      "a = 73.35738562091504 mm\n",
      "Y2 = 93.32130718954248 mm\n",
      "Kompozit kiriş tam etkileşimlidir. Plastik tarafsız eksen beton döşemenin içindedir.\n",
      "φMn = φ * (min(C_conc,T_steel) * ( 0.5*Hbeam + hr + tc - 0.5*a)) = 0.9 * 3507400 *  318.32 = 1004832137.553\n"
     ]
    },
    {
     "data": {
      "text/plain": [
       "1004.83213755"
      ]
     },
     "execution_count": 16,
     "metadata": {},
     "output_type": "execute_result"
    }
   ],
   "source": [
    "Mn_design = comp.CompositeBeamDesignFlexuralCapacity(C_conc=Cc, T_steel=Cs, Ycon=Ycon, \n",
    "                                    BeamAs=Abeam, BeamFy= Fy, Hbeam=Hbeam, t_flange=t_flange, b_flange=b_flange, \n",
    "                                    Ac = Ac, hr=hr,fck=f_ck, beff=b_eff, tc=tc, t_web=t_web)\n",
    "Mn_design/10**6"
   ]
  },
  {
   "cell_type": "markdown",
   "metadata": {},
   "source": [
    "### Arttırılmış düşey yükler altında eğilme momenti kapasite talebi"
   ]
  },
  {
   "cell_type": "code",
   "execution_count": 17,
   "metadata": {},
   "outputs": [
    {
     "data": {
      "text/plain": [
       "6.0"
      ]
     },
     "execution_count": 17,
     "metadata": {},
     "output_type": "execute_result"
    }
   ],
   "source": [
    "W_superdeadload = comp.calc_w_sdl(SuperDeadLoad=SuperDeadLoad,GirdersSpaceLength=Laralık/10**3)\n",
    "W_superdeadload"
   ]
  },
  {
   "cell_type": "code",
   "execution_count": 18,
   "metadata": {},
   "outputs": [
    {
     "data": {
      "text/plain": [
       "14.5"
      ]
     },
     "execution_count": 18,
     "metadata": {},
     "output_type": "execute_result"
    }
   ],
   "source": [
    "W_G_composite = W_G + W_superdeadload\n",
    "W_G_composite"
   ]
  },
  {
   "cell_type": "code",
   "execution_count": 19,
   "metadata": {},
   "outputs": [
    {
     "data": {
      "text/plain": [
       "12.0"
      ]
     },
     "execution_count": 19,
     "metadata": {},
     "output_type": "execute_result"
    }
   ],
   "source": [
    "W_Q_composite = comp.calc_w_ll(LiveLoad=LiveLoad, GirdersSpaceLength=Laralık/10**3)\n",
    "W_Q_composite"
   ]
  },
  {
   "cell_type": "code",
   "execution_count": 20,
   "metadata": {},
   "outputs": [
    {
     "data": {
      "text/plain": [
       "36.6"
      ]
     },
     "execution_count": 20,
     "metadata": {},
     "output_type": "execute_result"
    }
   ],
   "source": [
    "W_TL = comp.calc_w_tl(w_dl=W_G_composite, w_ll=W_Q_composite)\n",
    "W_TL"
   ]
  },
  {
   "cell_type": "code",
   "execution_count": 21,
   "metadata": {},
   "outputs": [
    {
     "data": {
      "text/plain": [
       "257.34375"
      ]
     },
     "execution_count": 21,
     "metadata": {},
     "output_type": "execute_result"
    }
   ],
   "source": [
    "M_demand = W_TL * Lbeam**2 /8\n",
    "M_demand/10**6"
   ]
  },
  {
   "cell_type": "markdown",
   "metadata": {},
   "source": [
    "### Talep/Kapasite oranı"
   ]
  },
  {
   "cell_type": "code",
   "execution_count": 22,
   "metadata": {},
   "outputs": [
    {
     "data": {
      "text/plain": [
       "0.26"
      ]
     },
     "execution_count": 22,
     "metadata": {},
     "output_type": "execute_result"
    }
   ],
   "source": [
    "flexuralcapacityratio = round(M_demand / Mn_design,2)\n",
    "flexuralcapacityratio"
   ]
  },
  {
   "cell_type": "markdown",
   "metadata": {},
   "source": [
    "### Başlıklı çelik ankrajların sayısı ve yerleşimi"
   ]
  },
  {
   "cell_type": "code",
   "execution_count": 23,
   "metadata": {},
   "outputs": [
    {
     "data": {
      "text/plain": [
       "27691.465833357393"
      ]
     },
     "execution_count": 23,
     "metadata": {},
     "output_type": "execute_result"
    }
   ],
   "source": [
    "Ec = comp.ConcreteYoungModules(fck=f_ck, wc=2400)\n",
    "Ec"
   ]
  },
  {
   "cell_type": "code",
   "execution_count": 24,
   "metadata": {},
   "outputs": [
    {
     "data": {
      "text/plain": [
       "283.385"
      ]
     },
     "execution_count": 24,
     "metadata": {},
     "output_type": "execute_result"
    }
   ],
   "source": [
    "A_sa = 3.14 * D_stud**2 /4\n",
    "A_sa"
   ]
  },
  {
   "cell_type": "code",
   "execution_count": 25,
   "metadata": {},
   "outputs": [
    {
     "data": {
      "text/plain": [
       "0.85"
      ]
     },
     "execution_count": 25,
     "metadata": {},
     "output_type": "execute_result"
    }
   ],
   "source": [
    "Rg = comp.GetRg(StudsNumberInFlangeWidth=2, wr=wr, hr=hr, IsPitchParaleltoBeam=False)\n",
    "Rg"
   ]
  },
  {
   "cell_type": "code",
   "execution_count": 26,
   "metadata": {},
   "outputs": [
    {
     "data": {
      "text/plain": [
       "0.75"
      ]
     },
     "execution_count": 26,
     "metadata": {},
     "output_type": "execute_result"
    }
   ],
   "source": [
    "Rp = comp.GetRp(Hs = H_stud, hr =hr, t_studhead = 5, IsPitchParaleltoBeam=False)\n",
    "Rp"
   ]
  },
  {
   "cell_type": "code",
   "execution_count": 27,
   "metadata": {},
   "outputs": [
    {
     "name": "stdout",
     "output_type": "stream",
     "text": [
      "Qn = 0.5 * Asa * (fck*Ec)**0.5 = 129145.852\n",
      "Qn = 92135.548 > Rg*Rp*Asa*Fu = 129145.852 ==> Qn = 129145.852\n"
     ]
    },
    {
     "data": {
      "text/plain": [
       "92135.548"
      ]
     },
     "execution_count": 27,
     "metadata": {},
     "output_type": "execute_result"
    }
   ],
   "source": [
    "Qn = comp.OneStudShearCapacity(Asa=A_sa, fck=f_ck, Ec=Ec, Rg=Rg, Rp=Rp, Fu=Fu_beam)\n",
    "Qn"
   ]
  },
  {
   "cell_type": "code",
   "execution_count": 28,
   "metadata": {},
   "outputs": [],
   "source": [
    "# TotalQn = ShearStudCapacity(N=N, Qn=Qn)\n",
    "# Itr = Calc_I_tr(n=n, b_eff=beff,hr=hr,hc=hc,hb=Hbeam,Ab=BeamAs,Ibeam=Ibeam)\n",
    "# Cf = Calc_Cf(Vbeam=T_steel,Vcon=C_conc)\n",
    "# Ieff = Calc_I_eff(Ibeam=Ibeam, TotalQn=TotalQn, Cf=Cf, Itr=Itr)"
   ]
  },
  {
   "cell_type": "code",
   "execution_count": null,
   "metadata": {},
   "outputs": [],
   "source": []
  }
 ],
 "metadata": {
  "kernelspec": {
   "display_name": "Python 3",
   "language": "python",
   "name": "python3"
  },
  "language_info": {
   "codemirror_mode": {
    "name": "ipython",
    "version": 3
   },
   "file_extension": ".py",
   "mimetype": "text/x-python",
   "name": "python",
   "nbconvert_exporter": "python",
   "pygments_lexer": "ipython3",
   "version": "3.12.3"
  }
 },
 "nbformat": 4,
 "nbformat_minor": 2
}
