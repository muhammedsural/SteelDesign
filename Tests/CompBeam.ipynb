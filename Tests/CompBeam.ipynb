{
 "cells": [
  {
   "cell_type": "code",
   "execution_count": null,
   "metadata": {},
   "outputs": [],
   "source": [
    "![image.png](attachment:image.png)"
   ]
  },
  {
   "cell_type": "code",
   "execution_count": null,
   "metadata": {},
   "outputs": [],
   "source": [
    "![image.png](attachment:image.png) ![image-2.png](attachment:image-2.png)"
   ]
  },
  {
   "cell_type": "code",
   "execution_count": null,
   "metadata": {},
   "outputs": [],
   "source": [
    "# definitions\n",
    "\n",
    "beam = {\n",
    "    \"Area\"     : 9880  , #mm2\n",
    "    \"d\"        : 450   , #mm\n",
    "    \"h\"        : 378.8 , #mm\n",
    "    \"b_t\"      : 190   , #mm\n",
    "    \"t_flange\" : 14.6  , #mm\n",
    "    \"t_web\"    : 9.4   , #mm\n",
    "    \"I_x\"      : 33740 , #cm4\n",
    "}\n",
    "\n",
    "sac  = {\n",
    "    \"h_r\"   : 50, #mm görseldeki h, hadve yüksekliği\n",
    "    \"w_r\"   : 165, #mm\n",
    "    \"t_sac\" : 1.2 #mm\n",
    "}\n",
    "\n",
    "anchorage = {\n",
    "    \"r_f\" : 19, #mm\n",
    "    \"h_a\" : 100, #mm\n",
    "    \"Fu\"  : 450 #N/mm2\n",
    "}\n",
    "\n",
    "f_ck = 30 #N/mm2\n",
    "Fy = 355 #N/mm2\n",
    "Fu = 510 #N/mm2\n",
    "Pg = 28 #kN\n",
    "Pq = 10.5 #kN\n",
    "L = 9 #m\n",
    "wg = 1. #kN/m\n",
    "h_c_üs = 80 #mm net beton örtüsü\n",
    "h_c = h_c_üs + sac[\"h_r\"]"
   ]
  },
  {
   "cell_type": "code",
   "execution_count": 27,
   "metadata": {
    "notebookRunGroups": {
     "groupValue": "1"
    }
   },
   "outputs": [],
   "source": [
    "def StudCheck(Ds : float, tf : float, Hs : float, IsWebAlignmentWelded : bool = False)-> bool:\n",
    "    \"\"\"_summary_\n",
    "\n",
    "    Args:\n",
    "        Ds (float): _description_\n",
    "        tf (float): _description_\n",
    "        Hs (float): Stud çivisi yüksekliği\n",
    "        IsWebAlignmentWelded (bool, optional): _description_. Defaults to False.\n",
    "\n",
    "    Returns:\n",
    "        bool: _description_\n",
    "    \"\"\"\n",
    "\n",
    "    if Ds > 2.5*tf or Ds > 19:\n",
    "        print(f\"Ds = {Ds}mm > 2.5*tf = {2.5*tf}mm X\")\n",
    "        print(f\"Ds = {Ds}mm > 19mm X\")\n",
    "        return False\n",
    "    if Hs < 4*Ds:\n",
    "        print(f\"Hs = {Hs}mm < 4*Ds = {4*Ds}mm X\")\n",
    "        return False\n",
    "    if IsWebAlignmentWelded:\n",
    "        print(\"Stud çivisi gövde hizasında bağlandığı için bu kontrollere gerek yoktur.\")\n",
    "        return True\n",
    "    print(f\"Ds = {Ds}mm ≤ 2.5*tf = {2.5*tf}mm √\")\n",
    "    print(f\"Ds = {Ds}mm ≤ 19mm √\")\n",
    "    print(f\"Hs = {Hs}mm ≥ 4*Ds = {4*Ds}mm √\")\n",
    "    return True\n",
    "\n",
    "def StudSpaceCheck(Ds : float, s : float, Ycon : float) -> bool:\n",
    "    \"\"\"_summary_\n",
    "\n",
    "    Args:\n",
    "        Ds (float): _description_\n",
    "        s (float): _description_\n",
    "        Ycon (float): _description_\n",
    "\n",
    "    Returns:\n",
    "        bool: _description_\n",
    "    \"\"\"\n",
    "\n",
    "    if s < 6*Ds or s > 8*Ycon or s >914:\n",
    "        print(f\"s = {s}mm < {6*Ds}mm X\")\n",
    "        print(f\"s = {s}mm > {8*Ycon}mm X\")\n",
    "        print(f\"s = {s}mm > 914mm X\")\n",
    "        return False\n",
    "    print(f\"s = {s}mm ≥ {6*Ds}mm √\")\n",
    "    print(f\"s = {s}mm ≤ {8*Ycon}mm √\")\n",
    "    print(f\"s = {s}mm ≤ 914mm √\")\n",
    "    return True\n",
    "\n",
    "def DistanceBetweenTwoStudsCheck(x : float, Ds : float)-> bool:\n",
    "\n",
    "    if x < 4*Ds:\n",
    "        return False\n",
    "    return True\n",
    "\n",
    "def HadveUzerindeKalanStudBoyutlarıKontrolu(hr : float, t_sac : float, h_stud: float, Ycon : float) -> bool:\n",
    "    \"\"\"_summary_\n",
    "\n",
    "    Args:\n",
    "        hr (float): Hadve yüksekliği\n",
    "        h_stud (float): Stud çivisi yüksekliği\n",
    "        Ycon (float): Çelik kesit üst başlığından en üst beton lifine olan mesafe\n",
    "\n",
    "    Returns:\n",
    "        bool: _description_\n",
    "    \"\"\"\n",
    "    if h_stud-hr-t_sac < 38 or Ycon - h_stud < 13 or Ycon - hr < 50:\n",
    "        print(f\"h_stud-hr-t_sac = {h_stud-hr-t_sac}mm < 38mm X\")\n",
    "        print(f\"Ycon - h_stud-t_sac = {Ycon - h_stud-t_sac}mm < 13mm X\")\n",
    "        print(f\"Ycon - hr = {Ycon - hr}mm < 50mm X\")\n",
    "        return False\n",
    "    print(f\"h_stud-hr-t_sac = {h_stud-hr-t_sac}mm ≥ 38mm √\")\n",
    "    print(f\"Ycon - h_stud-t_sac = {Ycon - h_stud-t_sac}mm ≥ 13mm √\")\n",
    "    print(f\"Ycon - hr = {Ycon - hr}mm ≥ 50mm √\")\n",
    "    return True\n",
    "\n",
    "def MetalDeckCheck(hr : float, wr : float)-> bool:\n",
    "    \"\"\"_summary_\n",
    "\n",
    "    Args:\n",
    "        hr (float): Hadve yüksekliği\n",
    "        wr (float): Hadve genişliği\n",
    "\n",
    "    Returns:\n",
    "        bool: _description_\n",
    "    \"\"\"\n",
    "    if hr > 75 or wr < 50 :\n",
    "        print(f\"hr = {hr}mm > 75mm X\")\n",
    "        print(f\"wr = {wr}mm < 50mm X\")\n",
    "        return False\n",
    "    print(f\"hr = {hr}mm ≤ 75mm √\")\n",
    "    print(f\"wr = {wr}mm ≥ 50mm √\")\n",
    "    return True\n",
    "\n",
    "def ConcAvailableStressCheck(f_ck : float) -> bool:\n",
    "    if 20 <= f_ck and f_ck<70:\n",
    "        print(f\"20 N/mm^2 ≤ {f_ck} N/mm^2 < 70 N/mm^2 √\")\n",
    "        return True\n",
    "    else:\n",
    "        print(f\"20 ≤ {f_ck} < 70 X\")\n",
    "        return False\n",
    "\n",
    "def SteelAvailableStressCheck(Fy : float) -> bool:\n",
    "    if Fy <= 460:\n",
    "        print(f\"{Fy} N/mm^2 ≤ 460 N/mm^2 √\")\n",
    "        return True\n",
    "    else:\n",
    "        print(f\"Çelik sınıfı yönetmelik şartını sağlamamaktadır => {Fy} > {460} X\")\n",
    "        False\n",
    "\n",
    "def ConcreteYoungModules(fck : float,wc : float = 2320)-> float:\n",
    "    \"\"\"_summary_\n",
    "\n",
    "    Args:\n",
    "        fck (float): MPa\n",
    "        wc (float, optional): . Defaults to 2320 kg/m^3.\n",
    "\n",
    "    Returns:\n",
    "        float: _description_\n",
    "    \"\"\"\n",
    "    Ec = 0.043 * wc **1.5 * fck**0.5\n",
    "    return Ec\n",
    "\n",
    "def RatioYoungModules(Ec : float,Es : float = 2*10**5)-> float:\n",
    "    \"\"\"_summary_\n",
    "\n",
    "    Args:\n",
    "        Ec (float): MPa\n",
    "        Es (float, optional): MPa. Defaults to 2*10**5.\n",
    "        \n",
    "\n",
    "    Returns:\n",
    "        float: _description_\n",
    "    \"\"\"\n",
    "    return round(Es/Ec,3)\n",
    "\n",
    "def ChengedConcToSteelArea(n : float, Ac)-> float:\n",
    "    return round(Ac/n,3)\n",
    "\n",
    "def CrushConcCapacity(fck : float, Ac : float)-> float:\n",
    "    return round(0.85*fck*Ac,3)\n",
    "\n",
    "def YieldBeamCapacity(fy : float, As : float)-> float:\n",
    "    return round(fy*As,3)\n",
    "\n",
    "def OneStudShearCapacity(Asa : float, fck : float, Ec : float, Rg : float, Rp : float, Fu : float = 448)-> float:\n",
    "    Qn = 0.5 * Asa * (fck*Ec)**0.5\n",
    "    TrashHold = Rg*Rp*Asa*Fu\n",
    "    if Qn > TrashHold:\n",
    "        Qn = TrashHold\n",
    "    return round(TrashHold,3)\n",
    "\n",
    "def ShearStudCapacity(N : int, Qn : float)-> float:\n",
    "    \"\"\"_summary_\n",
    "\n",
    "    Args:\n",
    "        N (int): Total shear stud number\n",
    "        Qn (float): One stud shear capacity\n",
    "\n",
    "    Returns:\n",
    "        float: _description_\n",
    "    \"\"\"\n",
    "    return round(N*Qn,3)\n",
    "\n",
    "def EffectiveSlabWidth(L : float, Lu : float) -> float:\n",
    "    \"\"\"Efektif kompozit döşeme genişliği hesabı\n",
    "\n",
    "    Args:\n",
    "        L (float): Kiriş uzunluğu birim : m\n",
    "        Lu (float): Kiriş aralığı birim : m\n",
    "\n",
    "    Returns:\n",
    "        b_eff float: efektif döşeme genişliği birim : m\n",
    "    \"\"\"\n",
    "    b1 = L/8\n",
    "    b2 = Lu/2\n",
    "\n",
    "    b = 2*min(b1,b2)\n",
    "\n",
    "    return b\n",
    "\n",
    "def Calc_tc(hr : float, Ycon : float,IsParallel : bool)-> float:\n",
    "    if IsParallel:\n",
    "        tc = Ycon - (hr/2)\n",
    "    else:\n",
    "        tc = Ycon - hr\n",
    "\n",
    "    return tc\n",
    "\n",
    "def GetRp(IsPitchParaleltoBeam: bool=False)-> float:\n",
    "    \"\"\"Şekil verilmiş döşeme sacı için azaltma katsayısı\n",
    "\n",
    "    Args:\n",
    "        IsPitchParaleltoBeam (bool, optional): Döşeme sacı hadveleri kirişlere paralel ise True değilse False. Defaults to False.\n",
    "\n",
    "    Returns:\n",
    "        float: Rp değeri\n",
    "    \"\"\"\n",
    "    if IsPitchParaleltoBeam:\n",
    "        Rp = 0.75\n",
    "    else:\n",
    "        Rp = 0.6\n",
    "\n",
    "    return Rp\n",
    "\n",
    "def GetRg(StudsNumberInFlangeWidth : int, wr : float, hr : float, IsPitchParaleltoBeam: bool=False)-> float:\n",
    "    \"\"\"Şekil verilmiş döşeme sacı için azaltma katsayısı\n",
    "\n",
    "    Args:\n",
    "        StudsNumberInFlangeWidth (int): Kiriş başlık genişliğinde kaynaklanacak kayma çivisi adeti\n",
    "        wr (float): Hadve genişliği\n",
    "        hr (float): Hadve yüksekliği\n",
    "        IsPitchParaleltoBeam (bool, optional): Döşeme sacı hadveleri kirişlere paralel ise True değilse False. Defaults to False.\n",
    "\n",
    "    Returns:\n",
    "        float: Rg değeri\n",
    "    \"\"\"\n",
    "    ratio = wr/hr\n",
    "\n",
    "    if IsPitchParaleltoBeam:\n",
    "        if ratio < 1.5:\n",
    "            Rg = 0.85\n",
    "        else:\n",
    "            Rg = 1.0\n",
    "    else:\n",
    "        if StudsNumberInFlangeWidth == 1:\n",
    "            Rg = 1.0\n",
    "        if StudsNumberInFlangeWidth == 2:\n",
    "            Rg = 0.85\n",
    "        if StudsNumberInFlangeWidth >= 3:\n",
    "            Rg = 0.7\n",
    "    \n",
    "    return Rg\n",
    "\n",
    "def Act(Ac : float, n : float)-> float:\n",
    "    \"\"\"_summary_\n",
    "\n",
    "    Args:\n",
    "        Ac (float): _description_\n",
    "        n (float): Çelik elastisite modülünün beton elastisite modülüne oranı\n",
    "\n",
    "    Returns:\n",
    "        float: _description_\n",
    "    \"\"\"\n",
    "    return Ac/n\n",
    "\n",
    "def Calc_I_tr(Act : float,n : float,b_eff : float, hr : float, tc : float, hb : float,Ab : float, Ibeam : float)-> float:\n",
    "    \"\"\"_summary_\n",
    "\n",
    "    Args:\n",
    "        n (float): Çelik elastisite modülünün beton elastisite modülüne oranı\n",
    "        b_eff (float): Efektif döşeme genişliği\n",
    "        hr (float): Hadve yüksekliği\n",
    "        tc (float): Beton döşeme yüksekliği\n",
    "        hb (float): Kiriş yüksekliği\n",
    "        Ab (float): Kiriş alanı\n",
    "        Ibeam (float): Kiriş atalet momenti\n",
    "\n",
    "    Returns:\n",
    "        float: Dönüştürülmüş kesitin atalet momenti\n",
    "    \"\"\"\n",
    "\n",
    "    Ict = b_eff * tc**3 / (12 * n)\n",
    "    print(f\"Ict = {Ict}\")\n",
    "\n",
    "    y_beam = tc + hr + hb/2\n",
    "    y_conc = tc / 2\n",
    "    print(f\"y_beam = {y_beam}, y_conc ={y_conc}\")\n",
    "\n",
    "    TotalAy = Act * y_conc + Ab * y_beam\n",
    "    TotalA = Act + Ab\n",
    "    print(f\"TotalAy = {TotalAy}, TotalA = {TotalA}\")\n",
    "\n",
    "    Y = TotalAy/TotalA\n",
    "    print(f\"Y ={Y}\")\n",
    "\n",
    "    d_conc = y_conc - Y\n",
    "    d_beam = y_beam - Y\n",
    "    print(f\"d_conc ={d_conc}, d_beam = {d_beam}\")\n",
    "\n",
    "    IAd2_conc = Ict + (Act * d_conc**2)\n",
    "    IAd2_beam = Ibeam + (Ab * d_beam**2)\n",
    "    print(f\"IAd2_conc = {IAd2_conc}, IAd2_beam = {IAd2_beam}\")\n",
    "\n",
    "    Itr = IAd2_beam + IAd2_conc\n",
    "\n",
    "    return Itr\n",
    "\n",
    "def Calc_Cf(Vbeam : float, Vcon : float):\n",
    "    return min(Vbeam,Vcon)\n",
    "\n",
    "def Calc_I_eff(Ibeam : float, TotalQn : float, Cf : float, Itr : float)-> float:\n",
    "    ratiocomposite = (TotalQn / Cf)\n",
    "\n",
    "    if ratiocomposite < 0.25:\n",
    "        print(f\"Kompozitlik oranı 0.25 değerinin altında olamaz stud çivisini arttırın veya daha yüksek dayanımlı bir stud çivisi seçin. {round(ratiocomposite,3)} < 0.25\")\n",
    "        return 0.0\n",
    "\n",
    "    Ieff = Ibeam + ratiocomposite**0.5 * (Itr - Ibeam)\n",
    "\n",
    "    return Ieff\n",
    "\n",
    "def CompositeBeamDesignFlexuralCapacity(C_conc : float, T_steel : float, Ycon : float,\n",
    "                                        BeamAs : float, BeamFy : float, Hbeam : float, t_flange : float, b_flange : float,\n",
    "                                        Ac : float,hr : float,fck : float, beff : float, tc : float, t_web : float, fi_b : float = 0.9) -> float:\n",
    "\n",
    "    C = min(C_conc,T_steel)\n",
    "    a = C / (0.85 * fck * beff)\n",
    "    print(f\"a = {a} mm\")\n",
    "    Y2 = Ycon - (a/2)\n",
    "    print(f\"Y2 = {Y2} mm\")\n",
    "\n",
    "    if C_conc < T_steel : \n",
    "        print(f\"Kompozit kiriş kısmi etkileşimlidir. Kompozitlik oranı %25'in altına inmemelidir.\")\n",
    "\n",
    "        A_steelcomp = (T_steel - C_conc) / (2*BeamFy)\n",
    "        Y1 = round(A_steelcomp/b_flange,2)\n",
    "        print(f\"Y1(veya tf') = {Y1} mm\")\n",
    "        \n",
    "        if Y1 < t_flange:\n",
    "            print(\"PTE kiriş başlığındadır.\")\n",
    "            Csflange = Fy*b_flange*Y1\n",
    "            print(f\"Csflange = Fy*b_flange*Y1 = {Csflange} N\")\n",
    "            DesignMn = fi_b * ( (C_conc*(Y1+Y2)) + (2*Csflange*Y1/2) + (BeamAs*BeamFy*( (Hbeam/2) - Y1)) )\n",
    "\n",
    "        if Y1 >= t_flange:\n",
    "            print(\"PTE kiriş gövdesindedir.\")\n",
    "            Cflange = b_flange * t_flange * Fy\n",
    "            print(f\"Cflange = b_flange * t_flange * Fy = {Cflange} N\")\n",
    "            Y1 = ((T_steel - C_conc - 2*Cflange) / (2*t_web*Fy)) + t_flange\n",
    "            print(f\"Y1 = ((T_steel - C_conc - 2*Cflange) / (2*t_web*Fy)) + t_flange = {Y1}mm\")\n",
    "            Cweb    = t_web * Fy * (Y1 - t_flange)\n",
    "            print(f\"Cweb = t_web * Fy * (Y1 - t_flange) = {Cweb} N\")\n",
    "            DesignMn = fi_b * (C_conc*(Y1+Y2) + 2*Cflange*(Y1 - 0.5*t_flange) + 2*Cweb*(0.5*(Y1-t_flange)) + T_steel*(0.5*Hbeam-Y1))\n",
    "            print(f\"φMn = φ * (C_conc*(Y1+Y2) + 2*Cflange*(Y1 - 0.5*t_flange) + 2*Cweb*(0.5*(Y1-t_flange)) + T_steel*(0.5*Hbeam-Y1)) = {fi_b} * [{round(C_conc*(Y1+Y2),2)} + {round(2*Cflange*(Y1 - 0.5*t_flange),2)} + {round(2*Cweb*(0.5*(Y1-t_flange)),2)} + {round(T_steel*(0.5*Hbeam-Y1),2)}] = {round(DesignMn,3)} \")\n",
    "\n",
    "    if C_conc >= T_steel :\n",
    "        print(f\"Kompozit kiriş tam etkileşimlidir. Plastik tarafsız eksen beton döşemenin içindedir.\")\n",
    "        DesignMn = fi_b * min(C_conc,T_steel) * ( 0.5*Hbeam + hr + tc - 0.5*a)\n",
    "        print(f\"φMn = φ * min(C_conc,T_steel) * ( 0.5*Hbeam + hr + tc - 0.5*a) = {fi_b} * {round(min(C_conc,T_steel),2)} *  {round( ( 0.5*Hbeam + hr + tc - 0.5*a),2)} = {round(DesignMn,3)}\")\n",
    "\n",
    "    return DesignMn\n",
    "\n",
    "def calc_deflection(Beam : list,L : float , Pg : float,Pq : float,w_g : float = 1,E : float = 20_000):\n",
    "    delta_1 = ((2 * Pg * L**3 * 10**3 / (28*E*Beam[6]*10**4)) + (5*w_g*L**4/(384*E*Beam[6]*10**4)))/10\n",
    "    delta_2 = (2* Pq * L**3 * 10**3 / (28*E*Beam[6]*10**4))/10\n",
    "    print(f\"{delta_1} + {delta_2} = {delta_1+delta_2}\")\n",
    "    delta_yapım = delta_1 + delta_2\n",
    "\n",
    "    return delta_yapım\n",
    "\n",
    "def check_deflection(Beam : list,L : float , Pg : float,Pq : float,w_g : float = 1.,E : float = 20_000) :\n",
    "    delta_1 = ((2 * Pg * L**3 * 10**3 / (28*E*Beam[6]*10**4)) + (5*w_g*L**4/(384*E*Beam[6]*10**4)))/10\n",
    "    delta_2 = (2* Pq * L**3 * 10**3 / (28*E*Beam[6]*10**4))/10\n",
    "\n",
    "    delta_yapım = delta_1 + delta_2\n",
    "\n",
    "    if delta_1 > L/360:\n",
    "        print(f\"Sehim sınırı sağlanamadı => {delta_1}>{L/360}\\nBu koşulun sağlanamadığı durumda çelik kirişe ters sehim verilmesi veya yapım aşamasında geçici destek kullanımı ile çelik kirişin düşey yerdeğiştirmesi azaltılabilir. (Bkz. Kaynak Yayınlar, AISC Design Guide 3).\")\n",
    "    if delta_yapım > L/300:\n",
    "        print(f\"Toplam sehim sınırı aşıldı kesit büyütülmeli veya mesnet koşulları değiştirilmeli.{delta_yapım} > {L/300} \")\n",
    "    else:\n",
    "        print(f\"Sehim kontrolü sağlandı {delta_yapım} <= {L/300}. \\nAyrıca, beton gerekli dayanımına ulaşıncaya kadar, \\nçelik enkesitin yapım aşamasındaki sabit ve hareketli yükler altındaki eğilme dayanımı, \\nYönetmelik Bölüm 9 da verilen kurallar gözönüne alınarak kontrol edilmelidir\")\n",
    "\n",
    "def yapim_asamasi_sehimi(Pg : float, Pq : float, L : float, Ix : float, E:float = 200_000, wg: float = 1.) -> float:\n",
    "    \"\"\"Basit mesnetli kompozit kiriş için yapım aşaması sehim hesabı\n",
    "\n",
    "    Args:\n",
    "        Pg (float): Ölü yük\n",
    "        L (float): Kiriş uzunluğu\n",
    "        Ix (float): Kiriş atalet momenti\n",
    "        E (float, optional): Kiriş malzemesinin elastisite modülü. Defaults to 200_000. birim : N/mm2\n",
    "        wg (float, optional): Kiriş ağırlığı birim:kN/m. Defaults to 1. \n",
    "\n",
    "    Returns:\n",
    "        delta_1 (float): Yapım aşamasındaki sehim\n",
    "    \"\"\"\n",
    "\n",
    "    #Ölü yük etkisi\n",
    "    a = 2*(Pg * L**3 / (28 * E * Ix))\n",
    "    b = (5 * wg * L**4 / (384 * E * Ix))\n",
    "    delta_1 = a + b\n",
    "\n",
    "    if delta_1 > (L / 360):\n",
    "        print(f\"Ölü yük durumunda sehim sınırı sağlanamadı => {round(delta_1,2)}mm > {round(L/360,2)}mm çelik kirişe ters sehim verilmesi veya yapım aşamasında geçici destek kullanımı ile çelik kirişin düşey yerdeğiştirmesi azaltılabilir.\")\n",
    "\n",
    "    #hareketli yük etkisi\n",
    "    delta_2 = (2 * Pq * L **3 / (28 * E * Ix))\n",
    "\n",
    "    #total etki\n",
    "    delta = delta_1 + delta_2\n",
    "\n",
    "    if delta > (L/300):\n",
    "        print(f\"Yapım aşaması sehim sınırı sağlanamadı kiriş boyutu arttırılabilir. => {round(delta,2)}mm > {round(L/300,2)}mm\" )\n",
    "    return round(delta,2)\n"
   ]
  },
  {
   "cell_type": "code",
   "execution_count": 28,
   "metadata": {},
   "outputs": [],
   "source": [
    "# Ec = ConcreteYoungModules(fck=fck)\n",
    "# n = RatioYoungModules(Ec=Ec)\n",
    "# Rp = GetRp(IsPitchParaleltoBeam=False)\n",
    "# Rg = GetRg(StudsNumberInFlangeWidth=1,wr=wr,hr=hr,IsPitchParaleltoBeam=False)\n",
    "# Qn = OneStudShearCapacity(Asa=Asa, fck=fck, Ec=Ec, Rg=Rg, Rp=Rp, Fu=Fu)\n",
    "# TotalQn = ShearStudCapacity(N=N, Qn=Qn)\n",
    "# Itr = Calc_I_tr(n=n, b_eff=beff,hr=hr,hc=hc,hb=Hbeam,Ab=BeamAs,Ibeam=Ibeam)\n",
    "# Cf = Calc_Cf(Vbeam=T_steel,Vcon=C_conc)\n",
    "# Ieff = Calc_I_eff(Ibeam=Ibeam, TotalQn=TotalQn, Cf=Cf, Itr=Itr)"
   ]
  },
  {
   "cell_type": "markdown",
   "metadata": {},
   "source": [
    "![compositebeamexample.png](compositebeamexample.png)"
   ]
  },
  {
   "cell_type": "code",
   "execution_count": 29,
   "metadata": {
    "notebookRunGroups": {
     "groupValue": "1"
    }
   },
   "outputs": [],
   "source": [
    "# Variables\n",
    "f_ck     = 30     #N/mm2\n",
    "Fy       = 355    #N/mm2\n",
    "Abeam    = 33_420 #mm^2\n",
    "Hbeam    = 800    #mm\n",
    "Hweb     = 734    #mm\n",
    "b_flange = 300    #mm\n",
    "t_flange = 33     #mm\n",
    "t_web    = 17.5   #mm\n",
    "Laralık  = 4000   #mm\n",
    "Lbeam    = 10000  #mm\n",
    "Ycon     = 150    #mm Çelik kesit üst başlığından en üst beton lifine olan mesafe\n",
    "hr       = 50     #mm\n"
   ]
  },
  {
   "cell_type": "code",
   "execution_count": 30,
   "metadata": {
    "notebookRunGroups": {
     "groupValue": "1"
    }
   },
   "outputs": [
    {
     "name": "stdout",
     "output_type": "stream",
     "text": [
      "20 N/mm^2 ≤ 30 N/mm^2 < 70 N/mm^2 √\n"
     ]
    },
    {
     "data": {
      "text/plain": [
       "True"
      ]
     },
     "execution_count": 30,
     "metadata": {},
     "output_type": "execute_result"
    }
   ],
   "source": [
    "ConcAvailableStressCheck(f_ck=f_ck)"
   ]
  },
  {
   "cell_type": "code",
   "execution_count": 31,
   "metadata": {},
   "outputs": [
    {
     "name": "stdout",
     "output_type": "stream",
     "text": [
      "355 N/mm^2 ≤ 460 N/mm^2 √\n"
     ]
    },
    {
     "data": {
      "text/plain": [
       "True"
      ]
     },
     "execution_count": 31,
     "metadata": {},
     "output_type": "execute_result"
    }
   ],
   "source": [
    "SteelAvailableStressCheck(Fy=Fy)"
   ]
  },
  {
   "cell_type": "code",
   "execution_count": 32,
   "metadata": {
    "notebookRunGroups": {
     "groupValue": "1"
    }
   },
   "outputs": [
    {
     "data": {
      "text/plain": [
       "2500.0"
      ]
     },
     "execution_count": 32,
     "metadata": {},
     "output_type": "execute_result"
    }
   ],
   "source": [
    "b_eff = EffectiveSlabWidth(L=Lbeam,Lu=Laralık)\n",
    "b_eff"
   ]
  },
  {
   "cell_type": "code",
   "execution_count": 33,
   "metadata": {},
   "outputs": [
    {
     "data": {
      "text/plain": [
       "125.0"
      ]
     },
     "execution_count": 33,
     "metadata": {},
     "output_type": "execute_result"
    }
   ],
   "source": [
    "tc = Calc_tc(hr=hr,Ycon=Ycon,IsParallel=True)\n",
    "tc"
   ]
  },
  {
   "cell_type": "code",
   "execution_count": 34,
   "metadata": {
    "notebookRunGroups": {
     "groupValue": "1"
    }
   },
   "outputs": [
    {
     "data": {
      "text/plain": [
       "312500.0"
      ]
     },
     "execution_count": 34,
     "metadata": {},
     "output_type": "execute_result"
    }
   ],
   "source": [
    "Ac = tc * b_eff\n",
    "Ac"
   ]
  },
  {
   "cell_type": "code",
   "execution_count": 35,
   "metadata": {
    "notebookRunGroups": {
     "groupValue": "1"
    }
   },
   "outputs": [
    {
     "data": {
      "text/plain": [
       "11864100"
      ]
     },
     "execution_count": 35,
     "metadata": {},
     "output_type": "execute_result"
    }
   ],
   "source": [
    "Cs = YieldBeamCapacity(fy=Fy,As=Abeam)\n",
    "Cs"
   ]
  },
  {
   "cell_type": "code",
   "execution_count": 36,
   "metadata": {},
   "outputs": [
    {
     "data": {
      "text/plain": [
       "7968750.0"
      ]
     },
     "execution_count": 36,
     "metadata": {},
     "output_type": "execute_result"
    }
   ],
   "source": [
    "Cc = CrushConcCapacity(fck=f_ck,Ac=Ac)\n",
    "Cc"
   ]
  },
  {
   "cell_type": "code",
   "execution_count": 37,
   "metadata": {},
   "outputs": [
    {
     "data": {
      "text/plain": [
       "7968750.0"
      ]
     },
     "execution_count": 37,
     "metadata": {},
     "output_type": "execute_result"
    }
   ],
   "source": [
    "C = min(Cs,Cc)\n",
    "C"
   ]
  },
  {
   "cell_type": "code",
   "execution_count": 39,
   "metadata": {},
   "outputs": [
    {
     "name": "stdout",
     "output_type": "stream",
     "text": [
      "a = 125.0 mm\n",
      "Y2 = 87.5 mm\n",
      "Kompozit kiriş kısmi etkileşimlidir.\n",
      "Y1(veya tf') = 18.29 mm\n",
      "PTE kiriş başlığındadır.\n",
      "Csflange = Fy*b_flange*Y1 = 1947885.0 N\n"
     ]
    },
    {
     "data": {
      "text/plain": [
       "4866557841.135"
      ]
     },
     "execution_count": 39,
     "metadata": {},
     "output_type": "execute_result"
    }
   ],
   "source": [
    "DesignMn = CompositeBeamDesignFlexuralCapacity(C_conc=Cc, T_steel=Cs, Ycon=Ycon, \n",
    "                                    BeamAs=Abeam, BeamFy= Fy, Hbeam=Hbeam, t_flange=t_flange, b_flange=b_flange, \n",
    "                                    Ac=Ac, hr=hr,fck=f_ck, beff=b_eff, tc=tc, t_web=t_web)\n",
    "DesignMn"
   ]
  },
  {
   "cell_type": "markdown",
   "metadata": {},
   "source": [
    "![compositebeamexample2.png](compositebeamexample2.png)\n",
    "![compositebeamexample2-1.png](compositebeamexample2-1.png)"
   ]
  },
  {
   "cell_type": "code",
   "execution_count": 40,
   "metadata": {},
   "outputs": [],
   "source": [
    "# Variables\n",
    "# hc' ==> tc\n",
    "# hc ==> Ycon\n",
    "\n",
    "# Beton bilgisi\n",
    "f_ck     = 30     #N/mm2\n",
    "\n",
    "# Çelik malzeme bilgisi\n",
    "Fy       = 355    #N/mm2\n",
    "Fu_beam  = 510    #N/mm2\n",
    "\n",
    "# Çelik enkesit özellikleri\n",
    "Abeam    = 9_880  #mm^2\n",
    "Hbeam    = 450    #mm\n",
    "Hweb     = 378.8  #mm\n",
    "b_flange = 190    #mm\n",
    "t_flange = 14.6   #mm\n",
    "t_web    = 9.4    #mm\n",
    "Ix       = 33_740*10**4 #mm^4\n",
    "Ycon     = 130    #mm Çelik kesit üst başlığından en üst beton lifine olan mesafe\n",
    "\n",
    "# Kiriş uzunluk ve aralık bilgisi\n",
    "Laralık  = 7000   #mm\n",
    "Lbeam    = 9000  #mm\n",
    "\n",
    "# Stud çivisi bilgisi\n",
    "D_stud   = 19\n",
    "H_stud   = 100\n",
    "Fu_stud  = 510    #N/mm2 çelik ankrajın minimum(karakteristik) çekme dayanımı\n",
    "\n",
    "# Metal sac bilgisi\n",
    "hr       = 50     #mm\n",
    "wr       = 165    #mm\n",
    "t_sac    = 1.2    #mm\n"
   ]
  },
  {
   "cell_type": "code",
   "execution_count": 41,
   "metadata": {},
   "outputs": [
    {
     "name": "stdout",
     "output_type": "stream",
     "text": [
      "20 N/mm^2 ≤ 30 N/mm^2 < 70 N/mm^2 √\n"
     ]
    },
    {
     "data": {
      "text/plain": [
       "True"
      ]
     },
     "execution_count": 41,
     "metadata": {},
     "output_type": "execute_result"
    }
   ],
   "source": [
    "ConcAvailableStressCheck(f_ck=f_ck)"
   ]
  },
  {
   "cell_type": "code",
   "execution_count": 42,
   "metadata": {},
   "outputs": [
    {
     "name": "stdout",
     "output_type": "stream",
     "text": [
      "355 N/mm^2 ≤ 460 N/mm^2 √\n"
     ]
    },
    {
     "data": {
      "text/plain": [
       "True"
      ]
     },
     "execution_count": 42,
     "metadata": {},
     "output_type": "execute_result"
    }
   ],
   "source": [
    "SteelAvailableStressCheck(Fy=Fy)"
   ]
  },
  {
   "cell_type": "code",
   "execution_count": 43,
   "metadata": {},
   "outputs": [
    {
     "name": "stdout",
     "output_type": "stream",
     "text": [
      "hr = 50mm ≤ 75mm √\n",
      "wr = 165mm ≥ 50mm √\n"
     ]
    },
    {
     "data": {
      "text/plain": [
       "True"
      ]
     },
     "execution_count": 43,
     "metadata": {},
     "output_type": "execute_result"
    }
   ],
   "source": [
    "MetalDeckCheck(hr=hr,wr=wr)"
   ]
  },
  {
   "cell_type": "code",
   "execution_count": 44,
   "metadata": {},
   "outputs": [
    {
     "name": "stdout",
     "output_type": "stream",
     "text": [
      "h_stud-hr-t_sac = 48.8mm ≥ 38mm √\n",
      "Ycon - h_stud-t_sac = 28.8mm ≥ 13mm √\n",
      "Ycon - hr = 80mm ≥ 50mm √\n"
     ]
    },
    {
     "data": {
      "text/plain": [
       "True"
      ]
     },
     "execution_count": 44,
     "metadata": {},
     "output_type": "execute_result"
    }
   ],
   "source": [
    "HadveUzerindeKalanStudBoyutlarıKontrolu(hr=hr,t_sac=t_sac, h_stud=H_stud, Ycon=Ycon)"
   ]
  },
  {
   "cell_type": "code",
   "execution_count": 45,
   "metadata": {},
   "outputs": [
    {
     "name": "stdout",
     "output_type": "stream",
     "text": [
      "Ds = 19mm ≤ 2.5*tf = 36.5mm √\n",
      "Ds = 19mm ≤ 19mm √\n",
      "Hs = 100mm ≥ 4*Ds = 76mm √\n"
     ]
    },
    {
     "data": {
      "text/plain": [
       "True"
      ]
     },
     "execution_count": 45,
     "metadata": {},
     "output_type": "execute_result"
    }
   ],
   "source": [
    "StudCheck(Ds=D_stud, tf=t_flange, Hs=H_stud, IsWebAlignmentWelded=False)"
   ]
  },
  {
   "cell_type": "code",
   "execution_count": 46,
   "metadata": {},
   "outputs": [
    {
     "data": {
      "text/plain": [
       "2250.0"
      ]
     },
     "execution_count": 46,
     "metadata": {},
     "output_type": "execute_result"
    }
   ],
   "source": [
    "b_eff = EffectiveSlabWidth(L=Lbeam,Lu=Laralık)\n",
    "b_eff"
   ]
  },
  {
   "cell_type": "code",
   "execution_count": 47,
   "metadata": {},
   "outputs": [
    {
     "data": {
      "text/plain": [
       "80"
      ]
     },
     "execution_count": 47,
     "metadata": {},
     "output_type": "execute_result"
    }
   ],
   "source": [
    "tc = Calc_tc(hr=hr,Ycon=Ycon,IsParallel=False)\n",
    "tc"
   ]
  },
  {
   "cell_type": "code",
   "execution_count": 48,
   "metadata": {},
   "outputs": [
    {
     "data": {
      "text/plain": [
       "180000.0"
      ]
     },
     "execution_count": 48,
     "metadata": {},
     "output_type": "execute_result"
    }
   ],
   "source": [
    "Ac = tc * b_eff\n",
    "Ac"
   ]
  },
  {
   "cell_type": "code",
   "execution_count": 49,
   "metadata": {},
   "outputs": [
    {
     "data": {
      "text/plain": [
       "3507400"
      ]
     },
     "execution_count": 49,
     "metadata": {},
     "output_type": "execute_result"
    }
   ],
   "source": [
    "Cs = YieldBeamCapacity(fy=Fy,As=Abeam)\n",
    "Cs"
   ]
  },
  {
   "cell_type": "code",
   "execution_count": 50,
   "metadata": {},
   "outputs": [
    {
     "data": {
      "text/plain": [
       "4590000.0"
      ]
     },
     "execution_count": 50,
     "metadata": {},
     "output_type": "execute_result"
    }
   ],
   "source": [
    "Cc = CrushConcCapacity(fck=f_ck,Ac=Ac)\n",
    "Cc"
   ]
  },
  {
   "cell_type": "code",
   "execution_count": 51,
   "metadata": {},
   "outputs": [
    {
     "data": {
      "text/plain": [
       "3507400"
      ]
     },
     "execution_count": 51,
     "metadata": {},
     "output_type": "execute_result"
    }
   ],
   "source": [
    "C = min(Cs,Cc)\n",
    "C"
   ]
  },
  {
   "cell_type": "code",
   "execution_count": 53,
   "metadata": {},
   "outputs": [
    {
     "name": "stdout",
     "output_type": "stream",
     "text": [
      "a = 61.13115468409586 mm\n",
      "Y2 = 99.43442265795207 mm\n",
      "Kompozit kiriş tam etkileşimlidir. Plastik tarafsız eksen beton döşemenin içindedir.\n",
      "φMn = φ * min(C_conc,T_steel) * ( 0.5*Hbeam + hr + tc - 0.5*a) = 0.9 * 3507400 *  324.43 = 1024129164.627\n"
     ]
    },
    {
     "data": {
      "text/plain": [
       "1024129164.627451"
      ]
     },
     "execution_count": 53,
     "metadata": {},
     "output_type": "execute_result"
    }
   ],
   "source": [
    "DesignMn = CompositeBeamDesignFlexuralCapacity(C_conc=Cc, T_steel=Cs, Ycon=Ycon, \n",
    "                                    BeamAs=Abeam, BeamFy= Fy, Hbeam=Hbeam, t_flange=t_flange, b_flange=b_flange, \n",
    "                                    Ac = Ac, hr=hr,fck=f_ck, beff=b_eff, tc=tc, t_web=t_web)\n",
    "DesignMn"
   ]
  }
 ],
 "metadata": {
  "kernelspec": {
   "display_name": "Python 3",
   "language": "python",
   "name": "python3"
  },
  "language_info": {
   "codemirror_mode": {
    "name": "ipython",
    "version": 3
   },
   "file_extension": ".py",
   "mimetype": "text/x-python",
   "name": "python",
   "nbconvert_exporter": "python",
   "pygments_lexer": "ipython3",
   "version": "3.12.3"
  }
 },
 "nbformat": 4,
 "nbformat_minor": 2
}
