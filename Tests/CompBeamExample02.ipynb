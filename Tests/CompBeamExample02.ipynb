{
 "cells": [
  {
   "cell_type": "code",
   "execution_count": 1,
   "metadata": {},
   "outputs": [],
   "source": [
    "import CompositeBeam as comp"
   ]
  },
  {
   "cell_type": "markdown",
   "metadata": {},
   "source": [
    "![compositebeamexample2.png](compositebeamexample2.png)\n",
    "![compositebeamexample2-1.png](compositebeamexample2-1.png)"
   ]
  },
  {
   "cell_type": "code",
   "execution_count": 2,
   "metadata": {},
   "outputs": [],
   "source": [
    "# Variables\n",
    "# hc' ==> tc\n",
    "# hc ==> Ycon\n",
    "\n",
    "# Beton bilgisi\n",
    "f_ck     = 30     #N/mm2\n",
    "\n",
    "# Çelik malzeme bilgisi\n",
    "Fy       = 355    #N/mm2\n",
    "Fu_beam  = 510    #N/mm2\n",
    "\n",
    "# Çelik enkesit özellikleri\n",
    "Abeam    = 9_880  #mm^2\n",
    "Hbeam    = 450    #mm\n",
    "Hweb     = 378.8  #mm\n",
    "b_flange = 190    #mm\n",
    "t_flange = 14.6   #mm\n",
    "t_web    = 9.4    #mm\n",
    "Ix       = 33_740*10**4 #mm^4\n",
    "Ycon     = 130    #mm Çelik kesit üst başlığından en üst beton lifine olan mesafe\n",
    "\n",
    "# Kiriş uzunluk ve aralık bilgisi\n",
    "Laralık  = 7000   #mm\n",
    "Lbeam    = 9000  #mm\n",
    "\n",
    "# Stud çivisi bilgisi\n",
    "D_stud   = 19\n",
    "H_stud   = 100\n",
    "Fu_stud  = 510    #N/mm2 çelik ankrajın minimum(karakteristik) çekme dayanımı\n",
    "\n",
    "# Metal sac bilgisi\n",
    "hr       = 50     #mm\n",
    "wr       = 165    #mm\n",
    "t_sac    = 1.2    #mm\n"
   ]
  },
  {
   "cell_type": "code",
   "execution_count": 3,
   "metadata": {},
   "outputs": [
    {
     "name": "stdout",
     "output_type": "stream",
     "text": [
      "20 N/mm^2 ≤ 30 N/mm^2 < 70 N/mm^2 √\n"
     ]
    },
    {
     "data": {
      "text/plain": [
       "True"
      ]
     },
     "execution_count": 3,
     "metadata": {},
     "output_type": "execute_result"
    }
   ],
   "source": [
    "comp.ConcAvailableStressCheck(f_ck=f_ck)"
   ]
  },
  {
   "cell_type": "code",
   "execution_count": 4,
   "metadata": {},
   "outputs": [
    {
     "name": "stdout",
     "output_type": "stream",
     "text": [
      "355 N/mm^2 ≤ 460 N/mm^2 √\n"
     ]
    },
    {
     "data": {
      "text/plain": [
       "True"
      ]
     },
     "execution_count": 4,
     "metadata": {},
     "output_type": "execute_result"
    }
   ],
   "source": [
    "comp.SteelAvailableStressCheck(Fy=Fy)"
   ]
  },
  {
   "cell_type": "code",
   "execution_count": 5,
   "metadata": {},
   "outputs": [
    {
     "name": "stdout",
     "output_type": "stream",
     "text": [
      "hr = 50mm ≤ 75mm √\n",
      "wr = 165mm ≥ 50mm √\n"
     ]
    },
    {
     "data": {
      "text/plain": [
       "True"
      ]
     },
     "execution_count": 5,
     "metadata": {},
     "output_type": "execute_result"
    }
   ],
   "source": [
    "comp.MetalDeckCheck(hr=hr,wr=wr)"
   ]
  },
  {
   "cell_type": "code",
   "execution_count": 6,
   "metadata": {},
   "outputs": [
    {
     "name": "stdout",
     "output_type": "stream",
     "text": [
      "h_stud-hr-t_sac = 48.8mm ≥ 38mm √\n",
      "Ycon - h_stud-t_sac = 28.8mm ≥ 13mm √\n",
      "Ycon - hr = 80mm ≥ 50mm √\n"
     ]
    },
    {
     "data": {
      "text/plain": [
       "True"
      ]
     },
     "execution_count": 6,
     "metadata": {},
     "output_type": "execute_result"
    }
   ],
   "source": [
    "comp.ConcreteCoverAboveTopOfHeadedStudAnchorsChecks(hr=hr,t_sac=t_sac, h_stud=H_stud, Ycon=Ycon)"
   ]
  },
  {
   "cell_type": "code",
   "execution_count": 7,
   "metadata": {},
   "outputs": [
    {
     "name": "stdout",
     "output_type": "stream",
     "text": [
      "Ds = 19mm ≤ 2.5*tf = 36.5mm √\n",
      "Ds = 19mm ≤ 19mm √\n",
      "Hs = 100mm ≥ 4*Ds = 76mm √\n"
     ]
    },
    {
     "data": {
      "text/plain": [
       "True"
      ]
     },
     "execution_count": 7,
     "metadata": {},
     "output_type": "execute_result"
    }
   ],
   "source": [
    "comp.StudCheck(Ds=D_stud, tf=t_flange, Hs=H_stud, IsWebAlignmentWelded=False)"
   ]
  },
  {
   "cell_type": "code",
   "execution_count": 8,
   "metadata": {},
   "outputs": [
    {
     "data": {
      "text/plain": [
       "2250.0"
      ]
     },
     "execution_count": 8,
     "metadata": {},
     "output_type": "execute_result"
    }
   ],
   "source": [
    "b_eff = comp.EffectiveSlabWidth(L=Lbeam,Lu=Laralık)\n",
    "b_eff"
   ]
  },
  {
   "cell_type": "code",
   "execution_count": 9,
   "metadata": {},
   "outputs": [
    {
     "data": {
      "text/plain": [
       "80"
      ]
     },
     "execution_count": 9,
     "metadata": {},
     "output_type": "execute_result"
    }
   ],
   "source": [
    "tc = comp.Calc_tc(hr=hr,Ycon=Ycon,IsParallel=False)\n",
    "tc"
   ]
  },
  {
   "cell_type": "code",
   "execution_count": 10,
   "metadata": {},
   "outputs": [
    {
     "data": {
      "text/plain": [
       "180000.0"
      ]
     },
     "execution_count": 10,
     "metadata": {},
     "output_type": "execute_result"
    }
   ],
   "source": [
    "Ac = tc * b_eff\n",
    "Ac"
   ]
  },
  {
   "cell_type": "code",
   "execution_count": 11,
   "metadata": {},
   "outputs": [
    {
     "data": {
      "text/plain": [
       "3507400"
      ]
     },
     "execution_count": 11,
     "metadata": {},
     "output_type": "execute_result"
    }
   ],
   "source": [
    "Cs = comp.YieldBeamCapacity(fy=Fy,As=Abeam)\n",
    "Cs"
   ]
  },
  {
   "cell_type": "code",
   "execution_count": 12,
   "metadata": {},
   "outputs": [
    {
     "data": {
      "text/plain": [
       "4590000.0"
      ]
     },
     "execution_count": 12,
     "metadata": {},
     "output_type": "execute_result"
    }
   ],
   "source": [
    "Cc = comp.CrushConcCapacity(fck=f_ck,Ac=Ac)\n",
    "Cc"
   ]
  },
  {
   "cell_type": "code",
   "execution_count": 13,
   "metadata": {},
   "outputs": [
    {
     "data": {
      "text/plain": [
       "3507400"
      ]
     },
     "execution_count": 13,
     "metadata": {},
     "output_type": "execute_result"
    }
   ],
   "source": [
    "C = min(Cs,Cc)\n",
    "C"
   ]
  },
  {
   "cell_type": "code",
   "execution_count": 14,
   "metadata": {},
   "outputs": [
    {
     "name": "stdout",
     "output_type": "stream",
     "text": [
      "a = 61.13115468409586 mm\n",
      "Y2 = 99.43442265795207 mm\n",
      "Kompozit kiriş tam etkileşimlidir. Plastik tarafsız eksen beton döşemenin içindedir.\n",
      "φMn = φ * (min(C_conc,T_steel) * ( 0.5*Hbeam + hr + tc - 0.5*a)) = 0.9 * 3507400 *  324.43 = 1024129164.627\n"
     ]
    },
    {
     "data": {
      "text/plain": [
       "1024.12916463"
      ]
     },
     "execution_count": 14,
     "metadata": {},
     "output_type": "execute_result"
    }
   ],
   "source": [
    "DesignMn = comp.CompositeBeamDesignFlexuralCapacity(C_conc=Cc, T_steel=Cs, Ycon=Ycon, \n",
    "                                    BeamAs=Abeam, BeamFy= Fy, Hbeam=Hbeam, t_flange=t_flange, b_flange=b_flange, \n",
    "                                    Ac = Ac, hr=hr,fck=f_ck, beff=b_eff, tc=tc, t_web=t_web)\n",
    "DesignMn/10**6"
   ]
  },
  {
   "cell_type": "code",
   "execution_count": 15,
   "metadata": {},
   "outputs": [],
   "source": [
    "# Ec = ConcreteYoungModules(fck=fck)\n",
    "# n = RatioYoungModules(Ec=Ec)\n",
    "# Rp = GetRp(IsPitchParaleltoBeam=False)\n",
    "# Rg = GetRg(StudsNumberInFlangeWidth=1,wr=wr,hr=hr,IsPitchParaleltoBeam=False)\n",
    "# Qn = OneStudShearCapacity(Asa=Asa, fck=fck, Ec=Ec, Rg=Rg, Rp=Rp, Fu=Fu)\n",
    "# TotalQn = ShearStudCapacity(N=N, Qn=Qn)\n",
    "# Itr = Calc_I_tr(n=n, b_eff=beff,hr=hr,hc=hc,hb=Hbeam,Ab=BeamAs,Ibeam=Ibeam)\n",
    "# Cf = Calc_Cf(Vbeam=T_steel,Vcon=C_conc)\n",
    "# Ieff = Calc_I_eff(Ibeam=Ibeam, TotalQn=TotalQn, Cf=Cf, Itr=Itr)"
   ]
  }
 ],
 "metadata": {
  "kernelspec": {
   "display_name": "Python 3",
   "language": "python",
   "name": "python3"
  },
  "language_info": {
   "codemirror_mode": {
    "name": "ipython",
    "version": 3
   },
   "file_extension": ".py",
   "mimetype": "text/x-python",
   "name": "python",
   "nbconvert_exporter": "python",
   "pygments_lexer": "ipython3",
   "version": "3.12.3"
  }
 },
 "nbformat": 4,
 "nbformat_minor": 2
}
