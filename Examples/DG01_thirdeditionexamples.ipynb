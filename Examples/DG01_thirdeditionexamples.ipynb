{
 "cells": [
  {
   "cell_type": "code",
   "execution_count": 1,
   "metadata": {},
   "outputs": [],
   "source": [
    "from steeldesign import BaseConnection as bp"
   ]
  },
  {
   "cell_type": "markdown",
   "metadata": {},
   "source": [
    "## Design Guide 01 Example 4.7.1"
   ]
  },
  {
   "cell_type": "markdown",
   "metadata": {},
   "source": [
    "A W12×96 column bears on a 24 in. × 24 in. concrete pedestal as shown in Figure 4-21. The minimum concrete compressive\n",
    "strength is ƒc′ = 3 ksi. The base plate is ASTM A572/A572M Grade 50 material.\n",
    "Pu = 700 kips(LRFD)"
   ]
  },
  {
   "cell_type": "code",
   "execution_count": null,
   "metadata": {},
   "outputs": [],
   "source": [
    "P_u = 700 # kips\n",
    "f_c = 3 #ksi\n",
    "\n",
    "# From AISC Manual Table 2-5 Base plate ASTM A572/A572M Gr. 50\n",
    "Fy = 50 #ksi\n",
    "Fu = 65 #ksi\n",
    "\n",
    "# From AISC Manual Table 1-1 W12×96\n",
    "d   = 12.7 #in.\n",
    "b_f = 12.2 #in."
   ]
  }
 ],
 "metadata": {
  "kernelspec": {
   "display_name": ".venv",
   "language": "python",
   "name": "python3"
  },
  "language_info": {
   "codemirror_mode": {
    "name": "ipython",
    "version": 3
   },
   "file_extension": ".py",
   "mimetype": "text/x-python",
   "name": "python",
   "nbconvert_exporter": "python",
   "pygments_lexer": "ipython3",
   "version": "3.12.4"
  }
 },
 "nbformat": 4,
 "nbformat_minor": 2
}
