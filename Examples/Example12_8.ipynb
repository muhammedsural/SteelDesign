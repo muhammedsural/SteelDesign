{
 "cells": [
  {
   "cell_type": "code",
   "execution_count": 1,
   "metadata": {},
   "outputs": [],
   "source": [
    "from CompositeBeam import CompositeBeams"
   ]
  },
  {
   "cell_type": "markdown",
   "metadata": {},
   "source": [
    "![compositebeamexample2.png](\\Resources\\Example12_8.png)\n",
    "![compositebeamexample2-1.png](\\Resources\\compositebeamexample2-1.png)"
   ]
  },
  {
   "cell_type": "code",
   "execution_count": 2,
   "metadata": {},
   "outputs": [],
   "source": [
    "cp = CompositeBeams(DeadLoad   = 2.5, #kN/m^2\n",
    "                    LiveLoad_c = 1   , #kN/m^2\n",
    "\n",
    "                    # Kompozit çalışma aşaması yükleri\n",
    "                    SuperDeadLoad = 2.0, #kN/m^2\n",
    "                    LiveLoad      = 5.0, #kN/m^2\n",
    "                    w_girder      = 1.0, #kN/m kiriş ağırlığı\n",
    "\n",
    "                    # Beton bilgisi\n",
    "                    f_ck     = 30  ,   #N/mm2\n",
    "                    wc       = 2400,   #kg/m3\n",
    "\n",
    "                    # Çelik malzeme bilgisi\n",
    "                    Fy       = 355, #N/mm2\n",
    "                    Fu_beam  = 510, #N/mm2\n",
    "\n",
    "                    # Çelik enkesit özellikleri\n",
    "                    Abeam     = 9880,     #mm^2\n",
    "                    Hbeam     = 450 ,       #mm\n",
    "                    Hweb      = 378.8  ,    #mm\n",
    "                    b_flange  = 190  ,      #mm\n",
    "                    t_flange  = 14.6   ,     #mm\n",
    "                    t_web     = 9.4 ,      #mm\n",
    "                    Ix        = 33_740*10**4, #mm^4\n",
    "                    Ycon      = 130  ,     #mm Çelik kesit üst başlığından en üst beton lifine olan mesafe\n",
    "\n",
    "                    # Kiriş uzunluk ve aralık bilgisi\n",
    "                    Laralık  = 7000,  #mm\n",
    "                    Lbeam    = 9000,  #mm\n",
    "\n",
    "                    # Stud çivisi bilgisi\n",
    "                    D_stud               = 19       , #mm\n",
    "                    H_stud               = 100      ,  #mm\n",
    "                    b_studhead           = 32      ,   #mm\n",
    "                    t_studhead           = 10      ,  #mm\n",
    "                    Fy_stud              = 235     ,   #N/mm2 çelik ankrajın minimum(karakteristik) akma dayanımı\n",
    "                    Fu_stud              = 450 ,   #N/mm2 çelik ankrajın minimum(karakteristik) çekme dayanımı\n",
    "                    CompRatio            = 1,    #Kompozitlik oranı minimum %25 olabilir. %100 tam etkileşimli kompozit demektir.\n",
    "                    Nw                   = 1,       #Adet Kesit başlığının genişliğinde atılan stud çivisi adeti\n",
    "                    x                    = 30 ,     #mm Kesit başlığının genişliğinde atılan stud çivileri arasındaki mesafe\n",
    "                    IsWebAlignmentWelded = False ,  #Stud çivisi kiriş gövdesi izasında mı kaynaklanıyor.\n",
    "\n",
    "                    # Metal sac bilgisi\n",
    "                    hr           = 50,    #mm\n",
    "                    wr           = 165,   #mm\n",
    "                    t_sac        = 1.2,   #mm\n",
    "                    RibsDistance = 2*165,   #mm 2*wr\n",
    "                    IsParallel   = True\n",
    "    )"
   ]
  },
  {
   "cell_type": "code",
   "execution_count": 3,
   "metadata": {},
   "outputs": [
    {
     "name": "stdout",
     "output_type": "stream",
     "text": [
      "Design Code Requirements\n",
      "====================================================================================================\n",
      "20 N/mm^2 ≤ 30 N/mm^2 < 70 N/mm^2 √ - TSSDC 12.2.3(a)\n",
      "\n",
      "355 N/mm^2 ≤ 460 N/mm^2 √ - TSSDC 12.2.3(c)\n",
      "\n",
      "hr = 50mm ≤ 75mm √ - TSSDC 12.4.2.3\n",
      "\n",
      "wr = 165mm ≥ 50mm √ - TSSDC 12.4.2.3\n",
      "\n",
      "h_stud-hr-t_sac = 48.8mm ≥ 38mm √ - TSSDC 12.4.2.3\n",
      "\n",
      "Ycon - h_stud-t_sac = 28.8mm ≥ 13mm √ - TSSDC 12.4.2.3\n",
      "\n",
      "Ycon - hr = 80mm ≥ 50mm √ - TSSDC 12.4.2.3\n",
      "\n",
      "Ds = 19mm ≤ 2.5*tf = 36.5mm √ - TSSDC 12.8.1\n",
      "\n",
      "Ds = 19mm ≤ 19mm √ - TSSDC 12.8.1\n",
      "\n",
      "Hs = 100mm ≥ 4*Ds = 76mm √ - TSSDC 12.8.2\n",
      "\n",
      "h/tw = 47.87 ≤ 3.76*(E/Fy)^0.5 = 89.25 √\n",
      "\n"
     ]
    }
   ],
   "source": [
    "print(\"Design Code Requirements\")\n",
    "print(\"==\"*50)\n",
    "GeomCheck = cp.ConcAvailableStressCheck(f_ck = cp.f_ck)\n",
    "GeomCheck = cp.SteelAvailableStressCheck(Fy = cp.Fy)\n",
    "GeomCheck = cp.MetalDeckCheck(hr = cp.hr, wr = cp.wr)\n",
    "GeomCheck = cp.ConcreteCoverAboveTopOfHeadedStudAnchorsChecks(hr = cp.hr, t_sac = cp.t_sac, h_stud = cp.H_stud, Ycon =cp.Ycon)\n",
    "GeomCheck = cp.StudCheck(Ds = cp.D_stud, tf = cp.t_flange, Hs = cp.H_stud, IsWebAlignmentWelded=False)\n",
    "if GeomCheck != True:\n",
    "    print(\"Geometrik kontroller sağlanmalı hesap yapılmadı!!!\\n\")\n",
    "# Kiriş enkesit kontrolü\n",
    "SectionCheck = cp.SectionCheck(Hbeam=cp.Hbeam, t_web=cp.t_web, Fy=cp.Fy)\n",
    "if SectionCheck != True:\n",
    "    print(\"Kesit değiştirin!!!\\n\")\n",
    "\n",
    "\n"
   ]
  },
  {
   "cell_type": "code",
   "execution_count": 19,
   "metadata": {},
   "outputs": [
    {
     "name": "stdout",
     "output_type": "stream",
     "text": [
      "Yapım aşaması\n",
      "\n",
      "====================================================================================================\n",
      "Yapım aşaması sabit yüklerinden(döşeme ve çelik kiriş) kaynaklı deplasman\n",
      "\n",
      "Yapım aşaması sabit yüklerden kaynaklı deplasman (5*W_G*L^4) / (384*E*I) = 23.42mm\n",
      "23.42 ≤ L/360 = 25.0  √\n",
      "\n",
      "Ters sehim miktarı\n",
      "\n",
      "delta_cdl = 23.42mm > 19mm and Lbeam = 9000 > 7600mm olduğu için 17.565mm kadar ters sehime ihtiyaç vardır.\n",
      "\n",
      "Yapım aşaması hareketli yüklerinden kaynaklı deplasman 8.86mm\n",
      "\n",
      "Yapım aşaması toplam düşey yerdeğiştirme = delta_cdl - delta_c + delta_sdl + delta_ll = 14.71mm, super dead düşey yerdeğiştirmesi yapım öncesi olmadığı için 0.0\n",
      "\n",
      "14.71 ≤ L/240 = 37.5  √\n",
      "\n"
     ]
    },
    {
     "data": {
      "text/plain": [
       "True"
      ]
     },
     "execution_count": 19,
     "metadata": {},
     "output_type": "execute_result"
    }
   ],
   "source": [
    "print(\"Yapım aşaması\\n\")\n",
    "print(\"==\"*50)\n",
    "W_G = cp.Calc_Load(Load = cp.DeadLoad, GirdersSpaceLength = cp.Laralık/10**3) + cp.w_girder\n",
    "W_Q = cp.Calc_Load(Load = cp.LiveLoad_c, GirdersSpaceLength = cp.Laralık/10**3)\n",
    "\n",
    "print(\"Yapım aşaması sabit yüklerinden(döşeme ve çelik kiriş) kaynaklı deplasman\\n\")\n",
    "delta_cdl = cp.SimpleCompositeBeamDeflection(w=W_G, Lbeam = cp.Lbeam, I = cp.Ix)\n",
    "print(f\"Yapım aşaması sabit yüklerden kaynaklı deplasman (5*W_G*L^4) / (384*E*I) = {delta_cdl}mm\")\n",
    "cp.DeflectionChecks2(delta=delta_cdl, L=cp.Lbeam, Ratio=360)\n",
    "\n",
    "print(\"Ters sehim miktarı\\n\")\n",
    "delta_c = cp.Camber(delta_cdl = delta_cdl, Lbeam = cp.Lbeam)\n",
    "delta_yll = cp.SimpleCompositeBeamDeflection(w=W_Q, Lbeam = cp.Lbeam, I = cp.Ix)\n",
    "print(f\"Yapım aşaması hareketli yüklerinden kaynaklı deplasman {delta_yll}mm\\n\")\n",
    "\n",
    "delta_ytl = cp.calc_Delta_TL(delta_cdl=delta_cdl, delta_sdl=0., delta_ll=delta_yll,delta_c=delta_c)\n",
    "print(f\"Yapım aşaması toplam düşey yerdeğiştirme = delta_cdl - delta_c + delta_sdl + delta_ll = {delta_ytl}mm, super dead düşey yerdeğiştirmesi yapım öncesi olmadığı için 0.0\\n\")\n",
    "cp.DeflectionChecks2(delta=delta_ytl, L=cp.Lbeam, Ratio=240)"
   ]
  },
  {
   "cell_type": "code",
   "execution_count": 20,
   "metadata": {},
   "outputs": [
    {
     "name": "stdout",
     "output_type": "stream",
     "text": [
      "b_eff = 2250.0mm\n",
      "\n",
      "tc = 105.0mm\n",
      "Ac = 236250.0mm^2\n"
     ]
    }
   ],
   "source": [
    "b_eff       = cp.EffectiveSlabWidth(L = cp.Lbeam, Lu = cp.Laralık) # Effektif döşeme genişliği\n",
    "tc          = cp.Calc_tc(hr = cp.hr,Ycon = cp.Ycon, IsParallel = cp.IsParallel) # Stud çivisiz beton yüksekliği\n",
    "Ac          = cp.Calc_Ac(b_eff=b_eff, tc=tc) # Stud çivisiz beton alanı\n",
    "Cc          = cp.CrushConcCapacity(fck = cp.f_ck,Ac=Ac)\n",
    "Cs          = cp.YieldBeamCapacity(fy = cp.Fy, As = cp.Abeam)\n",
    "Cf          = cp.Calc_Cf(Vbeam=Cs, Vcon=Cc)"
   ]
  },
  {
   "cell_type": "code",
   "execution_count": 21,
   "metadata": {},
   "outputs": [
    {
     "name": "stdout",
     "output_type": "stream",
     "text": [
      "a = 61.13mm\n",
      "\n",
      "Y2 = 99.435mm\n",
      "\n",
      "PTE başlıkta kabul edilirse Y1 = (T_steel - C_conc) / (2*BeamFy*b_flange) = -18.66mm\n",
      "PTE beton döşeme içerisindedir Y1=-18.66 < 0 ==> Y1 = 0\n",
      "\n",
      "Mn_web = (C_conc*(Y1+Y2) + 2*Cflange*(Y1 - 0.5*t_flange) + 2*Cweb*(0.5*(Y1-t_flange)) + T_steel*(0.5*Hbeam-Y1)) = [599033728.125 + -0.0 + 711314.92 + 789165000.0] = 1388910043.045 \n",
      "Mn_flange = (C_conc*(Y1+Y2)) + (2*Csflange*Y1/2) + (BeamAs*BeamFy*( (Hbeam/2) - Y1)) = 599033728.12 +  0.0 + 789165000.0 = 1388198728.125\n",
      "Mn_slab = Cf * y = 3507400 * 349.44 = 1225625856.0\n",
      "Kompozit kiriş tam etkileşimlidir. Plastik tarafsız eksen beton döşemenin içindedir.\n",
      "\n",
      "φMn = φ * Mn_slab = 0.9 * 1225.626kNm = 1103.063kNm\n",
      "\n",
      "Talep/Kapasite oranı = 0.79 ≤ 1 √\n",
      "\n"
     ]
    }
   ],
   "source": [
    "# Örnekler kitabında paralel yerleşimden kaynaklı tüm döşeme yüksekliğini almıştır. Burada döşeme yüksekliğinden hadvenin yarı yüksekliği çıkarılmış hali alınmalıydı. Bu nedenle kuvvet kolu mesafesinden tasarım kapasitesi farklı çıkmaktadır.\n",
    "a           = cp.Calc_a(Cf =Cf, fck = cp.f_ck, b_eff = b_eff)\n",
    "Y2          = cp.Calc_Y2(Ycon = cp.Ycon, a = a)\n",
    "Y1          = cp.Calc_Y1(T_steel=Cs, C_conc=Cc, b_flange=cp.b_flange, t_flange = cp.t_flange, t_web = cp.t_web,BeamFy = cp.Fy)\n",
    "C_flange    = cp.Calc_Cflange(t_flange = cp.t_flange, Y1 = Y1, b_flange = cp.b_flange, BeamFy = cp.Fy)\n",
    "C_web       = cp.Calc_Cweb(Y1=Y1, t_flange = cp.t_flange, t_web = cp.t_web, BeamFy = cp.Fy)\n",
    "Mn_web      = cp.PTEInWebMn(T_steel=Cs, C_conc=Cc, Cflange=C_flange, Cweb=C_web, Hbeam = cp.Hbeam, t_flange =cp.t_flange, Y1=Y1, Y2=Y2)\n",
    "Mn_flange   = cp.PTEInFlangeMn(C_conc=Cc, Cflange=C_flange, Hbeam = cp.Hbeam, BeamAs = cp.Abeam, BeamFy = cp.Fy, Y1=Y1, Y2=Y2)\n",
    "Mn_slab     = cp.PTEInSlabMn(Cf=Cf, Hbeam = cp.Hbeam, hr = cp.hr, tc=tc, a=a)\n",
    "Mn_design   = cp.CompositeBeamDesignFlexuralCapacity2(C_conc=Cc, T_steel=Cs,Mn_web=Mn_web, Mn_slab=Mn_slab,Mn_flange=Mn_flange, Y1=Y1, t_flange = cp.t_flange, fi_b=0.9)\n",
    "CapacityCheck   = cp.CompositeBeamFlexuralCapacityCheck(M_demand=869*10**6, Mn_design=Mn_design)"
   ]
  },
  {
   "cell_type": "markdown",
   "metadata": {},
   "source": [
    "![Example12_8_answer_c.png](\\Resources\\Example12_8_answer_c.png)"
   ]
  },
  {
   "cell_type": "code",
   "execution_count": 22,
   "metadata": {},
   "outputs": [
    {
     "name": "stdout",
     "output_type": "stream",
     "text": [
      "Ec = 0.043 * wc **1.5 * fck**0.5 = 0.043 * 2400 **1.5 * 30**0.5 = 27691.465833357393\n",
      "Rp = 0.75\n",
      "\n",
      "Rg = 1.0\n",
      "\n",
      "Qn = 0.5 * Asa * (fck*Ec)**0.5 = 129.145852kN\n",
      "\n",
      "Qn = 129.145852kN > Rg*Rp*Asa*Fu = 1.0 * 0.75 * 283.385 * 450 = 95.642438kN ==> Qn = 95.642438kN\n",
      "\n",
      "%100 kompozitlik oranı için belirlenen stud çivisi sayısı 37.\n",
      "\n"
     ]
    },
    {
     "data": {
      "text/plain": [
       "37"
      ]
     },
     "execution_count": 22,
     "metadata": {},
     "output_type": "execute_result"
    }
   ],
   "source": [
    "import math\n",
    "\n",
    "Ec   = cp.ConcreteYoungModules(fck = cp.f_ck, wc=cp.wc)\n",
    "A_sa = 3.14 * cp.D_stud**2 /4\n",
    "Rp   = cp.GetRp(Hstud = cp.H_stud, hr = cp.hr, t_studhead = cp.t_studhead, IsPitchParaleltoBeam = cp.IsParallel)\n",
    "Rg   = cp.GetRg(StudsNumberInFlangeWidth=cp.Nw, wr = cp.wr, hr = cp.hr, IsPitchParaleltoBeam = cp.IsParallel)\n",
    "Qn   = cp.OneStudShearCapacity(Asa=A_sa, fck = cp.f_ck, Ec=Ec, Rg=Rg, Rp=Rp, Fu = cp.Fu_stud)\n",
    "N_ankraj = cp.Calc_StudsNumber(Cf=Cf, CompRatio=cp.CompRatio, Qn=Qn, Nw=cp.Nw, RibsDistance=cp.RibsDistance, L_beam=cp.Lbeam, IsParallel=True)\n",
    "N_ankraj"
   ]
  },
  {
   "cell_type": "code",
   "execution_count": 23,
   "metadata": {},
   "outputs": [
    {
     "name": "stdout",
     "output_type": "stream",
     "text": [
      "n = 7.222\n",
      "Act = 32712.545\n",
      "Ict = 30054650.720022153\n",
      "Y =128.4686935824098\n",
      "Itr = 118133.4498895419cm^4\n",
      "Ieff = Ibeam + (TotalQn / Cf)**0.5 * (Itr - Ibeam) = 33740.0cm^4 + 1.009 * 84393.4499cm^4 = 118510.0175cm^4\n"
     ]
    }
   ],
   "source": [
    "Vstud = N_ankraj * Qn\n",
    "n    = cp.RatioYoungModules(Ec=Ec)\n",
    "print(f\"n = {n}\")\n",
    "Act  = cp.ChengedConcToSteelArea(n=n, Ac=Ac)\n",
    "print(f\"Act = {Act}\")\n",
    "Itr  = cp.Calc_I_tr(Act=Act, n=n, b_eff=b_eff, hr = cp.hr, tc=tc, hb = cp.Hbeam, Ab = cp.Abeam, Ibeam = cp.Ix) #Tametkileşimli kompozit kiriş sehim kontrolü için kullanılır\n",
    "Ieff = cp.Calc_I_eff(Ibeam = cp.Ix, TotalQn=Vstud, Cf=Cf, Itr=Itr)\n",
    "I_real = cp.Calc_I_real(I_eff=Ieff) #Kısmi etkileşimli kompozit kiriş sehim kontrolleri için kullanılır."
   ]
  },
  {
   "cell_type": "code",
   "execution_count": 34,
   "metadata": {},
   "outputs": [
    {
     "name": "stdout",
     "output_type": "stream",
     "text": [
      "Yapım öncesi sabit yüklerden kaynaklı sehim (Ters sehim verilmemiştir.) = 23.42mm\n",
      "Kompozit kirişte hareketli yükten kaynaklı sehim 15.38mm\n",
      "Kompozit kirişte sabit yüklerden kaynaklı sehim 6.15mm\n",
      "Kompozit kirişte toplam yük etkisiyle oluşan sehim 44.95mm\n",
      "\n",
      "15.378446803650794 ≤ L/360 = 25.0  √\n",
      "\n",
      "44.95 > L/300 = 30.0 X\n",
      "\n"
     ]
    },
    {
     "data": {
      "text/plain": [
       "False"
      ]
     },
     "execution_count": 34,
     "metadata": {},
     "output_type": "execute_result"
    }
   ],
   "source": [
    "print(f\"Yapım öncesi sabit yüklerden kaynaklı sehim (Ters sehim verilmemiştir.) = {delta_cdl}mm\")\n",
    "delta_cll = cp.MainCompositeBeamDeflection(P=52.5*2*10**3 , Lbeam=cp.Lbeam, I=I_real)\n",
    "print(f\"Kompozit kirişte hareketli yükten kaynaklı sehim {round(delta_cll,2)}mm\")\n",
    "\n",
    "delta_sdl = cp.MainCompositeBeamDeflection(P=21*2*10**3 , Lbeam=cp.Lbeam, I=I_real)\n",
    "print(f\"Kompozit kirişte sabit yüklerden kaynaklı sehim {round(delta_sdl,2)}mm\")\n",
    "\n",
    "delta_ctl = cp.calc_Delta_TL(delta_cdl=delta_cdl, delta_sdl=delta_sdl, delta_ll=delta_cll, delta_c=0)\n",
    "print(f\"Kompozit kirişte toplam yük etkisiyle oluşan sehim {round(delta_ctl,2)}mm\\n\")\n",
    "\n",
    "cp.DeflectionChecks2(delta=delta_cll,L=cp.Lbeam, Ratio=360)\n",
    "cp.DeflectionChecks2(delta=delta_ctl,L=cp.Lbeam, Ratio=300)"
   ]
  },
  {
   "cell_type": "code",
   "execution_count": 26,
   "metadata": {},
   "outputs": [],
   "source": [
    "# Ec = ConcreteYoungModules(fck=fck)\n",
    "# n = RatioYoungModules(Ec=Ec)\n",
    "# Rp = GetRp(IsPitchParaleltoBeam=False)\n",
    "# Rg = GetRg(StudsNumberInFlangeWidth=1,wr=wr,hr=hr,IsPitchParaleltoBeam=False)\n",
    "# Qn = OneStudShearCapacity(Asa=Asa, fck=fck, Ec=Ec, Rg=Rg, Rp=Rp, Fu=Fu)\n",
    "# TotalQn = ShearStudCapacity(N=N, Qn=Qn)\n",
    "# Itr = Calc_I_tr(n=n, b_eff=beff,hr=hr,hc=hc,hb=Hbeam,Ab=BeamAs,Ibeam=Ibeam)\n",
    "# Cf = Calc_Cf(Vbeam=T_steel,Vcon=C_conc)\n",
    "# Ieff = Calc_I_eff(Ibeam=Ibeam, TotalQn=TotalQn, Cf=Cf, Itr=Itr)"
   ]
  }
 ],
 "metadata": {
  "kernelspec": {
   "display_name": "Python 3",
   "language": "python",
   "name": "python3"
  },
  "language_info": {
   "codemirror_mode": {
    "name": "ipython",
    "version": 3
   },
   "file_extension": ".py",
   "mimetype": "text/x-python",
   "name": "python",
   "nbconvert_exporter": "python",
   "pygments_lexer": "ipython3",
   "version": "3.12.3"
  }
 },
 "nbformat": 4,
 "nbformat_minor": 2
}
