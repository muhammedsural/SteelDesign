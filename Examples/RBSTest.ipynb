{
 "cells": [
  {
   "cell_type": "markdown",
   "metadata": {},
   "source": [
    "# RBS DESIGN PROCEDURE"
   ]
  },
  {
   "cell_type": "markdown",
   "metadata": {},
   "source": [
    "### Step 1. Choose trial values for the beam sections, column sections and RBS dimensions\n",
    "\n",
    "a, b and c subject to the limits:\n",
    "    <li>0.5bbf ≤ a ≤ 0.75bbf</li> \n",
    "    <li>0.65d ≤ b ≤ 0.85d </li>\n",
    "    <li>0.1bbf ≤ c ≤ 0.25bbf </li>\n",
    "\n",
    "#### where\n",
    "* a = horizontal distance from face of column flange to start of an RBS cut,in. (mm) \\n\n",
    "* b = length of RBS cut, in. (mm)\\n\n",
    "* bbf = width of beam flange, in. (mm)\\n\n",
    "* c = depth of cut at center of reduced beam section, in. (mm)\\n\n",
    "* d = depth of beam, in. (mm)\\n\n",
    "\n",
    "<img src=\".\\Resources\\RBS.png\" width=\"800\" height=\"600\">\n"
   ]
  },
  {
   "cell_type": "markdown",
   "metadata": {},
   "source": [
    "### Step 2. Compute the plastic section modulus at the center of the reduced beam section:\n",
    "\n",
    "ZRBS = Zx - 2 * ct * bf (d - tbf) (5.8-4)\n",
    "\n",
    "where\n",
    "* ZRBS = plastic section modulus at center of reduced beam section, in.3 (mm3)\n",
    "* Zx = plastic section modulus about x-axis, for full beam cross section, inç 3 (mm3)\n",
    "* tbf = thickness of beam flange, in. (mm)"
   ]
  },
  {
   "cell_type": "markdown",
   "metadata": {},
   "source": [
    "### Step 3. Compute the probable maximum moment, Mpr, at the center of the reduced beam section:\n",
    "\n",
    "* Mpr = Cpr*Ry*Fy*ZRBS (5.8-5)"
   ]
  },
  {
   "cell_type": "markdown",
   "metadata": {},
   "source": [
    "### Step 4. Compute the shear force at the center of the reduced beam sections at each end of the beam.\n",
    "\n",
    "> The shear force at the center of the reduced beam sections shall be determined from a free-body diagram of the portion of the beam between the centers of the reduced beam sections. This calculation shall assume the moment at the center of each reduced beam section is Mpr and shall include gravity loads acting on the beam based on the load combination 1.2D + f1L + 0.2S, where f1 is the load factor determined by the applicable building code for live loads, but not less than 0.5. User Note: The load combination of 1.2D + f1L + 0.2S is in conformance with ASCE/SEI 7-16. When using the International Building Code, a factor of 0.7 must be used in lieu of the factor of 0.2 for S (snow) when the roof configuration is such that it does not shed snow off of the structure."
   ]
  },
  {
   "cell_type": "markdown",
   "metadata": {},
   "source": [
    "### Step 5. Compute the probable maximum moment at the face of the column.\n",
    "\n",
    "> The moment at the face of the column shall be computed from a free-body diagram of the segment of the beam between the center of the reduced beam section and the face of the column, as illustrated in Figure 5.2. Based on this free-body diagram, the moment at the face of the column is computed\n",
    "\n",
    "<img src=\".\\Resources\\RBS2.png\" width=\"800\" height=\"600\">\n",
    "\n",
    "as follows:\n",
    "\n",
    "<center>Mf = Mpr + VRBS * Sh </center>\n",
    "\n",
    "* Mf = probable maximum moment at face of column, kip-in. (N-mm)\n",
    "* Sh = distance from face of column to plastic hinge, in. (mm) = a + b/2, in. (mm)\n",
    "* VRBS = larger of the two values of shear force at center of the reduced beam section at each end of beam, kips (N)"
   ]
  },
  {
   "cell_type": "markdown",
   "metadata": {},
   "source": [
    "### Step 6. Compute Mpe, the plastic moment of the beam based on the expected yield stress:\n",
    "<center> Mpe = Ry*Fy*Zx  </center>"
   ]
  },
  {
   "cell_type": "markdown",
   "metadata": {},
   "source": [
    "### Step 7. Check the flexural strength of the beam at the face of the column:\n",
    "<center> Mf ≤ ϕd * Mpe </center>\n",
    " \n",
    "> If Equation is not satisfied, adjust the values of c, a and b, or adjust the section size, and repeat Steps 2 through 7."
   ]
  },
  {
   "cell_type": "markdown",
   "metadata": {},
   "source": [
    "### Step 8. Determine the required shear strength, Vu, of beam and beam web-to-column\n",
    "connection from:\n",
    "\n",
    "<center>Vu = (2*Mpr) / Lh + Vgravity</center>\n",
    "\n",
    "Where\n",
    "\n",
    "* Lh = distance between plastic hinge locations, in. (mm)\n",
    "* Vgravity = beam shear force resulting from 1.2D + f1L + 0.2S (where f1 is the load factor determined by the applicable * building code for live loads, but not less than 0.5), kips (N)\n",
    "* Vu = required shear strength of beam and beam web-to-column connection,kips (N)\n",
    "\n",
    "> Check design shear strength of beam according to Chapter G of the AISC Specification.User Note: The load combinationof 1.2D + f1L + 0.2S is in conformance with ASCE/SEI 7-16. When using the International Building Code, a factor of 0.7 must be used in lieu of the factor of 0.2 for S (snow) when the roof configuration is such that it does not shed snow off the structure."
   ]
  },
  {
   "cell_type": "markdown",
   "metadata": {},
   "source": [
    "### Step 9. Design the beam web-to-column connection according to Section 5.6.\n",
    "\n",
    "> _'BEAM WEB-TO-COLUMN FLANGE CONNECTION LIMITATIONS_ Beam web to column flange connections shall satisfy the following limitations: \n",
    "   * (1) The required shear strength of the beam web connection shall be determined according to Equation 5.8-9.\n",
    "   * (2) Web connection details shall be limited as follows:\n",
    "   * (a) For SMF systems, the beam web shall be connected to the column flange using a CJP groove weld extending between weld access holes. The single plate shear connection shall extend between the weld access holes as shown in Figure 5.1. The single-plate shear connection shall be permitted to be used as backing for the CJP groove weld. The thickness of the plate shall be at least a in. (10 mm). Weld tabs are not required at the ends of the CJP groove weld at the beam web. Bolt holes in the beam web for the purpose of erection are permitted.\n",
    "   * (b) For IMF systems, the beam web shall be connected to the column flange as required for SMF systems. Exception: For IMF, it is permitted to connect the beam web to the column flange using a bolted single-plate shear connection. The bolted single-plate shear connection shall be designed as a slip-critical connection, with the design slip resistance per bolt determined according to the AISC Specification. For seismic loading, the nominal bearing strength at bolt holes shall not be taken greater than the value given by Equation J3-6a of the AISC Specification. The design shear strength of the single-plate shear connection shall be determined based on shear yielding of the gross section and on shear rupture of the net section. The plate shall be welded to the column flange with a CJP groove weld or with fillet welds on both sides of the plate. The minimum size of the fillet weld on each side of the plate shall be 75% of the thickness of the plate. Standard holes shall be provided in the beam web and in the plate, except that short-slotted holes (with the slot parallel to the beam flanges) may be used in either the beam web or in the plate, but not in both. Bolts are permitted'"
   ]
  },
  {
   "cell_type": "markdown",
   "metadata": {},
   "source": [
    "### Step 10. Check continuity plate requirements according to Chapter 2."
   ]
  },
  {
   "cell_type": "markdown",
   "metadata": {},
   "source": [
    "### Step 11. Check column-beam relationship limitations according to Section 5.4"
   ]
  },
  {
   "cell_type": "code",
   "execution_count": null,
   "metadata": {
    "vscode": {
     "languageId": "plaintext"
    }
   },
   "outputs": [],
   "source": []
  }
 ],
 "metadata": {
  "language_info": {
   "name": "python"
  }
 },
 "nbformat": 4,
 "nbformat_minor": 2
}
