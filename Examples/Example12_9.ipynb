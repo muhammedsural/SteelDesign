{
 "cells": [
  {
   "cell_type": "markdown",
   "metadata": {},
   "source": [
    "![Example12_9.png](\\Resources\\Example12_9.png)\n",
    "![Example12_9-1.png](\\Resources\\Example12_9-1.png)"
   ]
  },
  {
   "cell_type": "code",
   "execution_count": 44,
   "metadata": {},
   "outputs": [],
   "source": [
    "from CompositeBeam import CompositeBeams\n",
    "import math"
   ]
  },
  {
   "cell_type": "markdown",
   "metadata": {},
   "source": [
    "### Variables"
   ]
  },
  {
   "cell_type": "code",
   "execution_count": 45,
   "metadata": {},
   "outputs": [],
   "source": [
    "cp = CompositeBeams(# Yapım aşaması yükleri\n",
    "                    DeadLoad   = 2.5, #kN/m^2\n",
    "                    LiveLoad_c = 1, #kN/m^2\n",
    "\n",
    "                    # Kompozit çalışma aşaması yükleri\n",
    "                    SuperDeadLoad = 2.0, #kN/m^2\n",
    "                    LiveLoad      = 4.0, #kN/m^2\n",
    "                    w_girder      = 1.0, #kN/m kiriş ağırlığı\n",
    "\n",
    "                    # Beton bilgisi\n",
    "                    f_ck     = 30,     #N/mm2\n",
    "                    wc       = 2400,   #kg/m3\n",
    "\n",
    "                    # Çelik malzeme bilgisi\n",
    "                    Fy       = 355,    #N/mm2\n",
    "                    Fu_beam  = 450,    #N/mm2\n",
    "\n",
    "                    # Çelik enkesit özellikleri\n",
    "                    Abeam    = 9_880,  #mm^2\n",
    "                    Hbeam    = 450,    #mm\n",
    "                    Hweb     = 378.8,  #mm\n",
    "                    b_flange = 190,    #mm\n",
    "                    t_flange = 14.6,   #mm\n",
    "                    t_web    = 9.4,    #mm\n",
    "                    Ix       = 33_740*10**4, #mm^4\n",
    "                    Ycon     = 130,    #mm Çelik kesit üst başlığından en üst beton lifine olan mesafe\n",
    "\n",
    "                    # Kiriş uzunluk ve aralık bilgisi\n",
    "                    Laralık  = 3000,   #mm\n",
    "                    Lbeam    = 7500,  #mm\n",
    "\n",
    "                    # Stud çivisi bilgisi\n",
    "                    D_stud   = 19,\n",
    "                    H_stud   = 100,\n",
    "                    b_studhead = 32      ,   #mm\n",
    "                    t_studhead = 10      ,  #mm\n",
    "                    Fu_stud  = 450, #N/mm2 çelik ankrajın minimum(karakteristik) çekme dayanımı\n",
    "                    CompRatio  = 1,    #Kompozitlik oranı minimum %25 olabilir. %100 tam etkileşimli kompozit demektir.\n",
    "                    Nw      = 1,       #Adet Kesit başlığının genişliğinde atılan stud çivisi adeti\n",
    "                    x      = 30 ,     #mm Kesit başlığının genişliğinde atılan stud çivileri arasındaki mesafe\n",
    "                    IsWebAlignmentWelded = False ,  #Stud çivisi kiriş gövdesi izasında mı kaynaklanıyor.\n",
    "                    # Metal sac bilgisi\n",
    "                    hr       = 50,     #mm\n",
    "                    wr       = 165,    #mm\n",
    "                    t_sac    = 1.2,    #mm\n",
    "                    RibsDistance = 2*165,   #mm 2*wr\n",
    "                    IsParallel   = False\n",
    ")"
   ]
  },
  {
   "cell_type": "code",
   "execution_count": 46,
   "metadata": {},
   "outputs": [
    {
     "name": "stdout",
     "output_type": "stream",
     "text": [
      "====================================================================================================\n",
      "Design Code Requirements\n",
      "\n",
      "20 N/mm^2 ≤ 30 N/mm^2 < 70 N/mm^2 √ - TSSDC 12.2.3(a)\n",
      "\n",
      "355 N/mm^2 ≤ 460 N/mm^2 √ - TSSDC 12.2.3(c)\n",
      "\n",
      "hr = 50mm ≤ 75mm √ - TSSDC 12.4.2.3\n",
      "\n",
      "wr = 165mm ≥ 50mm √ - TSSDC 12.4.2.3\n",
      "\n",
      "h_stud-hr-t_sac = 48.8mm ≥ 38mm √ - TSSDC 12.4.2.3\n",
      "\n",
      "Ycon - h_stud-t_sac = 28.8mm ≥ 13mm √ - TSSDC 12.4.2.3\n",
      "\n",
      "Ycon - hr = 80mm ≥ 50mm √ - TSSDC 12.4.2.3\n",
      "\n",
      "Ds = 19mm ≤ 2.5*tf = 36.5mm √ - TSSDC 12.8.1\n",
      "\n",
      "Ds = 19mm ≤ 19mm √ - TSSDC 12.8.1\n",
      "\n",
      "Hs = 100mm ≥ 4*Ds = 76mm √ - TSSDC 12.8.2\n",
      "\n",
      "alfa = 47.87 ≤ 3.76*(E/Fy)^0.5 = 89.25 √\n",
      "\n",
      "====================================================================================================\n",
      "Yapım aşaması\n",
      "\n",
      "Yapım aşaması sabit yüklerinden(döşeme ve çelik kiriş) kaynaklı deplasman\n",
      "\n",
      "5.19 ≤ L/360 = 20.83  √\n",
      "\n",
      "Ters sehim miktarı\n",
      "\n",
      "delta_cdl = 5.19mm < 19mm or Lbeam = 7500 < 7600mm olduğu için ters sehime gerek yoktur.\n",
      "\n",
      "Yapım aşaması hareketli yüklerinden kaynaklı deplasman 1.83mm\n",
      "\n",
      "Yapım aşaması toplam düşey yerdeğiştirme = 3.13mm, super dead düşey yerdeğiştirmesi yapım öncesi olmadığı için 0.0\n",
      "\n",
      "3.13 ≤ L/240 = 31.25  √\n",
      "\n",
      "====================================================================================================\n",
      "Verilen kompozitlik oranına göre stud çivisi sayısının hesaplanması\n",
      "\n",
      "b_eff = 1875.0mm\n",
      "\n",
      "tc = 80mm\n",
      "Rp = 0.75\n",
      "\n",
      "Rg = 1.0\n",
      "\n",
      "Qn = 0.5 * Asa * (fck*Ec)**0.5 = 129.145852kN\n",
      "\n",
      "Qn = 129.145852kN > Rg*Rp*Asa*Fu = 1.0*0.75*283.385*450 = 95.642438kN ==> Qn = 95.642438kN\n",
      "\n",
      "%100 kompozitlik oranı için belirlenen stud çivisi sayısı 1 * 37.0 = 37.\n",
      "\n",
      "Başlıkta 2 şerli olacak şekilde atama yapın ==> Nw = 2 yapın...\n",
      "\n",
      "Dizayn eğilme kapasitesinin hesaplanması \n",
      "\n",
      "a = 73.36mm\n",
      "\n",
      "Y2 = 93.32mm\n",
      "\n",
      "Y1=-280.50638297872337 < 0 ==> Y1 = 0\n",
      "\n",
      "Kompozit kiriş tam etkileşimlidir. Plastik tarafsız eksen beton döşemenin içindedir.\n",
      "\n",
      "φMn = φ * Mn_slab = 0.9 * 1116.476kNm = 1004.828kNm\n",
      "\n",
      "Arttırılmış yükler altında basit kirişteki talep eğilme dayanımının hesaplanması \n",
      "\n",
      "Mdemand = 257.34375kNm\n",
      "\n",
      "Talep/Kapasite oranı = 0.26\n",
      "\n",
      "3.24 ≤ L/360 = 20.83  √\n",
      "\n",
      "10.05 ≤ L/240 = 31.25  √\n",
      "\n",
      "s = 330mm ≥ 114mm √\n",
      "\n",
      "s = 330mm ≤ 1040mm √\n",
      "\n",
      "s = 330mm ≤ 914mm √\n",
      "\n"
     ]
    }
   ],
   "source": [
    "cp.Designer()"
   ]
  },
  {
   "cell_type": "markdown",
   "metadata": {},
   "source": [
    "### Design Code Requirements"
   ]
  },
  {
   "cell_type": "code",
   "execution_count": 47,
   "metadata": {},
   "outputs": [
    {
     "name": "stdout",
     "output_type": "stream",
     "text": [
      "20 N/mm^2 ≤ 30 N/mm^2 < 70 N/mm^2 √ - TSSDC 12.2.3(a)\n",
      "\n",
      "355 N/mm^2 ≤ 460 N/mm^2 √ - TSSDC 12.2.3(c)\n",
      "\n",
      "hr = 50mm ≤ 75mm √ - TSSDC 12.4.2.3\n",
      "\n",
      "wr = 165mm ≥ 50mm √ - TSSDC 12.4.2.3\n",
      "\n",
      "h_stud-hr-t_sac = 48.8mm ≥ 38mm √ - TSSDC 12.4.2.3\n",
      "\n",
      "Ycon - h_stud-t_sac = 28.8mm ≥ 13mm √ - TSSDC 12.4.2.3\n",
      "\n",
      "Ycon - hr = 80mm ≥ 50mm √ - TSSDC 12.4.2.3\n",
      "\n",
      "Ds = 19mm ≤ 2.5*tf = 36.5mm √ - TSSDC 12.8.1\n",
      "\n",
      "Ds = 19mm ≤ 19mm √ - TSSDC 12.8.1\n",
      "\n",
      "Hs = 100mm ≥ 4*Ds = 76mm √ - TSSDC 12.8.2\n",
      "\n"
     ]
    },
    {
     "data": {
      "text/plain": [
       "True"
      ]
     },
     "execution_count": 47,
     "metadata": {},
     "output_type": "execute_result"
    }
   ],
   "source": [
    "cp.ConcAvailableStressCheck(f_ck=cp.f_ck)\n",
    "cp.SteelAvailableStressCheck(Fy=cp.Fy)\n",
    "cp.MetalDeckCheck(hr=cp.hr,wr=cp.wr)\n",
    "cp.ConcreteCoverAboveTopOfHeadedStudAnchorsChecks(hr=cp.hr,t_sac=cp.t_sac, h_stud=cp.H_stud, Ycon=cp.Ycon)\n",
    "cp.StudCheck(Ds=cp.D_stud, tf=cp.t_flange, Hs=cp.H_stud, IsWebAlignmentWelded=cp.IsWebAlignmentWelded)"
   ]
  },
  {
   "cell_type": "markdown",
   "metadata": {},
   "source": [
    "### Yapım aşaması deplasman kontrolü"
   ]
  },
  {
   "cell_type": "code",
   "execution_count": 48,
   "metadata": {},
   "outputs": [
    {
     "data": {
      "text/plain": [
       "(8.5, 3.0)"
      ]
     },
     "execution_count": 48,
     "metadata": {},
     "output_type": "execute_result"
    }
   ],
   "source": [
    "# Yapım aşaması\n",
    "w_girder = 1.0 #kN/m kiriş ağırlığı\n",
    "W_G = cp.Calc_Load(Load=cp.DeadLoad, GirdersSpaceLength=cp.Laralık/10**3) + w_girder\n",
    "W_Q = cp.Calc_Load(Load=cp.LiveLoad_c, GirdersSpaceLength=cp.Laralık/10**3)\n",
    "W_G,W_Q"
   ]
  },
  {
   "cell_type": "code",
   "execution_count": 49,
   "metadata": {},
   "outputs": [
    {
     "data": {
      "text/plain": [
       "5.19"
      ]
     },
     "execution_count": 49,
     "metadata": {},
     "output_type": "execute_result"
    }
   ],
   "source": [
    "# Yapım aşaması sabit yüklerinden(döşeme ve çelik kiriş) kaynaklı deplasman\n",
    "delta_cdl = cp.SimpleCompositeBeamDeflection(w=W_G, Lbeam=cp.Lbeam, I=cp.Ix)\n",
    "delta_cdl"
   ]
  },
  {
   "cell_type": "code",
   "execution_count": 50,
   "metadata": {},
   "outputs": [
    {
     "name": "stdout",
     "output_type": "stream",
     "text": [
      "5.19 < 20.833333333333332\n"
     ]
    }
   ],
   "source": [
    "print(f\"{delta_cdl} < {(cp.Lbeam/360)}\")"
   ]
  },
  {
   "cell_type": "code",
   "execution_count": 51,
   "metadata": {},
   "outputs": [
    {
     "name": "stdout",
     "output_type": "stream",
     "text": [
      "delta_cdl = 5.19mm < 19mm or Lbeam = 7500 < 7600mm olduğu için ters sehime gerek yoktur.\n",
      "\n"
     ]
    }
   ],
   "source": [
    "# Ters sehim miktarı\n",
    "delta_c = cp.Camber(delta_cdl=delta_cdl, Lbeam=cp.Lbeam)"
   ]
  },
  {
   "cell_type": "code",
   "execution_count": 52,
   "metadata": {},
   "outputs": [
    {
     "data": {
      "text/plain": [
       "1.83"
      ]
     },
     "execution_count": 52,
     "metadata": {},
     "output_type": "execute_result"
    }
   ],
   "source": [
    "# Yapım aşaması hareketli yüklerinden kaynaklı deplasman\n",
    "delta_yll = cp.SimpleCompositeBeamDeflection(w=W_Q, Lbeam=cp.Lbeam, I=cp.Ix)\n",
    "delta_yll"
   ]
  },
  {
   "cell_type": "code",
   "execution_count": 53,
   "metadata": {},
   "outputs": [
    {
     "data": {
      "text/plain": [
       "3.13"
      ]
     },
     "execution_count": 53,
     "metadata": {},
     "output_type": "execute_result"
    }
   ],
   "source": [
    "# Yapım aşaması toplam düşey yerdeğiştirme, super dead düşey yerdeğiştirmesi yapım öncesi olmadığı için 0.0\n",
    "delta_ytl = cp.calc_Delta_TL(delta_cdl=delta_cdl, delta_sdl=0., delta_ll=delta_yll,delta_c=delta_c)\n",
    "delta_ytl"
   ]
  },
  {
   "cell_type": "markdown",
   "metadata": {},
   "source": [
    "### Kompozit kirişin karakteristik eğilme momenti dayanımının belirlenmesi"
   ]
  },
  {
   "cell_type": "code",
   "execution_count": 54,
   "metadata": {},
   "outputs": [
    {
     "name": "stdout",
     "output_type": "stream",
     "text": [
      "alfa = 47.87 ≤ 3.76*(E/Fy)^0.5 = 89.25 √\n"
     ]
    }
   ],
   "source": [
    "# Kirişenkesit kontrolü\n",
    "alfa = cp.Hbeam/cp.t_web\n",
    "print(f\"alfa = {round(alfa,2)} ≤ 3.76*(E/Fy)^0.5 = {round(3.76*(2*10**5/cp.Fy)**0.5,2)} √\")"
   ]
  },
  {
   "cell_type": "code",
   "execution_count": 55,
   "metadata": {},
   "outputs": [
    {
     "name": "stdout",
     "output_type": "stream",
     "text": [
      "b_eff = 1875.0mm\n",
      "\n"
     ]
    },
    {
     "data": {
      "text/plain": [
       "1875.0"
      ]
     },
     "execution_count": 55,
     "metadata": {},
     "output_type": "execute_result"
    }
   ],
   "source": [
    "# Effektif döşeme genişliği\n",
    "b_eff = cp.EffectiveSlabWidth(L=cp.Lbeam, Lu=cp.Laralık)\n",
    "b_eff"
   ]
  },
  {
   "cell_type": "code",
   "execution_count": 56,
   "metadata": {},
   "outputs": [
    {
     "name": "stdout",
     "output_type": "stream",
     "text": [
      "tc = 80mm\n"
     ]
    },
    {
     "data": {
      "text/plain": [
       "80"
      ]
     },
     "execution_count": 56,
     "metadata": {},
     "output_type": "execute_result"
    }
   ],
   "source": [
    "# Stud çivisiz beton yüksekliği\n",
    "tc = cp.Calc_tc(hr=cp.hr,Ycon=cp.Ycon,IsParallel=cp.IsParallel)\n",
    "tc"
   ]
  },
  {
   "cell_type": "code",
   "execution_count": 57,
   "metadata": {},
   "outputs": [
    {
     "data": {
      "text/plain": [
       "150000.0"
      ]
     },
     "execution_count": 57,
     "metadata": {},
     "output_type": "execute_result"
    }
   ],
   "source": [
    "# Stud çivisiz beton alanı\n",
    "Ac = b_eff * tc\n",
    "Ac"
   ]
  },
  {
   "cell_type": "code",
   "execution_count": 58,
   "metadata": {},
   "outputs": [
    {
     "data": {
      "text/plain": [
       "3507400"
      ]
     },
     "execution_count": 58,
     "metadata": {},
     "output_type": "execute_result"
    }
   ],
   "source": [
    "Cs = cp.YieldBeamCapacity(fy=cp.Fy,As=cp.Abeam)\n",
    "Cs"
   ]
  },
  {
   "cell_type": "code",
   "execution_count": 59,
   "metadata": {},
   "outputs": [
    {
     "data": {
      "text/plain": [
       "3825000.0"
      ]
     },
     "execution_count": 59,
     "metadata": {},
     "output_type": "execute_result"
    }
   ],
   "source": [
    "Cc = cp.CrushConcCapacity(fck=cp.f_ck,Ac=Ac)\n",
    "Cc"
   ]
  },
  {
   "cell_type": "code",
   "execution_count": 60,
   "metadata": {},
   "outputs": [
    {
     "name": "stdout",
     "output_type": "stream",
     "text": [
      "a = 73.35738562091504 mm\n",
      "Y2 = 93.32130718954248 mm\n",
      "Kompozit kiriş tam etkileşimlidir. Plastik tarafsız eksen beton döşemenin içindedir.\n",
      "φMn = φ * (min(C_conc,T_steel) * ( 0.5*Hbeam + hr + tc - 0.5*a)) \n",
      "= 0.9 * 3507400 *  318.32 = 1004832137.553\n"
     ]
    },
    {
     "data": {
      "text/plain": [
       "1004.83213755"
      ]
     },
     "execution_count": 60,
     "metadata": {},
     "output_type": "execute_result"
    }
   ],
   "source": [
    "Mn_design = cp.CompositeBeamDesignFlexuralCapacity(C_conc=Cc, T_steel=Cs, Ycon=cp.Ycon, \n",
    "                                    BeamAs=cp.Abeam, BeamFy= cp.Fy, Hbeam=cp.Hbeam, t_flange=cp.t_flange, b_flange=cp.b_flange, \n",
    "                                    Ac = Ac, hr=cp.hr,fck=cp.f_ck, beff=b_eff, tc=tc, t_web=cp.t_web)\n",
    "Mn_design/10**6"
   ]
  },
  {
   "cell_type": "markdown",
   "metadata": {},
   "source": [
    "### Arttırılmış düşey yükler altında eğilme momenti kapasite talebi"
   ]
  },
  {
   "cell_type": "code",
   "execution_count": 61,
   "metadata": {},
   "outputs": [
    {
     "data": {
      "text/plain": [
       "6.0"
      ]
     },
     "execution_count": 61,
     "metadata": {},
     "output_type": "execute_result"
    }
   ],
   "source": [
    "W_superdeadload = cp.Calc_Load(Load=cp.SuperDeadLoad,GirdersSpaceLength=cp.Laralık/10**3)\n",
    "W_superdeadload"
   ]
  },
  {
   "cell_type": "code",
   "execution_count": 62,
   "metadata": {},
   "outputs": [
    {
     "data": {
      "text/plain": [
       "14.5"
      ]
     },
     "execution_count": 62,
     "metadata": {},
     "output_type": "execute_result"
    }
   ],
   "source": [
    "W_G_composite = W_G + W_superdeadload\n",
    "W_G_composite"
   ]
  },
  {
   "cell_type": "code",
   "execution_count": 63,
   "metadata": {},
   "outputs": [
    {
     "data": {
      "text/plain": [
       "12.0"
      ]
     },
     "execution_count": 63,
     "metadata": {},
     "output_type": "execute_result"
    }
   ],
   "source": [
    "W_Q_composite = cp.Calc_Load(Load=cp.LiveLoad, GirdersSpaceLength=cp.Laralık/10**3)\n",
    "W_Q_composite"
   ]
  },
  {
   "cell_type": "code",
   "execution_count": 64,
   "metadata": {},
   "outputs": [
    {
     "data": {
      "text/plain": [
       "36.6"
      ]
     },
     "execution_count": 64,
     "metadata": {},
     "output_type": "execute_result"
    }
   ],
   "source": [
    "W_TL = cp.calc_w_tl(w_dl=W_G_composite, w_ll=W_Q_composite)\n",
    "W_TL"
   ]
  },
  {
   "cell_type": "code",
   "execution_count": 65,
   "metadata": {},
   "outputs": [
    {
     "data": {
      "text/plain": [
       "257.34375"
      ]
     },
     "execution_count": 65,
     "metadata": {},
     "output_type": "execute_result"
    }
   ],
   "source": [
    "M_demand = W_TL * cp.Lbeam**2 /8\n",
    "M_demand/10**6"
   ]
  },
  {
   "cell_type": "markdown",
   "metadata": {},
   "source": [
    "### Talep/Kapasite oranı"
   ]
  },
  {
   "cell_type": "code",
   "execution_count": 66,
   "metadata": {},
   "outputs": [
    {
     "data": {
      "text/plain": [
       "0.26"
      ]
     },
     "execution_count": 66,
     "metadata": {},
     "output_type": "execute_result"
    }
   ],
   "source": [
    "flexuralcapacityratio = round(M_demand / Mn_design,2)\n",
    "flexuralcapacityratio"
   ]
  },
  {
   "cell_type": "markdown",
   "metadata": {},
   "source": [
    "### Başlıklı çelik ankrajların sayısı ve yerleşimi"
   ]
  },
  {
   "cell_type": "code",
   "execution_count": 67,
   "metadata": {},
   "outputs": [
    {
     "data": {
      "text/plain": [
       "27691.465833357393"
      ]
     },
     "execution_count": 67,
     "metadata": {},
     "output_type": "execute_result"
    }
   ],
   "source": [
    "Ec = cp.ConcreteYoungModules(fck=cp.f_ck, wc=2400)\n",
    "Ec"
   ]
  },
  {
   "cell_type": "code",
   "execution_count": 68,
   "metadata": {},
   "outputs": [
    {
     "data": {
      "text/plain": [
       "283.385"
      ]
     },
     "execution_count": 68,
     "metadata": {},
     "output_type": "execute_result"
    }
   ],
   "source": [
    "A_sa = 3.14 * cp.D_stud**2 /4\n",
    "A_sa"
   ]
  },
  {
   "cell_type": "code",
   "execution_count": 69,
   "metadata": {},
   "outputs": [
    {
     "name": "stdout",
     "output_type": "stream",
     "text": [
      "Rg = 0.85\n",
      "\n"
     ]
    },
    {
     "data": {
      "text/plain": [
       "0.85"
      ]
     },
     "execution_count": 69,
     "metadata": {},
     "output_type": "execute_result"
    }
   ],
   "source": [
    "Rg = cp.GetRg(StudsNumberInFlangeWidth=2, wr=cp.wr, hr=cp.hr, IsPitchParaleltoBeam=cp.IsParallel)\n",
    "Rg"
   ]
  },
  {
   "cell_type": "code",
   "execution_count": 70,
   "metadata": {},
   "outputs": [
    {
     "name": "stdout",
     "output_type": "stream",
     "text": [
      "Rp = 0.75\n",
      "\n"
     ]
    },
    {
     "data": {
      "text/plain": [
       "0.75"
      ]
     },
     "execution_count": 70,
     "metadata": {},
     "output_type": "execute_result"
    }
   ],
   "source": [
    "Rp = cp.GetRp(Hstud = cp.H_stud, hr =cp.hr, t_studhead = cp.t_studhead, IsPitchParaleltoBeam=cp.IsParallel)\n",
    "Rp"
   ]
  },
  {
   "cell_type": "code",
   "execution_count": 71,
   "metadata": {},
   "outputs": [
    {
     "name": "stdout",
     "output_type": "stream",
     "text": [
      "Qn = 0.5 * Asa * (fck*Ec)**0.5 = 129.145852kN\n",
      "\n",
      "Qn = 129.145852kN > Rg*Rp*Asa*Fu = 0.85*0.75*283.385*450 = 81.296072kN ==> Qn = 81.296072kN\n",
      "\n"
     ]
    },
    {
     "data": {
      "text/plain": [
       "81296.072"
      ]
     },
     "execution_count": 71,
     "metadata": {},
     "output_type": "execute_result"
    }
   ],
   "source": [
    "Qn = cp.OneStudShearCapacity(Asa=A_sa, fck=cp.f_ck, Ec=Ec, Rg=Rg, Rp=Rp, Fu=cp.Fu_beam)\n",
    "Qn"
   ]
  },
  {
   "cell_type": "code",
   "execution_count": 72,
   "metadata": {},
   "outputs": [
    {
     "data": {
      "text/plain": [
       "(3507400, 3825000.0)"
      ]
     },
     "execution_count": 72,
     "metadata": {},
     "output_type": "execute_result"
    }
   ],
   "source": [
    "Cs,Cc"
   ]
  },
  {
   "cell_type": "code",
   "execution_count": 73,
   "metadata": {},
   "outputs": [
    {
     "data": {
      "text/plain": [
       "3507400"
      ]
     },
     "execution_count": 73,
     "metadata": {},
     "output_type": "execute_result"
    }
   ],
   "source": [
    "# Tam etkileşimli olduğu için\n",
    "C = min(Cs,Cc)\n",
    "C"
   ]
  },
  {
   "cell_type": "code",
   "execution_count": 74,
   "metadata": {},
   "outputs": [
    {
     "data": {
      "text/plain": [
       "3507400"
      ]
     },
     "execution_count": 74,
     "metadata": {},
     "output_type": "execute_result"
    }
   ],
   "source": [
    "V_üs = C\n",
    "V_üs"
   ]
  },
  {
   "cell_type": "code",
   "execution_count": 75,
   "metadata": {},
   "outputs": [
    {
     "data": {
      "text/plain": [
       "88"
      ]
     },
     "execution_count": 75,
     "metadata": {},
     "output_type": "execute_result"
    }
   ],
   "source": [
    "#  Başlık 2 şerli olarak kullanılması öngörüldüğü için 2 ile çarpılarak maksimum moment ile eğilme momentinin sıfır olduğu en yakın nokta (mesnet) arasında kullanılacak çelik ankraj sayısı\n",
    "\n",
    "N_studfullinteraction = math.ceil(V_üs / Qn) * 2\n",
    "N_studfullinteraction"
   ]
  },
  {
   "cell_type": "markdown",
   "metadata": {},
   "source": [
    "### Kısmi etkileşimli kabul edilip kompozitlik derecesi %25 alınırsa"
   ]
  },
  {
   "cell_type": "code",
   "execution_count": 76,
   "metadata": {},
   "outputs": [
    {
     "data": {
      "text/plain": [
       "876850.0"
      ]
     },
     "execution_count": 76,
     "metadata": {},
     "output_type": "execute_result"
    }
   ],
   "source": [
    "TotalQn = C*0.25\n",
    "TotalQn"
   ]
  },
  {
   "cell_type": "code",
   "execution_count": 77,
   "metadata": {},
   "outputs": [
    {
     "data": {
      "text/plain": [
       "22"
      ]
     },
     "execution_count": 77,
     "metadata": {},
     "output_type": "execute_result"
    }
   ],
   "source": [
    "N_studpartialinteraction = math.ceil(TotalQn / Qn)*2\n",
    "N_studpartialinteraction"
   ]
  },
  {
   "cell_type": "code",
   "execution_count": 78,
   "metadata": {},
   "outputs": [
    {
     "name": "stdout",
     "output_type": "stream",
     "text": [
      "a = 18.33934640522876 mm\n",
      "Y2 = 120.83032679738562 mm\n",
      "Kompozit kiriş kısmi etkileşimlidir. Kompozitlik oranı %25'in altına inmemelidir.\n",
      "\n",
      "Basınç bloğu başlıkta kabul edilirse; Y1(veya tf') = 19.5 mm\n",
      "PTE kiriş gövdesindedir.Çelikteki basınç derinliği(Y1 veya tf') yeniden hesaplanacak...\n",
      "Cflange = b_flange * t_flange * Fy = 984770.0 N\n",
      "Y1 = ((T_steel - C_conc - 2*Cflange) / (2*t_web*Fy)) + t_flange = 113.64255319148936mm\n",
      "Cweb = t_web * Fy * (Y1 - t_flange) = 330505.0 N\n",
      "φMn = φ * (C_conc*(Y1+Y2) + 2*Cflange*(Y1 - 0.5*t_flange) + 2*Cweb*(0.5*(Y1-t_flange)) + T_steel*(0.5*Hbeam-Y1)) = 0.9 * [205597544.818 + 209445912.213 + 32734059.043 + 390575108.936] = 754517362.509 \n"
     ]
    },
    {
     "data": {
      "text/plain": [
       "754.51736251"
      ]
     },
     "execution_count": 78,
     "metadata": {},
     "output_type": "execute_result"
    }
   ],
   "source": [
    "Mn_design2 = cp.CompositeBeamDesignFlexuralCapacity(C_conc=TotalQn,T_steel=Cs,Ycon=cp.Ycon, \n",
    "                                    BeamAs=cp.Abeam, BeamFy= cp.Fy, Hbeam=cp.Hbeam, t_flange=cp.t_flange, b_flange=cp.b_flange, \n",
    "                                    Ac = Ac, hr=cp.hr,fck=cp.f_ck, beff=b_eff, tc=tc, t_web=cp.t_web)\n",
    "Mn_design2/10**6"
   ]
  },
  {
   "cell_type": "code",
   "execution_count": 79,
   "metadata": {},
   "outputs": [
    {
     "data": {
      "text/plain": [
       "0.3410706801284368"
      ]
     },
     "execution_count": 79,
     "metadata": {},
     "output_type": "execute_result"
    }
   ],
   "source": [
    "M_demand/Mn_design2"
   ]
  },
  {
   "cell_type": "code",
   "execution_count": null,
   "metadata": {},
   "outputs": [],
   "source": []
  }
 ],
 "metadata": {
  "kernelspec": {
   "display_name": "Python 3",
   "language": "python",
   "name": "python3"
  },
  "language_info": {
   "codemirror_mode": {
    "name": "ipython",
    "version": 3
   },
   "file_extension": ".py",
   "mimetype": "text/x-python",
   "name": "python",
   "nbconvert_exporter": "python",
   "pygments_lexer": "ipython3",
   "version": "3.12.0"
  }
 },
 "nbformat": 4,
 "nbformat_minor": 2
}
