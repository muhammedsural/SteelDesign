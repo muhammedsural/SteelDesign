{
 "cells": [
  {
   "cell_type": "code",
   "execution_count": 1,
   "metadata": {},
   "outputs": [],
   "source": [
    "from CompositeBeam import CompositeBeams"
   ]
  },
  {
   "cell_type": "markdown",
   "metadata": {},
   "source": [
    "![Example12_6.png](\\Resources\\Example12_6.png)"
   ]
  },
  {
   "cell_type": "code",
   "execution_count": 2,
   "metadata": {},
   "outputs": [],
   "source": [
    "cp = CompositeBeams(# Beton bilgisi\n",
    "                    f_ck     = 30  ,   #N/mm2\n",
    "                    wc       = 2400,   #kg/m3\n",
    "\n",
    "                    # Çelik malzeme bilgisi\n",
    "                    Fy       = 355, #N/mm2\n",
    "                    Fu_beam  = 355*1.2, #N/mm2\n",
    "\n",
    "                    # Çelik enkesit özellikleri\n",
    "                    Abeam     = 7270,     #mm^2\n",
    "                    Hbeam     = 360 ,       #mm\n",
    "                    Hweb      = 334.6  ,    #mm\n",
    "                    b_flange  = 170  ,      #mm\n",
    "                    t_flange  = 8   ,     #mm\n",
    "                    t_web     = 12.7 ,      #mm\n",
    "                    Ix        = 16300*10**4, #mm^4\n",
    "                    Ycon      = 150  ,     #mm Çelik kesit üst başlığından en üst beton lifine olan mesafe\n",
    "\n",
    "                    # Kiriş uzunluk ve aralık bilgisi\n",
    "                    Laralık  = 3000,  #mm\n",
    "                    Lbeam    = 10000,  #mm\n",
    "\n",
    "                    # Metal sac bilgisi\n",
    "                    hr           = 50,    #mm\n",
    "                    wr           = 100,   #mm\n",
    "                    t_sac        = 1.0,   #mm\n",
    "                    RibsDistance = 250,   #mm 2*wr\n",
    "                    IsParallel   = False\n",
    "    )"
   ]
  },
  {
   "cell_type": "code",
   "execution_count": 3,
   "metadata": {},
   "outputs": [
    {
     "name": "stdout",
     "output_type": "stream",
     "text": [
      "20 N/mm^2 ≤ 30 N/mm^2 < 70 N/mm^2 √ - TSSDC 12.2.3(a)\n",
      "\n",
      "355 N/mm^2 ≤ 460 N/mm^2 √ - TSSDC 12.2.3(c)\n",
      "\n",
      "h/tw = 28.35 ≤ 3.76*(E/Fy)^0.5 = 89.25 √\n",
      "\n"
     ]
    }
   ],
   "source": [
    "GeomCheck = cp.ConcAvailableStressCheck(f_ck = cp.f_ck)\n",
    "GeomCheck = cp.SteelAvailableStressCheck(Fy = cp.Fy)\n",
    "if GeomCheck != True:\n",
    "    print(\"Geometrik kontroller sağlanmalı hesap yapılmadı!!!\\n\")\n",
    "# Kiriş enkesit kontrolü\n",
    "SectionCheck = cp.SectionCheck(Hbeam=cp.Hbeam, t_web=cp.t_web, Fy=cp.Fy)\n",
    "if SectionCheck != True:\n",
    "    print(\"Kesit değiştirin!!!\\n\")"
   ]
  },
  {
   "cell_type": "code",
   "execution_count": 4,
   "metadata": {},
   "outputs": [
    {
     "name": "stdout",
     "output_type": "stream",
     "text": [
      "b_eff = 2500.0mm\n",
      "\n",
      "tc = 100mm\n",
      "Ac = 250000.0mm^2\n"
     ]
    }
   ],
   "source": [
    "b_eff       = cp.EffectiveSlabWidth(L = cp.Lbeam, Lu = cp.Laralık) # Effektif döşeme genişliği\n",
    "tc          = cp.Calc_tc(hr = cp.hr,Ycon = cp.Ycon, IsParallel = cp.IsParallel) # Stud çivisiz beton yüksekliği\n",
    "Ac          = cp.Calc_Ac(b_eff=b_eff, tc=tc) # Stud çivisiz beton alanı\n",
    "Cc          = cp.CrushConcCapacity(fck = cp.f_ck,Ac=Ac)\n",
    "Cs          = cp.YieldBeamCapacity(fy = cp.Fy, As = cp.Abeam)\n",
    "Cf          = cp.Calc_Cf(Vbeam=Cs, Vcon=Cc)"
   ]
  },
  {
   "cell_type": "code",
   "execution_count": 5,
   "metadata": {},
   "outputs": [
    {
     "name": "stdout",
     "output_type": "stream",
     "text": [
      "a = 40.48mm\n",
      "\n",
      "Y2 = 129.76mm\n",
      "\n",
      "PTE başlıkta kabul edilirse Y1 = (T_steel - C_conc) / (2*BeamFy*b_flange) = -31.43mm\n",
      "PTE beton döşeme içerisindedir Y1=-31.43 < 0 ==> Y1 = 0\n",
      "\n",
      "Kompozit kiriş tam etkileşimlidir. Plastik tarafsız eksen beton döşemenin içindedir.\n",
      "\n",
      "φMn = φ * Mn_slab = 0.9 * 799.444kNm = 719.5kNm\n",
      "\n"
     ]
    }
   ],
   "source": [
    "a           = cp.Calc_a(Cf =Cf, fck = cp.f_ck, b_eff = b_eff)\n",
    "Y2          = cp.Calc_Y2(Ycon = cp.Ycon, a = a)\n",
    "Y1          = cp.Calc_Y1(T_steel=Cs, C_conc=Cc, b_flange=cp.b_flange, t_flange = cp.t_flange, t_web = cp.t_web,BeamFy = cp.Fy)\n",
    "C_flange    = cp.Calc_Cflange(t_flange = cp.t_flange, Y1 = Y1, b_flange = cp.b_flange, BeamFy = cp.Fy)\n",
    "C_web       = cp.Calc_Cweb(Y1=Y1, t_flange = cp.t_flange, t_web = cp.t_web, BeamFy = cp.Fy)\n",
    "Mn_web      = cp.PTEInWebMn(T_steel=Cs, C_conc=Cc, Cflange=C_flange, Cweb=C_web, Hbeam = cp.Hbeam, t_flange =cp.t_flange, Y1=Y1, Y2=Y2)\n",
    "Mn_flange   = cp.PTEInFlangeMn(C_conc=Cc, Cflange=C_flange, Hbeam = cp.Hbeam, BeamAs = cp.Abeam, BeamFy = cp.Fy, Y1=Y1, Y2=Y2)\n",
    "Mn_slab     = cp.PTEInSlabMn(Cf=Cf, Hbeam = cp.Hbeam, hr = cp.hr, tc=tc, a=a)\n",
    "Mn_design   = cp.CompositeBeamDesignFlexuralCapacity2(C_conc=Cc, T_steel=Cs,Mn_web=Mn_web, Mn_slab=Mn_slab,Mn_flange=Mn_flange, Y1=Y1, t_flange = cp.t_flange, fi_b=0.9)"
   ]
  },
  {
   "cell_type": "markdown",
   "metadata": {},
   "source": [
    "![Example12_6_answer.png](\\Resources\\Example12_6_answer.png)"
   ]
  }
 ],
 "metadata": {
  "kernelspec": {
   "display_name": "Python 3",
   "language": "python",
   "name": "python3"
  },
  "language_info": {
   "codemirror_mode": {
    "name": "ipython",
    "version": 3
   },
   "file_extension": ".py",
   "mimetype": "text/x-python",
   "name": "python",
   "nbconvert_exporter": "python",
   "pygments_lexer": "ipython3",
   "version": "3.12.3"
  }
 },
 "nbformat": 4,
 "nbformat_minor": 2
}
