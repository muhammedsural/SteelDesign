{
 "cells": [
  {
   "cell_type": "code",
   "execution_count": 1,
   "metadata": {},
   "outputs": [],
   "source": [
    "from CompositeBeam import CompositeBeams"
   ]
  },
  {
   "cell_type": "markdown",
   "metadata": {},
   "source": [
    "![compositebeamexample.png](\\Resources\\CompositeBeamExample.png)"
   ]
  },
  {
   "cell_type": "code",
   "execution_count": 7,
   "metadata": {},
   "outputs": [],
   "source": [
    "cp = CompositeBeams(DeadLoad   = 3.73, #kN/m^2\n",
    "                    LiveLoad_c = 1, #kN/m^2\n",
    "\n",
    "                    # Kompozit çalışma aşaması yükleri\n",
    "                    SuperDeadLoad = 0.0, #kN/m^2\n",
    "                    LiveLoad      = 2.0, #kN/m^2\n",
    "                    w_girder      = 1.0, #kN/m kiriş ağırlığı\n",
    "\n",
    "                    # Beton bilgisi\n",
    "                    f_ck     = 30  ,   #N/mm2\n",
    "                    wc       = 2400,   #kg/m3\n",
    "\n",
    "                    # Çelik malzeme bilgisi\n",
    "                    Fy       = 355, #N/mm2\n",
    "                    Fu_beam  = 355*1.2, #N/mm2\n",
    "\n",
    "                    # Çelik enkesit özellikleri\n",
    "                    Abeam     = 33_420,     #mm^2\n",
    "                    Hbeam     = 800 ,       #mm\n",
    "                    Hweb      = 734  ,    #mm\n",
    "                    b_flange  = 300  ,      #mm\n",
    "                    t_flange  = 33   ,     #mm\n",
    "                    t_web     = 17.5 ,      #mm\n",
    "                    Ix        = 2790.8*10**4, #mm^4\n",
    "                    Ycon      = 150  ,     #mm Çelik kesit üst başlığından en üst beton lifine olan mesafe\n",
    "\n",
    "                    # Kiriş uzunluk ve aralık bilgisi\n",
    "                    Laralık  = 4000,  #mm\n",
    "                    Lbeam    = 10000,  #mm\n",
    "\n",
    "                    # Stud çivisi bilgisi\n",
    "                    D_stud               = 19       , #mm\n",
    "                    H_stud               = 100      ,  #mm\n",
    "                    b_studhead           = 32      ,   #mm\n",
    "                    t_studhead           = 10      ,  #mm\n",
    "                    Fy_stud              = 235     ,   #N/mm2 çelik ankrajın minimum(karakteristik) akma dayanımı\n",
    "                    Fu_stud              = 235*1.2 ,   #N/mm2 çelik ankrajın minimum(karakteristik) çekme dayanımı\n",
    "                    CompRatio            = 1,    #Kompozitlik oranı minimum %25 olabilir. %100 tam etkileşimli kompozit demektir.\n",
    "                    Nw                   = 1,       #Adet Kesit başlığının genişliğinde atılan stud çivisi adeti\n",
    "                    x                    = 30 ,     #mm Kesit başlığının genişliğinde atılan stud çivileri arasındaki mesafe\n",
    "                    IsWebAlignmentWelded = False ,  #Stud çivisi kiriş gövdesi izasında mı kaynaklanıyor.\n",
    "\n",
    "                    # Metal sac bilgisi\n",
    "                    hr           = 50,    #mm\n",
    "                    wr           = 100,   #mm\n",
    "                    t_sac        = 1.0,   #mm\n",
    "                    RibsDistance = 250,   #mm 2*wr\n",
    "                    IsParallel   = True\n",
    "    )"
   ]
  },
  {
   "cell_type": "code",
   "execution_count": 8,
   "metadata": {},
   "outputs": [
    {
     "name": "stdout",
     "output_type": "stream",
     "text": [
      "====================================================================================================\n",
      "Design Code Requirements\n",
      "\n",
      "20 N/mm^2 ≤ 30 N/mm^2 < 70 N/mm^2 √ - TSSDC 12.2.3(a)\n",
      "\n",
      "355 N/mm^2 ≤ 460 N/mm^2 √ - TSSDC 12.2.3(c)\n",
      "\n",
      "hr = 50mm ≤ 75mm √ - TSSDC 12.4.2.3\n",
      "\n",
      "wr = 100mm ≥ 50mm √ - TSSDC 12.4.2.3\n",
      "\n",
      "h_stud-hr-t_sac = 49.0mm ≥ 38mm √ - TSSDC 12.4.2.3\n",
      "\n",
      "Ycon - h_stud-t_sac = 49.0mm ≥ 13mm √ - TSSDC 12.4.2.3\n",
      "\n",
      "Ycon - hr = 100mm ≥ 50mm √ - TSSDC 12.4.2.3\n",
      "\n",
      "Ds = 19mm ≤ 2.5*tf = 82.5mm √ - TSSDC 12.8.1\n",
      "\n",
      "Ds = 19mm ≤ 19mm √ - TSSDC 12.8.1\n",
      "\n",
      "Hs = 100mm ≥ 4*Ds = 76mm √ - TSSDC 12.8.2\n",
      "\n",
      "alfa = 45.71 ≤ 3.76*(E/Fy)^0.5 = 89.25 √\n",
      "\n",
      "====================================================================================================\n",
      "Yapım aşaması\n",
      "\n",
      "Yapım aşaması sabit yüklerinden(döşeme ve çelik kiriş) kaynaklı deplasman\n",
      "\n",
      "371.38 > L/360 = 27.78 X\n",
      "\n",
      "Ters sehim miktarı\n",
      "\n",
      "Yapım aşaması hareketli yüklerinden kaynaklı deplasman 93.31mm\n",
      "\n",
      "Yapım aşaması toplam düşey yerdeğiştirme = 186.16mm, super dead düşey yerdeğiştirmesi yapım öncesi olmadığı için 0.0\n",
      "\n",
      "186.16 > L/240 = 41.67 X\n",
      "\n",
      "====================================================================================================\n",
      "Verilen kompozitlik oranına göre stud çivisi sayısının hesaplanması\n",
      "\n",
      "b_eff = 2500.0mm\n",
      "\n",
      "tc = 125.0mm\n",
      "Rp = 0.75\n",
      "\n",
      "Rg = 1.0\n",
      "\n",
      "Qn = 0.5 * Asa * (fck*Ec)**0.5 = 129.145852kN\n",
      "\n",
      "Qn = 129.145852kN > Rg*Rp*Asa*Fu = 1.0*0.75*283.385*426.0 = 90.541507kN ==> Qn = 90.541507kN\n",
      "\n",
      "%100 kompozitlik oranı için belirlenen stud çivisi sayısı 1 * 89.0 = 89.\n",
      "\n",
      "Dizayn eğilme kapasitesinin hesaplanması \n",
      "\n",
      "a = 125.0mm\n",
      "\n",
      "Y2 = 87.5mm\n",
      "\n",
      "Y1=-219.20523138833 < 0 ==> Y1 = 0\n",
      "\n",
      "Kompozit kiriş kısmi etkileşimlidir. Kompozitlik oranı %25'in altına inmemelidir.\n",
      "\n",
      "PTE kiriş başlığındadır.\n",
      "\n",
      "φMn = φ * Mn_flange = 0.9 * 5442.906kNm = 4898.615kNm\n",
      "\n",
      "Arttırılmış yükler altında basit kirişteki talep eğilme dayanımının hesaplanması \n",
      "\n",
      "Mdemand = 398.8kNm\n",
      "\n",
      "Talep/Kapasite oranı = 0.08\n",
      "\n",
      "1.37 ≤ L/360 = 27.78  √\n",
      "\n",
      "372.75 > L/240 = 41.67 X\n",
      "\n",
      "s = 250mm ≥ 114mm √\n",
      "\n",
      "s = 250mm ≤ 1200mm √\n",
      "\n",
      "s = 250mm ≤ 914mm √\n",
      "\n"
     ]
    }
   ],
   "source": [
    "cp.Designer()"
   ]
  },
  {
   "cell_type": "code",
   "execution_count": 4,
   "metadata": {
    "notebookRunGroups": {
     "groupValue": "1"
    }
   },
   "outputs": [],
   "source": [
    "# Variables\n",
    "f_ck     = 30     #N/mm2\n",
    "Fy       = 355    #N/mm2\n",
    "Abeam    = 33_420 #mm^2\n",
    "Hbeam    = 800    #mm\n",
    "Hweb     = 734    #mm\n",
    "b_flange = 300    #mm\n",
    "t_flange = 33     #mm\n",
    "t_web    = 17.5   #mm\n",
    "Laralık  = 4000   #mm\n",
    "Lbeam    = 10000  #mm\n",
    "Ycon     = 150    #mm Çelik kesit üst başlığından en üst beton lifine olan mesafe\n",
    "hr       = 50     #mm\n"
   ]
  },
  {
   "cell_type": "code",
   "execution_count": 3,
   "metadata": {
    "notebookRunGroups": {
     "groupValue": "1"
    }
   },
   "outputs": [
    {
     "name": "stdout",
     "output_type": "stream",
     "text": [
      "20 N/mm^2 ≤ 30 N/mm^2 < 70 N/mm^2 √\n"
     ]
    },
    {
     "data": {
      "text/plain": [
       "True"
      ]
     },
     "execution_count": 3,
     "metadata": {},
     "output_type": "execute_result"
    }
   ],
   "source": [
    "comp.ConcAvailableStressCheck(f_ck=f_ck)"
   ]
  },
  {
   "cell_type": "code",
   "execution_count": 4,
   "metadata": {},
   "outputs": [
    {
     "name": "stdout",
     "output_type": "stream",
     "text": [
      "355 N/mm^2 ≤ 460 N/mm^2 √\n"
     ]
    },
    {
     "data": {
      "text/plain": [
       "True"
      ]
     },
     "execution_count": 4,
     "metadata": {},
     "output_type": "execute_result"
    }
   ],
   "source": [
    "comp.SteelAvailableStressCheck(Fy=Fy)"
   ]
  },
  {
   "cell_type": "code",
   "execution_count": 5,
   "metadata": {
    "notebookRunGroups": {
     "groupValue": "1"
    }
   },
   "outputs": [
    {
     "data": {
      "text/plain": [
       "2500.0"
      ]
     },
     "execution_count": 5,
     "metadata": {},
     "output_type": "execute_result"
    }
   ],
   "source": [
    "b_eff = comp.EffectiveSlabWidth(L=Lbeam,Lu=Laralık)\n",
    "b_eff"
   ]
  },
  {
   "cell_type": "code",
   "execution_count": 6,
   "metadata": {},
   "outputs": [
    {
     "data": {
      "text/plain": [
       "125.0"
      ]
     },
     "execution_count": 6,
     "metadata": {},
     "output_type": "execute_result"
    }
   ],
   "source": [
    "tc = comp.Calc_tc(hr=hr,Ycon=Ycon,IsParallel=True)\n",
    "tc"
   ]
  },
  {
   "cell_type": "code",
   "execution_count": 7,
   "metadata": {
    "notebookRunGroups": {
     "groupValue": "1"
    }
   },
   "outputs": [
    {
     "data": {
      "text/plain": [
       "312500.0"
      ]
     },
     "execution_count": 7,
     "metadata": {},
     "output_type": "execute_result"
    }
   ],
   "source": [
    "Ac = tc * b_eff\n",
    "Ac"
   ]
  },
  {
   "cell_type": "code",
   "execution_count": 8,
   "metadata": {
    "notebookRunGroups": {
     "groupValue": "1"
    }
   },
   "outputs": [
    {
     "data": {
      "text/plain": [
       "11864100"
      ]
     },
     "execution_count": 8,
     "metadata": {},
     "output_type": "execute_result"
    }
   ],
   "source": [
    "Cs = comp.YieldBeamCapacity(fy=Fy,As=Abeam)\n",
    "Cs"
   ]
  },
  {
   "cell_type": "code",
   "execution_count": 9,
   "metadata": {},
   "outputs": [
    {
     "data": {
      "text/plain": [
       "7968750.0"
      ]
     },
     "execution_count": 9,
     "metadata": {},
     "output_type": "execute_result"
    }
   ],
   "source": [
    "Cc = comp.CrushConcCapacity(fck=f_ck,Ac=Ac)\n",
    "Cc"
   ]
  },
  {
   "cell_type": "code",
   "execution_count": 10,
   "metadata": {},
   "outputs": [
    {
     "data": {
      "text/plain": [
       "7968750.0"
      ]
     },
     "execution_count": 10,
     "metadata": {},
     "output_type": "execute_result"
    }
   ],
   "source": [
    "C = min(Cs,Cc)\n",
    "C"
   ]
  },
  {
   "cell_type": "code",
   "execution_count": 11,
   "metadata": {},
   "outputs": [
    {
     "name": "stdout",
     "output_type": "stream",
     "text": [
      "a = 125.0 mm\n",
      "Y2 = 87.5 mm\n",
      "Kompozit kiriş kısmi etkileşimlidir. Kompozitlik oranı %25'in altına inmemelidir.\n",
      "Y1(veya tf') = 18.29 mm\n",
      "PTE kiriş başlığındadır.\n",
      "Csflange = Fy*b_flange*Y1 = 1947885.0 N\n",
      "φMn = φ * ((C_conc*(Y1+Y2)) + (2*Csflange*Y1/2) + (BeamAs*BeamFy*( (Hbeam/2) - Y1))) = 0.9 * 843014062.5 +  35626816.65 + 4528645611.0 = 4866557841.135\n"
     ]
    },
    {
     "data": {
      "text/plain": [
       "4866.55784114"
      ]
     },
     "execution_count": 11,
     "metadata": {},
     "output_type": "execute_result"
    }
   ],
   "source": [
    "DesignMn = comp.CompositeBeamDesignFlexuralCapacity(C_conc=Cc, T_steel=Cs, Ycon=Ycon, \n",
    "                                    BeamAs=Abeam, BeamFy= Fy, Hbeam=Hbeam, t_flange=t_flange, b_flange=b_flange, \n",
    "                                    Ac=Ac, hr=hr,fck=f_ck, beff=b_eff, tc=tc, t_web=t_web)\n",
    "DesignMn/10**6"
   ]
  },
  {
   "cell_type": "code",
   "execution_count": null,
   "metadata": {},
   "outputs": [],
   "source": []
  }
 ],
 "metadata": {
  "kernelspec": {
   "display_name": "Python 3",
   "language": "python",
   "name": "python3"
  },
  "language_info": {
   "codemirror_mode": {
    "name": "ipython",
    "version": 3
   },
   "file_extension": ".py",
   "mimetype": "text/x-python",
   "name": "python",
   "nbconvert_exporter": "python",
   "pygments_lexer": "ipython3",
   "version": "3.12.0"
  }
 },
 "nbformat": 4,
 "nbformat_minor": 2
}
