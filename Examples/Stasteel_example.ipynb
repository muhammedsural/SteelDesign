{
 "cells": [
  {
   "cell_type": "markdown",
   "metadata": {},
   "source": [
    "![StaSteelExample1.png](\\Resources\\StaSteelExample1.png)\n",
    "![StaSteelExample1.png](\\Resources\\StaSteelExample1_metaldeck.png)\n",
    "![StaSteelExample1.png](\\Resources\\StaSteelExample1_metaldeck_load.png)\n",
    "![StaSteelExample1.png](\\Resources\\StaSteelExample1_stud.png)\n",
    "![StaSteelExample1.png](\\Resources\\StaSteelExample1_stud2.png)"
   ]
  },
  {
   "cell_type": "code",
   "execution_count": 41,
   "metadata": {},
   "outputs": [],
   "source": [
    "import CompositeBeam as cp\n",
    "import math"
   ]
  },
  {
   "cell_type": "markdown",
   "metadata": {},
   "source": [
    "### Variables"
   ]
  },
  {
   "cell_type": "code",
   "execution_count": 42,
   "metadata": {},
   "outputs": [],
   "source": [
    "# Birimler N,mm\n",
    "comp = cp.CompositeBeams(# Yapım aşaması yükleri\n",
    "DeadLoad   = 3.221, #kN/m^2\n",
    "LiveLoad_c = 1, #kN/m^2\n",
    "\n",
    "# Kompozit çalışma aşaması yükleri\n",
    "SuperDeadLoad = 0.0, #kN/m^2\n",
    "LiveLoad      = 2.0, #kN/m^2\n",
    "w_girder      = 1.0, #kN/m kiriş ağırlığı\n",
    "\n",
    "# Beton bilgisi\n",
    "f_ck     = 20,     #N/mm2\n",
    "wc       = 2500,   #kg/m3\n",
    "\n",
    "# Çelik malzeme bilgisi\n",
    "Fy       = 235,        #N/mm2\n",
    "Fu_beam  = 235*1.2,    #N/mm2\n",
    "\n",
    "# Çelik enkesit özellikleri\n",
    "Abeam    = 2868.8,     #mm^2\n",
    "Hbeam    = 200,        #mm\n",
    "Hweb     = 378.8,      #mm\n",
    "b_flange = 100,        #mm\n",
    "t_flange = 8.5,        #mm\n",
    "t_web    = 5.6,        #mm\n",
    "Ix       = 1940*10**4, #mm^4\n",
    "Ycon     = 150,        #mm Çelik kesit üst başlığından en üst beton lifine olan mesafe\n",
    "\n",
    "# Kiriş uzunluk ve aralık bilgisi\n",
    "Laralık  = 1250,  #mm\n",
    "Lbeam    = 4840,  #mm\n",
    "\n",
    "# Stud çivisi bilgisi\n",
    "D_stud     = 19,      #mm\n",
    "H_stud     = 100,     #mm\n",
    "b_studhead = 32,      #mm\n",
    "t_studhead = 10,      #mm\n",
    "Fy_stud    = 235,     #N/mm2 çelik ankrajın minimum(karakteristik) akma dayanımı\n",
    "Fu_stud    = 235*1.2, #N/mm2 çelik ankrajın minimum(karakteristik) çekme dayanımı\n",
    "Nw         = 2,       #Kesit başlığının genişliğinde atılan stud çivisi adeti\n",
    "IsWebAlignmentWelded=False, #Stud çivisi kiriş gövdesi izasında mı kaynaklanıyor.\n",
    "\n",
    "# Metal sac bilgisi\n",
    "hr       = 50,     #mm\n",
    "wr       = 100,    #mm\n",
    "t_sac    = 1.0,    #mm\n",
    "IsParallel=True)"
   ]
  },
  {
   "cell_type": "markdown",
   "metadata": {},
   "source": [
    "### Design Code Requirements"
   ]
  },
  {
   "cell_type": "code",
   "execution_count": 43,
   "metadata": {},
   "outputs": [
    {
     "name": "stdout",
     "output_type": "stream",
     "text": [
      "20 N/mm^2 ≤ 20 N/mm^2 < 70 N/mm^2 √ - TSSDC 12.2.3(a)\n",
      "\n",
      "235 N/mm^2 ≤ 460 N/mm^2 √ - TSSDC 12.2.3(c)\n",
      "\n",
      "hr = 50mm ≤ 75mm √ - TSSDC 12.4.2.3\n",
      "\n",
      "wr = 100mm ≥ 50mm √ - TSSDC 12.4.2.3\n",
      "\n",
      "h_stud-hr-t_sac = 49.0mm ≥ 38mm √ - TSSDC 12.4.2.3\n",
      "\n",
      "Ycon - h_stud-t_sac = 49.0mm ≥ 13mm √ - TSSDC 12.4.2.3\n",
      "\n",
      "Ycon - hr = 100mm ≥ 50mm √ - TSSDC 12.4.2.3\n",
      "\n",
      "Ds = 19mm ≤ 2.5*tf = 21.25mm √ - TSSDC 12.8.1\n",
      "\n",
      "Ds = 19mm ≤ 19mm √ - TSSDC 12.8.1\n",
      "\n",
      "Hs = 100mm ≥ 4*Ds = 76mm √ - TSSDC 12.8.2\n",
      "\n"
     ]
    },
    {
     "data": {
      "text/plain": [
       "True"
      ]
     },
     "execution_count": 43,
     "metadata": {},
     "output_type": "execute_result"
    }
   ],
   "source": [
    "comp.ConcAvailableStressCheck(f_ck=f_ck)\n",
    "comp.SteelAvailableStressCheck(Fy=Fy)\n",
    "comp.MetalDeckCheck(hr=hr,wr=wr)\n",
    "comp.ConcreteCoverAboveTopOfHeadedStudAnchorsChecks(hr=hr,t_sac=t_sac, h_stud=H_stud, Ycon=Ycon)\n",
    "comp.StudCheck(Ds=D_stud, tf=t_flange, Hs=H_stud, IsWebAlignmentWelded=False)"
   ]
  },
  {
   "cell_type": "markdown",
   "metadata": {},
   "source": [
    "### Yapım aşaması deplasman kontrolü"
   ]
  },
  {
   "cell_type": "code",
   "execution_count": 44,
   "metadata": {},
   "outputs": [
    {
     "data": {
      "text/plain": [
       "(5.02625, 1.25)"
      ]
     },
     "execution_count": 44,
     "metadata": {},
     "output_type": "execute_result"
    }
   ],
   "source": [
    "# Yapım aşaması\n",
    "W_G = comp.Calc_Load(Load=DeadLoad, GirdersSpaceLength=Laralık/10**3) + w_girder\n",
    "W_Q = comp.Calc_Load(Load=LiveLoad_c, GirdersSpaceLength=Laralık/10**3)\n",
    "W_G,W_Q"
   ]
  },
  {
   "cell_type": "code",
   "execution_count": 45,
   "metadata": {},
   "outputs": [
    {
     "data": {
      "text/plain": [
       "9.26"
      ]
     },
     "execution_count": 45,
     "metadata": {},
     "output_type": "execute_result"
    }
   ],
   "source": [
    "# Yapım aşaması sabit yüklerinden(döşeme ve çelik kiriş) kaynaklı deplasman\n",
    "delta_cdl = comp.SimpleCompositeBeamDeflection(w=W_G, Lbeam=Lbeam, I=Ix)\n",
    "delta_cdl"
   ]
  },
  {
   "cell_type": "code",
   "execution_count": 46,
   "metadata": {},
   "outputs": [
    {
     "name": "stdout",
     "output_type": "stream",
     "text": [
      "9.26 < 13.444444444444445\n"
     ]
    }
   ],
   "source": [
    "print(f\"{delta_cdl} < {(Lbeam/360)}\")"
   ]
  },
  {
   "cell_type": "code",
   "execution_count": 47,
   "metadata": {},
   "outputs": [
    {
     "name": "stdout",
     "output_type": "stream",
     "text": [
      "delta_cdl = 9.26mm < 19mm or Lbeam = 4840 < 7600mm olduğu için ters sehime gerek yoktur.\n",
      "\n"
     ]
    }
   ],
   "source": [
    "# Ters sehim miktarı\n",
    "delta_c = comp.Camber(delta_cdl=delta_cdl, Lbeam=Lbeam)"
   ]
  },
  {
   "cell_type": "code",
   "execution_count": 48,
   "metadata": {},
   "outputs": [
    {
     "data": {
      "text/plain": [
       "2.3"
      ]
     },
     "execution_count": 48,
     "metadata": {},
     "output_type": "execute_result"
    }
   ],
   "source": [
    "# Yapım aşaması hareketli yüklerinden kaynaklı deplasman\n",
    "delta_yll = comp.SimpleCompositeBeamDeflection(w=W_Q, Lbeam=Lbeam, I=Ix)\n",
    "delta_yll"
   ]
  },
  {
   "cell_type": "code",
   "execution_count": 49,
   "metadata": {},
   "outputs": [
    {
     "data": {
      "text/plain": [
       "4.61"
      ]
     },
     "execution_count": 49,
     "metadata": {},
     "output_type": "execute_result"
    }
   ],
   "source": [
    "# Yapım aşaması toplam düşey yerdeğiştirme, super dead düşey yerdeğiştirmesi yapım öncesi olmadığı için 0.0\n",
    "delta_ytl = comp.calc_Delta_TL(delta_cdl=delta_cdl, delta_sdl=0., delta_ll=delta_yll,delta_c=delta_c)\n",
    "delta_ytl"
   ]
  },
  {
   "cell_type": "code",
   "execution_count": 50,
   "metadata": {},
   "outputs": [
    {
     "data": {
      "text/plain": [
       "True"
      ]
     },
     "execution_count": 50,
     "metadata": {},
     "output_type": "execute_result"
    }
   ],
   "source": [
    "delta_ytl < Lbeam/240"
   ]
  },
  {
   "cell_type": "markdown",
   "metadata": {},
   "source": [
    "### Kompozit kirişin karakteristik eğilme momenti dayanımının belirlenmesi"
   ]
  },
  {
   "cell_type": "code",
   "execution_count": 51,
   "metadata": {},
   "outputs": [
    {
     "name": "stdout",
     "output_type": "stream",
     "text": [
      "alfa = 35.71 ≤ 3.76*(E/Fy)^0.5 = 109.69 √\n"
     ]
    }
   ],
   "source": [
    "# Kiriş enkesit kontrolü\n",
    "alfa = Hbeam/t_web\n",
    "print(f\"alfa = {round(alfa,2)} ≤ 3.76*(E/Fy)^0.5 = {round(3.76*(2*10**5/Fy)**0.5,2)} √\")"
   ]
  },
  {
   "cell_type": "code",
   "execution_count": 52,
   "metadata": {},
   "outputs": [
    {
     "name": "stdout",
     "output_type": "stream",
     "text": [
      "b_eff = 1210.0mm\n",
      "\n"
     ]
    },
    {
     "data": {
      "text/plain": [
       "1210.0"
      ]
     },
     "execution_count": 52,
     "metadata": {},
     "output_type": "execute_result"
    }
   ],
   "source": [
    "# Effektif döşeme genişliği\n",
    "b_eff = comp.EffectiveSlabWidth(L=Lbeam, Lu=Laralık)\n",
    "b_eff"
   ]
  },
  {
   "cell_type": "code",
   "execution_count": 53,
   "metadata": {},
   "outputs": [
    {
     "name": "stdout",
     "output_type": "stream",
     "text": [
      "tc = 125.0mm\n"
     ]
    },
    {
     "data": {
      "text/plain": [
       "125.0"
      ]
     },
     "execution_count": 53,
     "metadata": {},
     "output_type": "execute_result"
    }
   ],
   "source": [
    "# Stud çivisiz beton yüksekliği\n",
    "tc = comp.Calc_tc(hr=hr,Ycon=Ycon,IsParallel=True)\n",
    "tc"
   ]
  },
  {
   "cell_type": "code",
   "execution_count": 54,
   "metadata": {},
   "outputs": [
    {
     "data": {
      "text/plain": [
       "151250.0"
      ]
     },
     "execution_count": 54,
     "metadata": {},
     "output_type": "execute_result"
    }
   ],
   "source": [
    "# Stud çivisiz beton alanı\n",
    "Ac = b_eff * tc\n",
    "Ac"
   ]
  },
  {
   "cell_type": "code",
   "execution_count": 55,
   "metadata": {},
   "outputs": [
    {
     "data": {
      "text/plain": [
       "674168.0"
      ]
     },
     "execution_count": 55,
     "metadata": {},
     "output_type": "execute_result"
    }
   ],
   "source": [
    "Cs = comp.YieldBeamCapacity(fy=Fy,As=Abeam)\n",
    "Cs"
   ]
  },
  {
   "cell_type": "code",
   "execution_count": 56,
   "metadata": {},
   "outputs": [
    {
     "data": {
      "text/plain": [
       "2571250.0"
      ]
     },
     "execution_count": 56,
     "metadata": {},
     "output_type": "execute_result"
    }
   ],
   "source": [
    "Cc = comp.CrushConcCapacity(fck=f_ck,Ac=Ac)\n",
    "Cc"
   ]
  },
  {
   "cell_type": "code",
   "execution_count": 57,
   "metadata": {},
   "outputs": [
    {
     "name": "stdout",
     "output_type": "stream",
     "text": [
      "a = 32.77433155080214 mm\n",
      "Y2 = 133.61283422459894 mm\n",
      "Kompozit kiriş tam etkileşimlidir. Plastik tarafsız eksen beton döşemenin içindedir.\n",
      "φMn = φ * (min(C_conc,T_steel) * ( 0.5*Hbeam + hr + tc - 0.5*a)) \n",
      "= 0.9 * 674168.0 *  258.61 = 156913647.501\n"
     ]
    },
    {
     "data": {
      "text/plain": [
       "156.9136475"
      ]
     },
     "execution_count": 57,
     "metadata": {},
     "output_type": "execute_result"
    }
   ],
   "source": [
    "Mn_design = comp.CompositeBeamDesignFlexuralCapacity(C_conc=Cc, T_steel=Cs, Ycon=Ycon, \n",
    "                                    BeamAs=Abeam, BeamFy= Fy, Hbeam=Hbeam, t_flange=t_flange, b_flange=b_flange, \n",
    "                                    Ac = Ac, hr=hr,fck=f_ck, beff=b_eff, tc=tc, t_web=t_web)\n",
    "Mn_design/10**6"
   ]
  },
  {
   "cell_type": "code",
   "execution_count": 58,
   "metadata": {},
   "outputs": [
    {
     "name": "stdout",
     "output_type": "stream",
     "text": [
      "a = 32.77mm\n",
      "\n",
      "Y2 = 133.615mm\n",
      "\n",
      "Y1=-864.0615501519757 < 0 ==> Y1 = 0\n",
      "\n",
      "Kompozit kiriş tam etkileşimlidir. Plastik tarafsız eksen beton döşemenin içindedir.\n",
      "\n",
      "φMn = φ * Mn_slab = 0.9 * 174.353kNm = 156.918kNm\n",
      "\n",
      "Talep/Kapasite oranı = 0.19\n",
      "\n",
      "Rp = 0.75\n",
      "\n",
      "Rg = 1.0\n",
      "\n",
      "Qn = 0.5 * Asa * (fck*Ec)**0.5 = 98.244579kN\n",
      "\n",
      "Qn = 98.244579kN > Rg*Rp*Asa*Fu = 1.0*0.75*283.385*282.0 = 59.93592700000001kN ==> Qn = 59.93592700000001kN\n",
      "\n",
      "s = 115mm ≥ 114mm √\n",
      "\n",
      "s = 115mm ≤ 1200mm √\n",
      "\n",
      "s = 115mm ≤ 914mm √\n",
      "\n"
     ]
    }
   ],
   "source": [
    "Cf        = comp.Calc_Cf(Vbeam=Cs, Vcon=Cc)\n",
    "a         = comp.Calc_a(Cf =Cf, fck = comp.f_ck, b_eff = b_eff)\n",
    "Y2        = comp.Calc_Y2(Ycon =comp.Ycon, a =a)\n",
    "C_flange  = comp.Calc_Cflange(t_flange=comp.t_flange, b_flange = comp.b_flange, BeamFy=comp.Fy)\n",
    "Y1        = comp.Calc_Y1(T_steel=Cs, C_conc=Cc, C_flange=C_flange, t_flange=comp.t_flange, t_web=comp.t_web, BeamFy=comp.Fy)\n",
    "C_web     = comp.Calc_Cweb(Y1=Y1, t_flange=comp.t_flange, t_web=comp.t_web, BeamFy=comp.Fy)\n",
    "Mn_web    = comp.PTEInWebMn(T_steel=Cs, C_conc=Cc, Cflange=C_flange, Cweb=C_web, Hbeam=comp.Hbeam, t_flange=comp.t_flange, Y1=Y1, Y2=Y2)\n",
    "Mn_flange = comp.PTEInFlangeMn(C_conc=Cc, Cflange=C_flange, Hbeam=comp.Hbeam, BeamAs=comp.Abeam, BeamFy=comp.Fy, Y1=Y1, Y2=Y2)\n",
    "Mn_slab   = comp.PTEInSlabMn(Cf=Cf, Hbeam=comp.Hbeam, hr=comp.hr, tc=tc, a=a)\n",
    "Mn_design = comp.CompositeBeamDesignFlexuralCapacity2(C_conc=Cc, T_steel=Cs,Mn_web=Mn_web, Mn_slab=Mn_slab, Mn_flange=Mn_flange, Y1=Y1, t_flange=comp.t_flange, fi_b=0.9)\n",
    "\n",
    "W_superdeadload = comp.Calc_Load(Load=comp.SuperDeadLoad,GirdersSpaceLength=comp.Laralık/10**3)\n",
    "W_G_composite = W_G + W_superdeadload\n",
    "W_Q_composite = comp.Calc_Load(Load=comp.LiveLoad, GirdersSpaceLength=comp.Laralık/10**3)\n",
    "W_TL = comp.calc_w_tl(w_dl=W_G_composite, w_ll=W_Q_composite)\n",
    "M_demand = W_TL * comp.Lbeam**2 /8\n",
    "comp.CompositeBeamFlexuralCapacityCheck(M_demand=M_demand, Mn_design=Mn_design)\n",
    "\n",
    "Ec = comp.ConcreteYoungModules(fck=comp.f_ck, wc=2500)\n",
    "A_sa = 3.14 * comp.D_stud**2 /4\n",
    "Rp = comp.GetRp(Hstud = comp.H_stud, hr =comp.hr, t_studhead = 5, IsPitchParaleltoBeam=True)\n",
    "Rg = comp.GetRg(StudsNumberInFlangeWidth=2, wr=comp.wr, hr=comp.hr, IsPitchParaleltoBeam=True)\n",
    "Qn = comp.OneStudShearCapacity(Asa=A_sa, fck=comp.f_ck, Ec=Ec, Rg=Rg, Rp=Rp, Fu=comp.Fu_beam)\n",
    "N_studfullinteraction = math.ceil(Cf / Qn) * comp.Nw\n",
    "# Metal sacın kirişe dik atıldığı durumda, stud çivisi sayısını hadve boşlukları ara mesafesi belirler. örneğin hadveler arası mesafe 305mm ve 9150mm uzunluğunda bir kirişe max 30 adet atılabilir. Tam etkileşimli durumda oluyorsa bu durum çift sıraya veya kiriş arttırımına gidilmek zorunluluğu ortaya çıkar.\n",
    "\n",
    "TotalQn_fullinteraction = N_studfullinteraction*Qn\n",
    "comp.DistanceBetweenTwoStudsCheck(x=30, Ds=comp.D_stud)\n",
    "comp.StudSpaceCheck(Ds=comp.D_stud, s=115, Ycon=comp.Ycon)\n",
    "\n",
    "TotalQn = N_studfullinteraction*Qn\n",
    "n = comp.RatioYoungModules(Ec=Ec)\n",
    "Act = comp.ChengedConcToSteelArea(n=n, Ac=Ac)\n",
    "Itr = comp.Calc_I_tr(Act=Act, n=n, b_eff=b_eff, hr=comp.hr, tc=tc, hb=comp.Hbeam, Ab=comp.Abeam, Ibeam=comp.Ix) #Tam etkileşimli kompozit kiriş sehim kontrolü için kullanılır\n",
    "Ieff = comp.Calc_I_eff(Ibeam=comp.Ix, TotalQn=TotalQn_fullinteraction, Cf=Cf, Itr=Itr)\n",
    "I_real = Ieff = comp.Calc_I_real(I_eff=Ieff) #Kısmi etkileşimli kompozit kiriş sehim kontrolleri için kullanılır.\n"
   ]
  },
  {
   "cell_type": "markdown",
   "metadata": {},
   "source": [
    "### Arttırılmış düşey yükler altında eğilme momenti kapasite talebi"
   ]
  },
  {
   "cell_type": "code",
   "execution_count": 59,
   "metadata": {},
   "outputs": [
    {
     "data": {
      "text/plain": [
       "0.0"
      ]
     },
     "execution_count": 59,
     "metadata": {},
     "output_type": "execute_result"
    }
   ],
   "source": [
    "W_superdeadload = comp.Calc_Load(Load=comp.SuperDeadLoad,GirdersSpaceLength=comp.Laralık/10**3)\n",
    "W_superdeadload"
   ]
  },
  {
   "cell_type": "code",
   "execution_count": 60,
   "metadata": {},
   "outputs": [
    {
     "data": {
      "text/plain": [
       "5.02625"
      ]
     },
     "execution_count": 60,
     "metadata": {},
     "output_type": "execute_result"
    }
   ],
   "source": [
    "W_G_composite = W_G + W_superdeadload\n",
    "W_G_composite"
   ]
  },
  {
   "cell_type": "code",
   "execution_count": 61,
   "metadata": {},
   "outputs": [
    {
     "data": {
      "text/plain": [
       "2.5"
      ]
     },
     "execution_count": 61,
     "metadata": {},
     "output_type": "execute_result"
    }
   ],
   "source": [
    "W_Q_composite = comp.Calc_Load(Load=comp.LiveLoad, GirdersSpaceLength=comp.Laralık/10**3)\n",
    "W_Q_composite"
   ]
  },
  {
   "cell_type": "code",
   "execution_count": 62,
   "metadata": {},
   "outputs": [
    {
     "data": {
      "text/plain": [
       "10.031500000000001"
      ]
     },
     "execution_count": 62,
     "metadata": {},
     "output_type": "execute_result"
    }
   ],
   "source": [
    "W_TL = comp.calc_w_tl(w_dl=W_G_composite, w_ll=W_Q_composite)\n",
    "W_TL"
   ]
  },
  {
   "cell_type": "code",
   "execution_count": 63,
   "metadata": {},
   "outputs": [
    {
     "data": {
      "text/plain": [
       "29.374238300000005"
      ]
     },
     "execution_count": 63,
     "metadata": {},
     "output_type": "execute_result"
    }
   ],
   "source": [
    "# Talep eğilme momenti dayanımı\n",
    "M_demand = W_TL * comp.Lbeam**2 /8\n",
    "M_demand/10**6"
   ]
  },
  {
   "cell_type": "markdown",
   "metadata": {},
   "source": [
    "### Talep/Kapasite oranı"
   ]
  },
  {
   "cell_type": "code",
   "execution_count": 64,
   "metadata": {},
   "outputs": [
    {
     "data": {
      "text/plain": [
       "0.19"
      ]
     },
     "execution_count": 64,
     "metadata": {},
     "output_type": "execute_result"
    }
   ],
   "source": [
    "flexuralcapacityratio = round(M_demand / Mn_design,2)\n",
    "flexuralcapacityratio"
   ]
  },
  {
   "cell_type": "markdown",
   "metadata": {},
   "source": [
    "### Başlıklı çelik ankrajların sayısı ve yerleşimi"
   ]
  },
  {
   "cell_type": "code",
   "execution_count": 65,
   "metadata": {},
   "outputs": [
    {
     "data": {
      "text/plain": [
       "24037.73075812274"
      ]
     },
     "execution_count": 65,
     "metadata": {},
     "output_type": "execute_result"
    }
   ],
   "source": [
    "Ec = comp.ConcreteYoungModules(fck=comp.f_ck, wc=2500)\n",
    "Ec"
   ]
  },
  {
   "cell_type": "code",
   "execution_count": 66,
   "metadata": {},
   "outputs": [
    {
     "data": {
      "text/plain": [
       "283.385"
      ]
     },
     "execution_count": 66,
     "metadata": {},
     "output_type": "execute_result"
    }
   ],
   "source": [
    "A_sa = 3.14 * comp.D_stud**2 /4\n",
    "A_sa"
   ]
  },
  {
   "cell_type": "code",
   "execution_count": 67,
   "metadata": {},
   "outputs": [
    {
     "name": "stdout",
     "output_type": "stream",
     "text": [
      "Rg = 1.0\n",
      "\n"
     ]
    },
    {
     "data": {
      "text/plain": [
       "1.0"
      ]
     },
     "execution_count": 67,
     "metadata": {},
     "output_type": "execute_result"
    }
   ],
   "source": [
    "Rg = comp.GetRg(StudsNumberInFlangeWidth=2, wr=comp.wr, hr=comp.hr, IsPitchParaleltoBeam=comp.IsParallel)\n",
    "Rg"
   ]
  },
  {
   "cell_type": "code",
   "execution_count": 70,
   "metadata": {},
   "outputs": [
    {
     "name": "stdout",
     "output_type": "stream",
     "text": [
      "Rp = 0.75\n",
      "\n"
     ]
    },
    {
     "data": {
      "text/plain": [
       "0.75"
      ]
     },
     "execution_count": 70,
     "metadata": {},
     "output_type": "execute_result"
    }
   ],
   "source": [
    "Rp = comp.GetRp(Hstud = comp.H_stud, hr =comp.hr, t_studhead = 5, IsPitchParaleltoBeam=comp.IsParallel)\n",
    "Rp"
   ]
  },
  {
   "cell_type": "code",
   "execution_count": 71,
   "metadata": {},
   "outputs": [
    {
     "name": "stdout",
     "output_type": "stream",
     "text": [
      "Qn = 0.5 * Asa * (fck*Ec)**0.5 = 98.244579kN\n",
      "\n",
      "Qn = 98.244579kN > Rg*Rp*Asa*Fu = 1.0*0.75*283.385*282.0 = 59.93592700000001kN ==> Qn = 59.93592700000001kN\n",
      "\n"
     ]
    },
    {
     "data": {
      "text/plain": [
       "59935.927"
      ]
     },
     "execution_count": 71,
     "metadata": {},
     "output_type": "execute_result"
    }
   ],
   "source": [
    "Qn = comp.OneStudShearCapacity(Asa=A_sa, fck=comp.f_ck, Ec=Ec, Rg=Rg, Rp=Rp, Fu=comp.Fu_beam)\n",
    "Qn"
   ]
  },
  {
   "cell_type": "code",
   "execution_count": 72,
   "metadata": {},
   "outputs": [
    {
     "data": {
      "text/plain": [
       "(674168.0, 2571250.0)"
      ]
     },
     "execution_count": 72,
     "metadata": {},
     "output_type": "execute_result"
    }
   ],
   "source": [
    "Cs,Cc"
   ]
  },
  {
   "cell_type": "code",
   "execution_count": 73,
   "metadata": {},
   "outputs": [
    {
     "data": {
      "text/plain": [
       "674168.0"
      ]
     },
     "execution_count": 73,
     "metadata": {},
     "output_type": "execute_result"
    }
   ],
   "source": [
    "# Tam etkileşimli olduğu için\n",
    "C = min(Cs,Cc)\n",
    "C"
   ]
  },
  {
   "cell_type": "code",
   "execution_count": 74,
   "metadata": {},
   "outputs": [
    {
     "data": {
      "text/plain": [
       "674168.0"
      ]
     },
     "execution_count": 74,
     "metadata": {},
     "output_type": "execute_result"
    }
   ],
   "source": [
    "V_üs = C\n",
    "V_üs"
   ]
  },
  {
   "cell_type": "code",
   "execution_count": 75,
   "metadata": {},
   "outputs": [
    {
     "data": {
      "text/plain": [
       "24"
      ]
     },
     "execution_count": 75,
     "metadata": {},
     "output_type": "execute_result"
    }
   ],
   "source": [
    "#  Başlık 2 şerli olarak kullanılması öngörüldüğü için 2 ile çarpılarak maksimum moment ile eğilme momentinin sıfır olduğu en yakın nokta (mesnet) arasında kullanılacak çelik ankraj sayısı\n",
    "\n",
    "N_studfullinteraction = math.ceil(V_üs / Qn) * 2\n",
    "N_studfullinteraction"
   ]
  },
  {
   "cell_type": "markdown",
   "metadata": {},
   "source": [
    "### Kısmi etkileşimli kabul edilip kompozitlik derecesi %25 alınırsa"
   ]
  },
  {
   "cell_type": "code",
   "execution_count": 76,
   "metadata": {},
   "outputs": [
    {
     "data": {
      "text/plain": [
       "168542.0"
      ]
     },
     "execution_count": 76,
     "metadata": {},
     "output_type": "execute_result"
    }
   ],
   "source": [
    "TotalQn = C*0.25\n",
    "TotalQn"
   ]
  },
  {
   "cell_type": "code",
   "execution_count": 77,
   "metadata": {},
   "outputs": [
    {
     "data": {
      "text/plain": [
       "6"
      ]
     },
     "execution_count": 77,
     "metadata": {},
     "output_type": "execute_result"
    }
   ],
   "source": [
    "N_studpartialinteraction = math.ceil(TotalQn / Qn)*2\n",
    "N_studpartialinteraction"
   ]
  },
  {
   "cell_type": "code",
   "execution_count": 78,
   "metadata": {},
   "outputs": [
    {
     "name": "stdout",
     "output_type": "stream",
     "text": [
      "a = 8.193582887700535 mm\n",
      "Y2 = 145.90320855614974 mm\n",
      "Kompozit kiriş kısmi etkileşimlidir. Kompozitlik oranı %25'in altına inmemelidir.\n",
      "\n",
      "Basınç bloğu başlıkta kabul edilirse; Y1(veya tf') = 10.76 mm\n",
      "PTE kiriş gövdesindedir.Çelikteki basınç derinliği(Y1 veya tf') yeniden hesaplanacak...\n",
      "Cflange = b_flange * t_flange * Fy = 199750.0 N\n",
      "Y1 = ((T_steel - C_conc - 2*Cflange) / (2*t_web*Fy)) + t_flange = 48.82142857142857mm\n",
      "Cweb = t_web * Fy * (Y1 - t_flange) = 53063.0 N\n",
      "φMn = φ * (C_conc*(Y1+Y2) + 2*Cflange*(Y1 - 0.5*t_flange) + 2*Cweb*(0.5*(Y1-t_flange)) + T_steel*(0.5*Hbeam-Y1)) = 0.9 * [32819279.791 + 17806285.714 + 2139575.964 + 34502955.143] = 78541286.951 \n"
     ]
    },
    {
     "data": {
      "text/plain": [
       "78.54128695"
      ]
     },
     "execution_count": 78,
     "metadata": {},
     "output_type": "execute_result"
    }
   ],
   "source": [
    "Mn_design2 = comp.CompositeBeamDesignFlexuralCapacity(C_conc=TotalQn,T_steel=Cs,Ycon=comp.Ycon, \n",
    "                                    BeamAs=comp.Abeam, BeamFy= comp.Fy, Hbeam=comp.Hbeam, t_flange=comp.t_flange, b_flange=comp.b_flange, \n",
    "                                    Ac = Ac, hr=comp.hr,fck=comp.f_ck, beff=b_eff, tc=tc, t_web=comp.t_web)\n",
    "Mn_design2/10**6"
   ]
  },
  {
   "cell_type": "code",
   "execution_count": 79,
   "metadata": {},
   "outputs": [
    {
     "data": {
      "text/plain": [
       "0.3739974151263892"
      ]
     },
     "execution_count": 79,
     "metadata": {},
     "output_type": "execute_result"
    }
   ],
   "source": [
    "M_demand/Mn_design2"
   ]
  },
  {
   "cell_type": "markdown",
   "metadata": {},
   "source": [
    "### Kesit atalet momentleri"
   ]
  },
  {
   "cell_type": "code",
   "execution_count": 80,
   "metadata": {},
   "outputs": [
    {
     "data": {
      "text/plain": [
       "8.32"
      ]
     },
     "execution_count": 80,
     "metadata": {},
     "output_type": "execute_result"
    }
   ],
   "source": [
    "# Elastisite oranları\n",
    "n = comp.RatioYoungModules(Ec=Ec)\n",
    "n"
   ]
  },
  {
   "cell_type": "code",
   "execution_count": 81,
   "metadata": {},
   "outputs": [
    {
     "data": {
      "text/plain": [
       "18179.087"
      ]
     },
     "execution_count": 81,
     "metadata": {},
     "output_type": "execute_result"
    }
   ],
   "source": [
    "# Dönüştürülmüş alan\n",
    "Act = comp.ChengedConcToSteelArea(n=n, Ac=Ac)\n",
    "Act"
   ]
  },
  {
   "cell_type": "code",
   "execution_count": 82,
   "metadata": {},
   "outputs": [
    {
     "data": {
      "text/plain": [
       "154958220.48821288"
      ]
     },
     "execution_count": 82,
     "metadata": {},
     "output_type": "execute_result"
    }
   ],
   "source": [
    "# Dönüştürülmüş kesitin atalet momenti\n",
    "Itr = comp.Calc_I_tr(Act=Act, n=n, b_eff=b_eff, hr=comp.hr, tc=tc, hb=comp.Hbeam, Ab=comp.Abeam, Ibeam=comp.Ix)\n",
    "Itr"
   ]
  },
  {
   "cell_type": "code",
   "execution_count": 83,
   "metadata": {},
   "outputs": [
    {
     "data": {
      "text/plain": [
       "87179110.24410644"
      ]
     },
     "execution_count": 83,
     "metadata": {},
     "output_type": "execute_result"
    }
   ],
   "source": [
    "# Effektif atalet moementi\n",
    "Ieff = comp.Calc_I_eff(Ibeam=comp.Ix, TotalQn=TotalQn, Cf=Cf, Itr=Itr)\n",
    "Ieff"
   ]
  },
  {
   "cell_type": "code",
   "execution_count": 84,
   "metadata": {},
   "outputs": [
    {
     "data": {
      "text/plain": [
       "65384332.68307983"
      ]
     },
     "execution_count": 84,
     "metadata": {},
     "output_type": "execute_result"
    }
   ],
   "source": [
    "# Gerçek atalet momenti\n",
    "I_real = Ieff = comp.Calc_I_real(I_eff=Ieff)\n",
    "I_real"
   ]
  },
  {
   "cell_type": "code",
   "execution_count": null,
   "metadata": {},
   "outputs": [],
   "source": []
  }
 ],
 "metadata": {
  "kernelspec": {
   "display_name": "Python 3",
   "language": "python",
   "name": "python3"
  },
  "language_info": {
   "codemirror_mode": {
    "name": "ipython",
    "version": 3
   },
   "file_extension": ".py",
   "mimetype": "text/x-python",
   "name": "python",
   "nbconvert_exporter": "python",
   "pygments_lexer": "ipython3",
   "version": "3.12.3"
  }
 },
 "nbformat": 4,
 "nbformat_minor": 2
}
